{
 "cells": [
  {
   "cell_type": "markdown",
   "id": "da46b454",
   "metadata": {},
   "source": [
    "# V10: Bringing it all together\n",
    "\n",
    "Here we will be writing a code using everything that we have learned so far.\n",
    "\n"
   ]
  },
  {
   "cell_type": "markdown",
   "id": "ee753a42",
   "metadata": {},
   "source": [
    "## Example 1: Bringing it all together (1)\n",
    "This is awesome! You have now learned how to write anonymous functions using lambda, how to pass lambda functions as arguments to other functions such as map(), filter(), and reduce(), as well as how to write errors and output custom error messages within your functions. You will now put together these learnings to good use by working with a Twitter dataset. Before practicing your new error handling skills; in this exercise, you will write a lambda function and use filter() to select retweets, that is, tweets that begin with the string 'RT'.\n",
    "\n",
    "To help you accomplish this, the Twitter data has been imported into the DataFrame, tweets_df. Go for it!\n",
    "\n",
    "### Steps:\n",
    "\n",
    "1. In the filter() call, pass a lambda function and the sequence of tweets as strings, tweets_df['text']. The lambda function should check if the first 2 characters in a tweet x are 'RT'. Assign the resulting filter object to result. To get the first 2 characters in a tweet x, use x[0:2]. To check equality, use a Boolean filter with ==.\n",
    "2. Convert result to a list and print out the list."
   ]
  },
  {
   "cell_type": "code",
   "execution_count": 1,
   "id": "0a63a858",
   "metadata": {},
   "outputs": [
    {
     "name": "stdout",
     "output_type": "stream",
     "text": [
      "[\"RT @bpolitics: .@krollbondrating's Christopher Whalen says Clinton is the weakest Dem candidate in 50 years https://t.co/pLk7rvoRSn https:/…\", 'RT @HeidiAlpine: @dmartosko Cruz video found.....racing from the scene.... #cruzsexscandal https://t.co/zuAPZfQDk3', 'RT @AlanLohner: The anti-American D.C. elites despise Trump for his America-first foreign policy. Trump threatens their gravy train. https:…', 'RT @BIackPplTweets: Young Donald trump meets his neighbor  https://t.co/RFlu17Z1eE', 'RT @trumpresearch: @WaitingInBagdad @thehill Trump supporters have selective amnisia.', 'RT @HouseCracka: 29,000+ PEOPLE WATCHING TRUMP LIVE ON ONE STREAM!!!\\n\\nhttps://t.co/7QCFz9ehNe', 'RT @urfavandtrump: RT for Brendon Urie\\nFav for Donald Trump https://t.co/PZ5vS94lOg', 'RT @trapgrampa: This is how I see #Trump every time he speaks. https://t.co/fYSiHNS0nT', 'RT @trumpresearch: @WaitingInBagdad @thehill Trump supporters have selective amnisia.', 'RT @Pjw20161951: NO KIDDING: #SleazyDonald just attacked Scott Walker for NOT RAISING TAXES in WI! #LyinTrump\\n#NeverTrump  #CruzCrew  https…', 'RT @urfavandtrump: RT for Brendon Urie\\nFav for Donald Trump https://t.co/PZ5vS94lOg', 'RT @ggreenwald: The media spent all day claiming @SusanSarandon said she might vote for Trump. A total fabrication, but whatever... https:/…', 'RT @Pjw20161951: NO KIDDING: #SleazyDonald just attacked Scott Walker for NOT RAISING TAXES in WI! #LyinTrump\\n#NeverTrump  #CruzCrew  https…', 'RT @trapgrampa: This is how I see #Trump every time he speaks. https://t.co/fYSiHNS0nT', 'RT @mitchellvii: So let me get this straight.  Any reporter can assault Mr Trump at any time and Corey can do nothing?  Michelle is clearly…', 'RT @paulbenedict7: How #Trump Sacks RINO Strongholds by Hitting Positions Held by Dems and GOP https://t.co/D7ulnAJhis   #tcot #PJNET https…', 'RT @DRUDGE_REPORT: VIDEO:  Trump emotional moment with Former Miss Wisconsin who has terminal illness... https://t.co/qt06aG9inT', 'RT @ggreenwald: The media spent all day claiming @SusanSarandon said she might vote for Trump. A total fabrication, but whatever... https:/…', \"RT @DennisApgar: Thank God I seen Trump at first stop in Wisconsin media doesn't know how great he is, advice watch live streaming https://…\", 'RT @paulbenedict7: How #Trump Sacks RINO Strongholds by Hitting Positions Held by Dems and GOP https://t.co/D7ulnAJhis   #tcot #PJNET https…', 'RT @DRUDGE_REPORT: VIDEO:  Trump emotional moment with Former Miss Wisconsin who has terminal illness... https://t.co/qt06aG9inT', \"RT @DennisApgar: Thank God I seen Trump at first stop in Wisconsin media doesn't know how great he is, advice watch live streaming https://…\", 'RT @mitchellvii: So let me get this straight.  Any reporter can assault Mr Trump at any time and Corey can do nothing?  Michelle is clearly…', \"RT @sciam: Trump's idiosyncratic patterns of speech are why people tend either to love or hate him https://t.co/QXwquVgs3c https://t.co/P9N…\", 'RT @Norsu2: Nightmare WI poll for Ted Cruz has Kasich surging: Trump 29, Kasich 27, Cruz 25. https://t.co/lJsgbLYY1P #NeverTrump', 'RT @thehill: WATCH: Protester pepper-sprayed point blank at Trump rally https://t.co/B5f65Al9ld https://t.co/skAfByXuQc', \"RT @sciam: Trump's idiosyncratic patterns of speech are why people tend either to love or hate him https://t.co/QXwquVgs3c https://t.co/P9N…\", 'RT @ggreenwald: The media spent all day claiming @SusanSarandon said she might vote for Trump. A total fabrication, but whatever... https:/…', \"RT @DebbieStout5: Wow! Last I checked it was just 12 points &amp; that wasn't more than a day ago. Oh boy Trump ppl might want to rethink🤔 http…\", \"RT @tyleroakley: i'm a messy bitch, but at least i'm not voting for trump\", \"RT @vandives: Trump supporters r tired of justice NOT being served. There's no justice anymore. Hardworking Americans get screwed. That's n…\", 'RT @AP: BREAKING: Trump vows to stand by campaign manager charged with battery, says he does not discard people.', 'RT @AP: BREAKING: Trump vows to stand by campaign manager charged with battery, says he does not discard people.', 'RT @urfavandtrump: RT for Jerrie (Little Mix)\\nFav for Donald Trump https://t.co/nEVxElW6iG', 'RT @urfavandtrump: RT for Jerrie (Little Mix)\\nFav for Donald Trump https://t.co/nEVxElW6iG', 'RT @NoahCRothman: When Walker was fighting for reforms, Trump was defending unions and collective bargaining privileges https://t.co/e1UWNN…', 'RT @RedheadAndRight: Report: Secret Service Says Michelle Fields Touched Trump https://t.co/c5c2sD8VO2\\n\\nThis is the only article you will n…', 'RT @AIIAmericanGirI: VIDEO=&gt; Anti-Trump Protester SLUGS Elderly Trump Supporter in the Face\\nhttps://t.co/GeEryMDuDY', 'RT @NoahCRothman: When Walker was fighting for reforms, Trump was defending unions and collective bargaining privileges https://t.co/e1UWNN…', 'RT @JusticeRanger1: @realDonaldTrump @Pudingtane @DanScavino @GOP @infowars @EricTrump \\nURGENT PUBLIC TRUMP ALERT:\\nCOVERT KILL MEANS https:…', 'RT @AIIAmericanGirI: VIDEO=&gt; Anti-Trump Protester SLUGS Elderly Trump Supporter in the Face\\nhttps://t.co/GeEryMDuDY', 'RT @RedheadAndRight: Report: Secret Service Says Michelle Fields Touched Trump https://t.co/c5c2sD8VO2\\n\\nThis is the only article you will n…', 'RT @JusticeRanger1: @realDonaldTrump @Pudingtane @DanScavino @GOP @infowars @EricTrump \\nURGENT PUBLIC TRUMP ALERT:\\nCOVERT KILL MEANS https:…', 'RT @Schneider_CM: Trump says nobody had ever heard of executive orders before Obama started signing them. Never heard of the Emancipation P…', 'RT @RonBasler1: @DavidWhitDennis @realDonaldTrump @tedcruz \\n\\nCRUZ SCREWS HOOKERS\\n\\nCRUZ / CLINTON', 'RT @DonaldsAngel: Former Ms. WI just said that she is terminally ill but because of Trump pageant, her 7 yr. old son has his college educat…', 'RT @Schneider_CM: Trump says nobody had ever heard of executive orders before Obama started signing them. Never heard of the Emancipation P…', 'RT @DonaldsAngel: Former Ms. WI just said that she is terminally ill but because of Trump pageant, her 7 yr. old son has his college educat…', 'RT @Dodarey: @DR8801 @SykesCharlie Charlie, let\\'s see you get a straight \"yes\" or \"no\" answer from Cruz a/b being unfaithful to his wife @T…', 'RT @RonBasler1: @DavidWhitDennis @realDonaldTrump @tedcruz \\n\\nCRUZ SCREWS HOOKERS\\n\\nCRUZ / CLINTON', 'RT @RockCliffOne: Remember when the idea of a diabolical moron holding the world hostage was an idea for a funny movie? #Trump #GOP https:/…', 'RT @HillaryClinton: \"Every day, another Republican bemoans the rise of Donald Trump... but [he] didn’t come out of nowhere.\" —Hillary\\nhttps…', 'RT @Dodarey: @DR8801 @SykesCharlie Charlie, let\\'s see you get a straight \"yes\" or \"no\" answer from Cruz a/b being unfaithful to his wife @T…', 'RT @HillaryClinton: \"Every day, another Republican bemoans the rise of Donald Trump... but [he] didn’t come out of nowhere.\" —Hillary\\nhttps…', 'RT @RockCliffOne: Remember when the idea of a diabolical moron holding the world hostage was an idea for a funny movie? #Trump #GOP https:/…', 'RT @immigrant4trump: @immigrant4trump msm, cable news attacking trump all day, from 8am to 10pm today, then the reruns come on, repeating t…', 'RT @immigrant4trump: @immigrant4trump msm, cable news attacking trump all day, from 8am to 10pm today, then the reruns come on, repeating t…', 'RT @GlendaJazzey: Donald Trump’s Campaign Financing Dodge, @rrotunda https://t.co/L8flI4lswG via @VerdictJustia', 'RT @TUSK81: LOUDER FOR THE PEOPLE IN THE BACK https://t.co/hlPVyNLXzx', 'RT @loopzoop: Well...put it back https://t.co/8Yb7BDT5VM', 'RT @claytoncubitt: Stop asking Bernie supporters if they’ll vote for Hillary against Trump. We got a plan to beat Trump already. Called Ber…', \"RT @akaMaude13: Seriously can't make this up. What a joke. #NeverTrump  https://t.co/JkTx6mdRgC\"]\n"
     ]
    }
   ],
   "source": [
    "import pandas as pd\n",
    "import numpy as np\n",
    "\n",
    "tweets_df = pd.read_csv('tweets.csv')\n",
    "\n",
    "str_filter = filter( lambda a: a[0:2] == 'RT', tweets_df['text'])\n",
    "\n",
    "\n",
    "print(list(str_filter))\n"
   ]
  },
  {
   "cell_type": "markdown",
   "id": "c3cc76d4",
   "metadata": {},
   "source": [
    "## Example 2: Bringing it all together (2)\n",
    "Sometimes, we make mistakes when calling functions - even ones you made yourself. But don't fret! In this exercise, you will improve on your previous work with the count_entries() function in the last chapter by adding a try-except block to it. This will allow your function to provide a helpful message when the user calls your count_entries() function but provides a column name that isn't in the DataFrame.\n",
    "\n",
    "Once again, for your convenience, pandas has been imported as pd and the 'tweets.csv' file has been imported into the DataFrame tweets_df. Parts of the code from your previous work are also provided.\n",
    "\n",
    "### Steps:\n",
    "\n",
    "1. Add a try block so that when the function is called with the correct arguments, it processes the DataFrame and returns a dictionary of results.\n",
    "2. Add an except block so that when the function is called incorrectly, it displays the following error message: 'The DataFrame does not have a ' + col_name + ' column.'.\n",
    "\n"
   ]
  },
  {
   "cell_type": "code",
   "execution_count": 2,
   "id": "6ea46e31",
   "metadata": {},
   "outputs": [
    {
     "name": "stdout",
     "output_type": "stream",
     "text": [
      "LANGUA columns is not in tweeter's dataframe\n"
     ]
    }
   ],
   "source": [
    "def count_entries(df, col = 'lang'):\n",
    "    '''This function is to count entries in different columns.'''\n",
    "    col_entries = {} \n",
    "    try:\n",
    "        \n",
    "        for entry in tweets_df[col]:\n",
    "            print('Hi')\n",
    "            if entry in col_entries.keys():\n",
    "                \n",
    "                col_entries[entry] += 1\n",
    "                \n",
    "            else:\n",
    "                \n",
    "                col_entries[entry] = 1\n",
    "                \n",
    "        return col_entries\n",
    "                \n",
    "    except:\n",
    "        \n",
    "        print(col.upper() + ' columns is not in tweeter\\'s dataframe')\n",
    "\n",
    "#list(tweets_df.columns.values)\n",
    "\n",
    "\n",
    "result= count_entries(tweets_df, 'langua')\n",
    "\n",
    "\n",
    "#print(result)"
   ]
  },
  {
   "cell_type": "markdown",
   "id": "44df8108",
   "metadata": {},
   "source": [
    "## Example 3: Bringing it all together (3)\n",
    "In the previous exercise, you built on your function count_entries() to add a try-except block. This was so that users would get helpful messages when calling your count_entries() function and providing a column name that isn't in the DataFrame. In this exercise, you'll instead raise a ValueError in the case that the user provides a column name that isn't in the DataFrame.\n",
    "\n",
    "Once again, for your convenience, pandas has been imported as pd and the 'tweets.csv' file has been imported into the DataFrame tweets_df. Parts of the code from your previous work are also provided.\n",
    "\n",
    "### Steps: \n",
    "1. If col_name is not a column in the DataFrame df, raise a ValueError 'The DataFrame does not have a ' + col_name + ' column.'.\n",
    "2. Call your new function count_entries() to analyze the 'lang' column of tweets_df. Store the result in result1.\n",
    "3. Print result1. This has been done for you, so hit 'Submit Answer' to check out the result. In the next exercise, you'll see that it raises the necessary ValueErrors."
   ]
  },
  {
   "cell_type": "code",
   "execution_count": 3,
   "id": "ba9e8c21",
   "metadata": {},
   "outputs": [
    {
     "ename": "ValueError",
     "evalue": "The DataFrame is not having Column name langua",
     "output_type": "error",
     "traceback": [
      "\u001b[1;31m---------------------------------------------------------------------------\u001b[0m",
      "\u001b[1;31mValueError\u001b[0m                                Traceback (most recent call last)",
      "\u001b[1;32m~\\AppData\\Local\\Temp\\ipykernel_4372\\1899685345.py\u001b[0m in \u001b[0;36m<module>\u001b[1;34m\u001b[0m\n\u001b[0;32m     19\u001b[0m     \u001b[1;32mreturn\u001b[0m \u001b[0mcount_cols\u001b[0m\u001b[1;33m\u001b[0m\u001b[1;33m\u001b[0m\u001b[0m\n\u001b[0;32m     20\u001b[0m \u001b[1;33m\u001b[0m\u001b[0m\n\u001b[1;32m---> 21\u001b[1;33m \u001b[0mcount_entries\u001b[0m\u001b[1;33m(\u001b[0m\u001b[0mtweets_df\u001b[0m\u001b[1;33m,\u001b[0m \u001b[1;34m'langua'\u001b[0m\u001b[1;33m)\u001b[0m\u001b[1;33m\u001b[0m\u001b[1;33m\u001b[0m\u001b[0m\n\u001b[0m",
      "\u001b[1;32m~\\AppData\\Local\\Temp\\ipykernel_4372\\1899685345.py\u001b[0m in \u001b[0;36mcount_entries\u001b[1;34m(df, col_name)\u001b[0m\n\u001b[0;32m     15\u001b[0m     \u001b[1;32melse\u001b[0m\u001b[1;33m:\u001b[0m\u001b[1;33m\u001b[0m\u001b[1;33m\u001b[0m\u001b[0m\n\u001b[0;32m     16\u001b[0m         \u001b[1;31m#print('DF is not')\u001b[0m\u001b[1;33m\u001b[0m\u001b[1;33m\u001b[0m\u001b[0m\n\u001b[1;32m---> 17\u001b[1;33m         \u001b[1;32mraise\u001b[0m \u001b[0mValueError\u001b[0m\u001b[1;33m(\u001b[0m\u001b[1;34m'The DataFrame is not having Column name '\u001b[0m \u001b[1;33m+\u001b[0m \u001b[0mstr\u001b[0m\u001b[1;33m(\u001b[0m\u001b[0mcol_name\u001b[0m\u001b[1;33m)\u001b[0m\u001b[1;33m)\u001b[0m\u001b[1;33m\u001b[0m\u001b[1;33m\u001b[0m\u001b[0m\n\u001b[0m\u001b[0;32m     18\u001b[0m \u001b[1;33m\u001b[0m\u001b[0m\n\u001b[0;32m     19\u001b[0m     \u001b[1;32mreturn\u001b[0m \u001b[0mcount_cols\u001b[0m\u001b[1;33m\u001b[0m\u001b[1;33m\u001b[0m\u001b[0m\n",
      "\u001b[1;31mValueError\u001b[0m: The DataFrame is not having Column name langua"
     ]
    }
   ],
   "source": [
    "def count_entries(df, col_name = 'lang'):\n",
    "    count_cols = {}\n",
    "    \n",
    "    \n",
    "    if col_name in df.columns:\n",
    "        \n",
    "        col = df[col_name]\n",
    "        \n",
    "        for entry in col:\n",
    "            if entry in col.keys():\n",
    "                count_cols[entry] +=1\n",
    "            else:\n",
    "                count_cols[entry] = 1\n",
    "    \n",
    "    else:\n",
    "        #print('DF is not')\n",
    "        raise ValueError('The DataFrame is not having Column name ' + str(col_name))\n",
    "    \n",
    "    return count_cols\n",
    "\n",
    "count_entries(tweets_df, 'langua')"
   ]
  },
  {
   "cell_type": "markdown",
   "id": "31786f8c",
   "metadata": {},
   "source": [
    "## Example 4: Bringing it all together: testing your error handling skills\n",
    "You have just written error handling into your count_entries() function so that, when the user passes the function a column (as 2nd argument) NOT contained in the DataFrame (1st argument), a ValueError is thrown. You're now going to play with this function: it is loaded into pre-exercise code, as is the DataFrame tweets_df. Try calling count_entries(tweets_df, 'lang') to confirm that the function behaves as it should. Then call count_entries(tweets_df, 'lang1'): what is the last line of the output?\n",
    "\n",
    "### Find correct answer from below:\n",
    "Possible Answers\n",
    "\n",
    "1. 'ValueError: The DataFrame does not have the requested column.'\n",
    "\n",
    "2. 'ValueError: The DataFrame does not have a lang1 column.'\n",
    "\n",
    "3. 'TypeError: The DataFrame does not have the requested column.'"
   ]
  },
  {
   "cell_type": "markdown",
   "id": "0a8c960f",
   "metadata": {},
   "source": [
    "#### Ans : 'ValueError: The DataFrame does not have a lang1 column.'"
   ]
  }
 ],
 "metadata": {
  "kernelspec": {
   "display_name": "Python 3 (ipykernel)",
   "language": "python",
   "name": "python3"
  },
  "language_info": {
   "codemirror_mode": {
    "name": "ipython",
    "version": 3
   },
   "file_extension": ".py",
   "mimetype": "text/x-python",
   "name": "python",
   "nbconvert_exporter": "python",
   "pygments_lexer": "ipython3",
   "version": "3.9.13"
  }
 },
 "nbformat": 4,
 "nbformat_minor": 5
}
