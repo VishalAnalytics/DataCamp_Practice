{
 "cells": [
  {
   "cell_type": "markdown",
   "id": "adf9ffee",
   "metadata": {},
   "source": [
    "# V3: Bringing it all together for User Defined Functions:\n",
    "\n",
    "* We have learned how we can pass values and how functions will return them using Tuples.\n",
    "\n"
   ]
  },
  {
   "cell_type": "markdown",
   "id": "1578dd64",
   "metadata": {},
   "source": [
    "## Example 1: Bringing it all together (1)\n",
    "You've got your first taste of writing your own functions in the previous exercises. You've learned how to add parameters to your own function definitions, return a value or multiple values with tuples, and how to call the functions you've defined.\n",
    "\n",
    "In this and the following exercise, you will bring together all these concepts and apply them to a simple data science problem. You will load a dataset and develop functionalities to extract simple insights from the data.\n",
    "\n",
    "For this exercise, your goal is to recall how to load a dataset into a DataFrame. The dataset contains Twitter data and you will iterate over entries in a column to build a dictionary in which the keys are the names of languages and the values are the number of tweets in the given language. The file tweets.csv is available in your current directory.\n",
    "\n",
    "Be aware that this is real data from Twitter and as such there is always a risk that it may contain profanity or other offensive content (in this exercise, and any following exercises that also use real Twitter data).\n",
    "\n",
    "### Steps:\n",
    "\n",
    "1. Import the pandas package with the alias pd.\n",
    "2. Import the file 'tweets.csv' using the pandas function read_csv(). Assign the resulting DataFrame to df.\n",
    "3. Complete the for loop by iterating over col, the 'lang' column in the DataFrame df.\n",
    "4. Complete the bodies of the if-else statements in the for loop: if the key is in the dictionary langs_count, add 1 to the value corresponding to this key in the dictionary, else add the key to langs_count and set the corresponding value to 1. Use the loop variable entry in your code."
   ]
  },
  {
   "cell_type": "code",
   "execution_count": 1,
   "id": "1a563b34",
   "metadata": {},
   "outputs": [
    {
     "name": "stdout",
     "output_type": "stream",
     "text": [
      "{'en': 97, 'et': 1, 'und': 2}\n"
     ]
    }
   ],
   "source": [
    "# Import pandas\n",
    "import pandas as pd\n",
    "\n",
    "# Import Twitter data as DataFrame: df\n",
    "df = pd.read_csv('tweets.csv')\n",
    "\n",
    "# Initialize an empty dictionary: langs_count\n",
    "langs_count = {}\n",
    "\n",
    "# Extract column from DataFrame: col\n",
    "col = df['lang']\n",
    "\n",
    "# Iterate over lang column in DataFrame\n",
    "for entry in col:\n",
    "    # print(langs_count.keys(), '  -   ', langs_count.values())\n",
    "    \n",
    "    # If the language is in langs_count, add 1 \n",
    "    if entry in langs_count.keys():\n",
    "        langs_count[entry] = langs_count[entry] +1\n",
    "    # Else add the language to langs_count, set the value to 1\n",
    "    else:\n",
    "        langs_count[entry] = 1\n",
    "        \n",
    "\n",
    "# Print the populated dictionary\n",
    "print(langs_count)"
   ]
  },
  {
   "cell_type": "markdown",
   "id": "c7d24c07",
   "metadata": {},
   "source": [
    "## Example 2: Bringing it all together (2)\n",
    "Great job! You've now defined the functionality for iterating over entries in a column and building a dictionary with keys the names of languages and values the number of tweets in the given language.\n",
    "\n",
    "In this exercise, you will define a function with the functionality you developed in the previous exercise, return the resulting dictionary from within the function, and call the function with the appropriate arguments.\n",
    "\n",
    "For your convenience, the pandas package has been imported as pd and the 'tweets.csv' file has been imported into the tweets_df variable.\n",
    "\n",
    "### Steps: \n",
    "\n",
    "1. Define the function count_entries(), which has two parameters. The first parameter is df for the DataFrame and the second is col_name for the column name.\n",
    "2. Complete the bodies of the if-else statements in the for loop: if the key is in the dictionary langs_count, add 1 to its current value, else add the key to langs_count and set its value to 1. Use the loop variable entry in your code.\n",
    "3. Return the langs_count dictionary from inside the count_entries() function.\n",
    "4. Call the count_entries() function by passing to it tweets_df and the name of the column, 'lang'. Assign the result of the call to the variable result."
   ]
  },
  {
   "cell_type": "code",
   "execution_count": 10,
   "id": "50ef17fd",
   "metadata": {},
   "outputs": [
    {
     "name": "stdout",
     "output_type": "stream",
     "text": [
      "From Function:  created_at \n",
      "\n",
      "\n",
      "\n",
      "\n",
      "\n",
      "This result for  created_at \n",
      " {'Tue Mar 29 23:40:17 +0000 2016': 13, 'Tue Mar 29 23:40:18 +0000 2016': 53, 'Tue Mar 29 23:40:19 +0000 2016': 34}\n",
      "From Function:  filter_level \n",
      "\n",
      "\n",
      "\n",
      "\n",
      "\n",
      "This result for  filter_level \n",
      " {'low': 100}\n",
      "From Function:  in_reply_to_screen_name \n",
      "\n",
      "\n",
      "\n",
      "\n",
      "\n",
      "This result for  in_reply_to_screen_name \n",
      " {nan: 89, 'footlooseracer': 1, 'jbrading': 2, 'realDonaldTrump': 4, 'KyleTaylorLucas': 2, 'noreallyhowcome': 1, 'marklevinshow': 1}\n",
      "From Function:  lang \n",
      "\n",
      "\n",
      "\n",
      "\n",
      "\n",
      "This result for  lang \n",
      " {'en': 97, 'et': 1, 'und': 2}\n",
      "From Function:  place \n",
      "\n",
      "\n",
      "\n",
      "\n",
      "\n",
      "This result for  place \n",
      " {nan: 97, \"{'id': '736dc4af8e68929c', 'country': 'United States', 'bounding_box': {'type': 'Polygon', 'coordinates': [[[-95.904492, 35.907134], [-95.904492, 36.017384], [-95.851283, 36.017384], [-95.851283, 35.907134]]]}, 'full_name': 'Bixby, OK', 'name': 'Bixby', 'place_type': 'city', 'url': 'https://api.twitter.com/1.1/geo/id/736dc4af8e68929c.json', 'country_code': 'US', 'attributes': {}}\": 2, \"{'id': '4723507d8ce23a60', 'country': 'United States', 'bounding_box': {'type': 'Polygon', 'coordinates': [[[-117.243028, 41.987982], [-117.243028, 49.001121], [-111.043497, 49.001121], [-111.043497, 41.987982]]]}, 'full_name': 'Idaho, USA', 'name': 'Idaho', 'place_type': 'admin', 'url': 'https://api.twitter.com/1.1/geo/id/4723507d8ce23a60.json', 'country_code': 'US', 'attributes': {}}\": 1}\n",
      "From Function:  possibly_sensitive \n",
      "\n",
      "\n",
      "\n",
      "\n",
      "\n",
      "This result for  possibly_sensitive \n",
      " {False: 70, nan: 28, True: 2}\n"
     ]
    }
   ],
   "source": [
    "import pandas as pd\n",
    "tweets_df = pd.read_csv('tweets.csv')\n",
    "\n",
    "\n",
    "def count_entries(df, col_name):\n",
    "    \"\"\"Return a dictionary with counts of \n",
    "    occurrences as value for each key.\"\"\"\n",
    "    distinct_count = {}\n",
    "    \n",
    "    print('From Function: ' , col_name, '\\n\\n')\n",
    "    \n",
    "    \n",
    "    for entry in df[col_name]:\n",
    "        \n",
    "        if entry in distinct_count.keys():\n",
    "            distinct_count[entry] += 1\n",
    "        else:\n",
    "            distinct_count[entry] = 1\n",
    "            \n",
    "    return distinct_count\n",
    "\n",
    "#result = count_entries(tweets_df, 'lang')\n",
    "\n",
    "\n",
    "# print('Result for Lang col is: ', result, '\\n\\n\\n')\n",
    "\n",
    "\n",
    "for column in  tweets_df.columns:\n",
    "    #print(col)\n",
    "    #print(tweets_df[col].dtype)\n",
    "    \n",
    "    if tweets_df[column].dtype == tweets_df['lang'].dtype and column not in ( 'text', 'extended_entities', 'user', 'source' , 'entities', 'quoted_status' , 'retweeted_status'):\n",
    "        \n",
    "        print ('\\n\\n\\nThis result for ',  column , '\\n', count_entries(tweets_df,column)) \n",
    "        # print(column)\n",
    "    else:\n",
    "        pass\n",
    "        \n",
    "        \n",
    "#tweets_df.info()"
   ]
  },
  {
   "cell_type": "code",
   "execution_count": null,
   "id": "993ba043",
   "metadata": {},
   "outputs": [],
   "source": []
  }
 ],
 "metadata": {
  "kernelspec": {
   "display_name": "Python 3 (ipykernel)",
   "language": "python",
   "name": "python3"
  },
  "language_info": {
   "codemirror_mode": {
    "name": "ipython",
    "version": 3
   },
   "file_extension": ".py",
   "mimetype": "text/x-python",
   "name": "python",
   "nbconvert_exporter": "python",
   "pygments_lexer": "ipython3",
   "version": "3.9.13"
  }
 },
 "nbformat": 4,
 "nbformat_minor": 5
}
