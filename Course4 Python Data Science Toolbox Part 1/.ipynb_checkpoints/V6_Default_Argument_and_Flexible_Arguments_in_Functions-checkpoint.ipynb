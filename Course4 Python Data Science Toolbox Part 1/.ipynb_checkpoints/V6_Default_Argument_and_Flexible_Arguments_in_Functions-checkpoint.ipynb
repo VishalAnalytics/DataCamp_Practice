{
 "cells": [
  {
   "cell_type": "markdown",
   "id": "530c62a6",
   "metadata": {},
   "source": [
    "# V6: Default and Flexible Arguments to a function.\n",
    "\n",
    "\n",
    "## Default Argument:\n",
    "It means that the value will choose the value defined in function definition if no value is passed:\n",
    "\n",
    "    def power( num, pow = 1):\n",
    "        ''' Raise number to the power of pow '''\n",
    "        \n",
    "        new_val = num**pow\n",
    "        \n",
    "        return new_val\n",
    "        \n",
    "    power(9,2)\n",
    "    \n",
    "O/P: 81\n",
    "    \n",
    "    power(9)\n",
    "    \n",
    "O/P: 9\n",
    "\n",
    "    \n",
    "    \n",
    "## Flexible Arguments:  *args(1)\n",
    "        \n",
    "In this scenario, user is not sure about the number of arguments required to be passed to function. Here user can pass float or int as values.\n",
    "\n",
    "#### In args we will be sending TUPLES\n",
    "\n",
    "    def add_all(*args):\n",
    "        ''' Sum all values in *arg together '''\n",
    "        \n",
    "        sum_all = 0\n",
    "        \n",
    "        for num in args:\n",
    "            sum_all += num\n",
    "            \n",
    "        return sum_all\n",
    "        \n",
    "This will work by making the number passed in this function call as tuple. And then this tuple will be read out in function.\n",
    "    \n",
    "    add_all( 1, 3,4)\n",
    "   \n",
    "   O/P: 8\n",
    "\n",
    "\n",
    "## Flexible Arguments: **kwargs\n",
    "\n",
    "We can pass an arbitrary number of keywords to a function using '**kwargs'. That is arguments preceded by identifiers. \n",
    "\n",
    "#### In kwargs we will be passing DICTIONARY\n",
    "\n",
    "        def print_all(**kwargs):\n",
    "            ''' Print out the key-value pairs in kwargs'''\n",
    "        \n",
    "            for k, v in kwargs.items():\n",
    "                print(k + ' : ' + v)\n",
    "\n",
    "#### print_all ( Emp_Name = 'Vishal Panwar' , Employer = 'FIL' )\n",
    "\n",
    "* Kwargs turns the identifier-keyword pair into dictionary within the function body. \n",
    "* Then, in func body we need to print all the key-value pairs stored in the dictionary kwargs. \n",
    "\n",
    "### Note: It is NOT args and kwargs that are important when using Flexible Arguments. Rather the single and double stars. \n",
    "\n"
   ]
  },
  {
   "cell_type": "code",
   "execution_count": 1,
   "id": "5e5ea5bd",
   "metadata": {},
   "outputs": [
    {
     "name": "stdout",
     "output_type": "stream",
     "text": [
      "Emp_Name : Vishal Panwar\n",
      "Employer : FIL\n"
     ]
    }
   ],
   "source": [
    "def print_all(**kwargs):\n",
    "        ''' Print out the key-value pairs in kwargs'''\n",
    "        \n",
    "        for k, v in kwargs.items():\n",
    "            print(k + ' : ' + v)\n",
    "        \n",
    "        \n",
    "print_all ( Emp_Name = 'Vishal Panwar' , Employer = 'FIL' )"
   ]
  },
  {
   "cell_type": "code",
   "execution_count": null,
   "id": "0a6cfd92",
   "metadata": {},
   "outputs": [],
   "source": []
  },
  {
   "cell_type": "markdown",
   "id": "155a0008",
   "metadata": {},
   "source": [
    "## Example 1: Functions with one default argument\n",
    "In the previous chapter, you've learned to define functions with more than one parameter and then calling those functions by passing the required number of arguments. In the last video, Hugo built on this idea by showing you how to define functions with default arguments. You will practice that skill in this exercise by writing a function that uses a default argument and then calling the function a couple of times.\n",
    "\n",
    "### Steps:\n",
    "\n",
    "1. Complete the function header with the function name shout_echo. It accepts an argument word1 and a default argument echo with default value 1, in that order.\n",
    "2. Use the * operator to concatenate echo copies of word1. Assign the result to echo_word.\n",
    "3. Call shout_echo() with just the string, \"Hey\". Assign the result to no_echo.\n",
    "4. Call shout_echo() with the string \"Hey\" and the value 5 for the default argument, echo. Assign the result to with_echo.\n"
   ]
  },
  {
   "cell_type": "code",
   "execution_count": 2,
   "id": "638e6a34",
   "metadata": {},
   "outputs": [
    {
     "name": "stdout",
     "output_type": "stream",
     "text": [
      "Hey!!!\n",
      "HeyHeyHeyHeyHey!!!\n"
     ]
    }
   ],
   "source": [
    "# Define shout_echo\n",
    "def shout_echo(word1,echo = 1):\n",
    "    \"\"\"Concatenate echo copies of word1 and three\n",
    "     exclamation marks at the end of the string.\"\"\"\n",
    "\n",
    "    # Concatenate echo copies of word1 using *: echo_word\n",
    "    echo_word = word1*echo\n",
    "\n",
    "    # Concatenate '!!!' to echo_word: shout_word\n",
    "    shout_word = echo_word + '!!!'\n",
    "\n",
    "    # Return shout_word\n",
    "    return shout_word\n",
    "\n",
    "# Call shout_echo() with \"Hey\": no_echo\n",
    "no_echo = shout_echo('Hey')\n",
    "\n",
    "# Call shout_echo() with \"Hey\" and echo=5: with_echo\n",
    "with_echo = shout_echo('Hey', 5)\n",
    "\n",
    "# Print no_echo and with_echo\n",
    "print(no_echo)\n",
    "print(with_echo)"
   ]
  },
  {
   "cell_type": "markdown",
   "id": "d7713d4d",
   "metadata": {},
   "source": [
    "## Example 2: Functions with multiple default arguments\n",
    "You've now defined a function that uses a default argument - don't stop there just yet! You will now try your hand at defining a function with more than one default argument and then calling this function in various ways.\n",
    "\n",
    "After defining the function, you will call it by supplying values to all the default arguments of the function. Additionally, you will call the function by not passing a value to one of the default arguments - see how that changes the output of your function!\n",
    "\n",
    "### Steps: \n",
    "\n",
    "1. Complete the function header with the function name shout_echo. It accepts an argument word1, a default argument echo with default value 1 and a default argument intense with default value False, in that order.\n",
    "2. In the body of the if statement, make the string object echo_word upper case by applying the method .upper() on it.\n",
    "3. Call shout_echo() with the string, \"Hey\", the value 5 for echo and the value True for intense. Assign the result to with_big_echo.\n",
    "4. Call shout_echo() with the string \"Hey\" and the value True for intense. Assign the result to big_no_echo.\n"
   ]
  },
  {
   "cell_type": "code",
   "execution_count": 12,
   "id": "f727da45",
   "metadata": {},
   "outputs": [
    {
     "name": "stdout",
     "output_type": "stream",
     "text": [
      "HEY HEY HEY HEY HEY !!!\n",
      "Hey !!!\n"
     ]
    }
   ],
   "source": [
    "# Define shout_echo\n",
    "def shout_echo (word1 , echo = 1, intense = False ):\n",
    "    \"\"\"Concatenate echo copies of word1 and three\n",
    "    exclamation marks at the end of the string.\"\"\"\n",
    "\n",
    "    # Concatenate echo copies of word1 using *: echo_word\n",
    "    echo_word = word1 * echo\n",
    "\n",
    "    # Make echo_word uppercase if intense is True\n",
    "    if intense is True:\n",
    "        # Make uppercase and concatenate '!!!': echo_word_new\n",
    "        echo_word_new = echo_word.upper() + '!!!'\n",
    "    else:\n",
    "        # Concatenate '!!!' to echo_word: echo_word_new\n",
    "        echo_word_new = echo_word + '!!!'\n",
    "\n",
    "    # Return echo_word_new\n",
    "    return echo_word_new\n",
    "\n",
    "# Call shout_echo() with \"Hey\", echo=5 and intense=True: with_big_echo\n",
    "with_big_echo = shout_echo('Hey ', 5,   True)\n",
    "\n",
    "# Call shout_echo() with \"Hey\" and intense=True: big_no_echo\n",
    "big_no_echo = shout_echo('Hey ', True)\n",
    "\n",
    "# Print values\n",
    "print(with_big_echo)\n",
    "print(big_no_echo)"
   ]
  },
  {
   "cell_type": "markdown",
   "id": "1b7b5793",
   "metadata": {},
   "source": [
    "## Example 3: Functions with variable-length arguments (*args)\n",
    "Flexible arguments enable you to pass a variable number of arguments to a function. In this exercise, you will practice defining a function that accepts a variable number of string arguments.\n",
    "\n",
    "The function you will define is gibberish() which can accept a variable number of string values. Its return value is a single string composed of all the string arguments concatenated together in the order they were passed to the function call. You will call the function with a single string argument and see how the output changes with another call using more than one string argument. Recall from the previous video that, within the function definition, args is a tuple.\n",
    "\n",
    "### Steps: \n",
    "\n",
    "1. Complete the function header with the function name gibberish. It accepts a single flexible argument *args.\n",
    "2. Initialize a variable hodgepodge to an empty string.\n",
    "3. Return the variable hodgepodge at the end of the function body.\n",
    "4. Call gibberish() with the single string, \"luke\". Assign the result to one_word.\n",
    "5. Hit the Submit button to call gibberish() with multiple arguments and to print the value to the Shell.\n"
   ]
  },
  {
   "cell_type": "code",
   "execution_count": 19,
   "id": "0a315cc8",
   "metadata": {},
   "outputs": [
    {
     "name": "stdout",
     "output_type": "stream",
     "text": [
      "luke\n",
      "lukeleiahanobidarth\n",
      "\n",
      "\n",
      "Example function vish() create for practice:  TeraBetaBhuj\n"
     ]
    }
   ],
   "source": [
    "# Define gibberish\n",
    "def gibberish(*args):\n",
    "    \"\"\"Concatenate strings in *args together.\"\"\"\n",
    "\n",
    "    # Initialize an empty string: hodgepodge\n",
    "    hodgepodge = ''\n",
    "\n",
    "    # Concatenate the strings in args\n",
    "    for word in args:\n",
    "        hodgepodge += word\n",
    "\n",
    "    # Return hodgepodge\n",
    "    return hodgepodge\n",
    "\n",
    "# Call gibberish() with one string: one_word\n",
    "one_word = gibberish('luke')\n",
    "\n",
    "# Call gibberish() with five strings: many_words\n",
    "many_words = gibberish(\"luke\", \"leia\", \"han\", \"obi\", \"darth\")\n",
    "\n",
    "# Print one_word and many_words\n",
    "print(one_word)\n",
    "print(many_words)\n",
    "\n",
    "\n",
    "def vish(*args):\n",
    "    city = ''\n",
    "    for var in args:\n",
    "        city += var\n",
    "    return city\n",
    "\n",
    "print ('\\n\\nExample function vish() create for practice: ' ,vish('Tera', 'Beta', 'Bhuj',)) "
   ]
  },
  {
   "cell_type": "markdown",
   "id": "1024810a",
   "metadata": {},
   "source": [
    "## Example 4: Functions with variable-length keyword arguments (**kwargs)\n",
    "Let's push further on what you've learned about flexible arguments - you've used *args, you're now going to use **kwargs! What makes **kwargs different is that it allows you to pass a variable number of keyword arguments to functions. Recall from the previous video that, within the function definition, kwargs is a dictionary.\n",
    "\n",
    "To understand this idea better, you're going to use **kwargs in this exercise to define a function that accepts a variable number of keyword arguments. The function simulates a simple status report system that prints out the status of a character in a movie.\n",
    "\n",
    "### Steps: \n",
    "\n",
    "1. Complete the function header with the function name report_status. It accepts a single flexible argument **kwargs.\n",
    "2. Iterate over the key-value pairs of kwargs to print out the keys and values, separated by a colon ':'.\n",
    "3. In the first call to report_status(), pass the following keyword-value pairs: name=\"luke\", affiliation=\"jedi\" and status=\"missing\".\n",
    "4. In the second call to report_status(), pass the following keyword-value pairs: name=\"anakin\", affiliation=\"sith lord\" and status=\"deceased\".\n",
    "\n"
   ]
  },
  {
   "cell_type": "code",
   "execution_count": 24,
   "id": "23bb7897",
   "metadata": {},
   "outputs": [
    {
     "name": "stdout",
     "output_type": "stream",
     "text": [
      "\n",
      "BEGIN: REPORT\n",
      "\n",
      "name: luke\n",
      "affiliation: jedi\n",
      "status: missing\n",
      "\n",
      "END REPORT\n",
      "\n",
      "BEGIN: REPORT\n",
      "\n",
      "name: anakin\n",
      "affiliation: sith lord\n",
      "status: deceased\n",
      "\n",
      "END REPORT\n",
      "\n",
      "\n",
      "\n",
      "\n",
      "CODED FOR PRACTICE: \n",
      "\n",
      "\n",
      "name=luke\n",
      "affiliation=jedi\n",
      "status=missing\n"
     ]
    }
   ],
   "source": [
    "# Define report_status\n",
    "def report_status(**kwargs):\n",
    "    \"\"\"Print out the status of a movie character.\"\"\"\n",
    "\n",
    "    print(\"\\nBEGIN: REPORT\\n\")\n",
    "\n",
    "    # Iterate over the key-value pairs of kwargs\n",
    "    for key, value in kwargs.items():\n",
    "        # Print out the keys and values, separated by a colon ':'\n",
    "        print(key + \": \" + value)\n",
    "\n",
    "    print(\"\\nEND REPORT\")\n",
    "\n",
    "# First call to report_status()\n",
    "report_status(name='luke', affiliation='jedi', status='missing')\n",
    "\n",
    "# Second call to report_status()\n",
    "report_status(name='anakin', affiliation='sith lord', status='deceased')\n",
    "\n",
    "\n",
    "## Coded for self:\n",
    "\n",
    "def report_status(**kwargs):\n",
    "    '''Using kwargs as dictionary to establish relation between key value pair of dictionary passed to function'''\n",
    "    print('\\n\\n\\n\\nCODED FOR PRACTICE: \\n\\n')\n",
    "    for k, v in kwargs.items():\n",
    "        print(k + '=' + v)\n",
    "        \n",
    "report_status(name='luke', affiliation = 'jedi', status = 'missing')"
   ]
  },
  {
   "cell_type": "code",
   "execution_count": null,
   "id": "3004731f",
   "metadata": {},
   "outputs": [],
   "source": []
  }
 ],
 "metadata": {
  "kernelspec": {
   "display_name": "Python 3 (ipykernel)",
   "language": "python",
   "name": "python3"
  },
  "language_info": {
   "codemirror_mode": {
    "name": "ipython",
    "version": 3
   },
   "file_extension": ".py",
   "mimetype": "text/x-python",
   "name": "python",
   "nbconvert_exporter": "python",
   "pygments_lexer": "ipython3",
   "version": "3.9.13"
  }
 },
 "nbformat": 4,
 "nbformat_minor": 5
}
