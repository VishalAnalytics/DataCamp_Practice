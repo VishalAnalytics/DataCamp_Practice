{
 "cells": [
  {
   "cell_type": "markdown",
   "id": "c9f7b6e7",
   "metadata": {},
   "source": [
    "# V9: Instroduction to Error Handling\n",
    "\n",
    "## Errors and Exception:\n",
    "\n",
    "* Exceptions - Caught during execution.\n",
    "* Catch exceptions with try-except clause:\n",
    "    * Runs the code following try.\n",
    "    * If there's an exception, run the code following except.\n",
    "    \n",
    "            def sqrt(x):\n",
    "                ''' Returns the square root of a number'''\n",
    "                try:\n",
    "                    return x**0.5\n",
    "                \n",
    "                except TypeError:\n",
    "                    print('x must be an int or float')\n",
    "                \n",
    "    * If we want to think of using exception with some other errors:\n",
    "            \n",
    "            def sqrt(x):\n",
    "                ''' Returns the square root of a number'''\n",
    "                \n",
    "                if x < 0:\n",
    "                \n",
    "                    raise ValueError('x Must be non-negative')\n",
    "                    \n",
    "                try:\n",
    "                    return x**0.5\n",
    "                except TypeError:\n",
    "                    print('x must be an int or float')\n",
    "                    \n",
    "                   \n",
    " "
   ]
  },
  {
   "cell_type": "code",
   "execution_count": 10,
   "id": "ee7d85ed",
   "metadata": {},
   "outputs": [
    {
     "ename": "ValueError",
     "evalue": "x Must be non-negative",
     "output_type": "error",
     "traceback": [
      "\u001b[1;31m---------------------------------------------------------------------------\u001b[0m",
      "\u001b[1;31mValueError\u001b[0m                                Traceback (most recent call last)",
      "\u001b[1;32m~\\AppData\\Local\\Temp\\ipykernel_2288\\494387403.py\u001b[0m in \u001b[0;36m<module>\u001b[1;34m\u001b[0m\n\u001b[0;32m      8\u001b[0m         \u001b[0mprint\u001b[0m\u001b[1;33m(\u001b[0m\u001b[1;34m'x must be an int or float'\u001b[0m\u001b[1;33m)\u001b[0m\u001b[1;33m\u001b[0m\u001b[1;33m\u001b[0m\u001b[0m\n\u001b[0;32m      9\u001b[0m \u001b[1;33m\u001b[0m\u001b[0m\n\u001b[1;32m---> 10\u001b[1;33m \u001b[0msqrt\u001b[0m\u001b[1;33m(\u001b[0m\u001b[1;33m-\u001b[0m\u001b[1;36m1\u001b[0m\u001b[1;33m)\u001b[0m\u001b[1;33m\u001b[0m\u001b[1;33m\u001b[0m\u001b[0m\n\u001b[0m",
      "\u001b[1;32m~\\AppData\\Local\\Temp\\ipykernel_2288\\494387403.py\u001b[0m in \u001b[0;36msqrt\u001b[1;34m(x)\u001b[0m\n\u001b[0;32m      3\u001b[0m     \u001b[1;32mtry\u001b[0m\u001b[1;33m:\u001b[0m\u001b[1;33m\u001b[0m\u001b[1;33m\u001b[0m\u001b[0m\n\u001b[0;32m      4\u001b[0m         \u001b[1;32mif\u001b[0m \u001b[0mx\u001b[0m\u001b[1;33m<\u001b[0m\u001b[1;36m0\u001b[0m\u001b[1;33m:\u001b[0m\u001b[1;33m\u001b[0m\u001b[1;33m\u001b[0m\u001b[0m\n\u001b[1;32m----> 5\u001b[1;33m             \u001b[1;32mraise\u001b[0m \u001b[0mValueError\u001b[0m\u001b[1;33m(\u001b[0m\u001b[1;34m'x Must be non-negative'\u001b[0m\u001b[1;33m)\u001b[0m\u001b[1;33m\u001b[0m\u001b[1;33m\u001b[0m\u001b[0m\n\u001b[0m\u001b[0;32m      6\u001b[0m             \u001b[1;32mreturn\u001b[0m \u001b[0mx\u001b[0m\u001b[1;33m**\u001b[0m\u001b[1;36m0.5\u001b[0m\u001b[1;33m\u001b[0m\u001b[1;33m\u001b[0m\u001b[0m\n\u001b[0;32m      7\u001b[0m     \u001b[1;32mexcept\u001b[0m \u001b[0mTypeError\u001b[0m\u001b[1;33m:\u001b[0m\u001b[1;33m\u001b[0m\u001b[1;33m\u001b[0m\u001b[0m\n",
      "\u001b[1;31mValueError\u001b[0m: x Must be non-negative"
     ]
    }
   ],
   "source": [
    "def sqrt(x):\n",
    "    ''' Returns the square root of a number'''\n",
    "    try:\n",
    "        if x<0:\n",
    "            raise ValueError('x Must be non-negative')\n",
    "            return x**0.5\n",
    "    except TypeError:\n",
    "        print('x must be an int or float')\n",
    "                        \n",
    "sqrt(-1)"
   ]
  },
  {
   "cell_type": "markdown",
   "id": "1cc04a6c",
   "metadata": {},
   "source": [
    "## Example 1: Pop quiz about errors\n",
    "In the video, Hugo talked about how errors happen when functions are supplied arguments that they are unable to work with. In this exercise, you will identify which function call raises an error and what type of error is raised.\n",
    "\n",
    "Take a look at the following function calls to len():\n",
    "\n",
    "    len('There is a beast in every man and it stirs when you put a sword in his hand.')\n",
    "\n",
    "    len(['robb', 'sansa', 'arya', 'eddard', 'jon'])\n",
    "\n",
    "    len(525600)\n",
    "\n",
    "    len(('jaime', 'cersei', 'tywin', 'tyrion', 'joffrey'))\n",
    "    \n",
    "Which of the function calls raises an error and what type of error is raised?\n",
    "\n",
    "### Choose right answer from below: \n",
    "Possible Answers\n",
    "\n",
    "1. The call len('There is a beast in every man and it stirs when you put a sword in his hand.') raises a TypeError.\n",
    "\n",
    "2. The call len(['robb', 'sansa', 'arya', 'eddard', 'jon']) raises an IndexError.\n",
    "\n",
    "3. The call len(525600) raises a TypeError.\n",
    "\n",
    "4. The call len(('jaime', 'cersei', 'tywin', 'tyrion', 'joffrey')) raises a NameError.\n",
    "\n"
   ]
  },
  {
   "cell_type": "code",
   "execution_count": 17,
   "id": "0980b48b",
   "metadata": {},
   "outputs": [
    {
     "name": "stdout",
     "output_type": "stream",
     "text": [
      "76\n",
      "<class 'int'>\n",
      "<class 'int'>\n"
     ]
    }
   ],
   "source": [
    "print(len('There is a beast in every man and it stirs when you put a sword in his hand.'))\n",
    "print(type(len(['robb', 'sansa', 'arya', 'eddard', 'jon'])))\n",
    "\n",
    "#Ans:  print(len(525600))\n",
    "\n",
    "print(type(len(('jaime', 'cersei', 'tywin', 'tyrion', 'joffrey'))))"
   ]
  },
  {
   "cell_type": "markdown",
   "id": "1397cd63",
   "metadata": {},
   "source": [
    "## Example 2: Error handling with try-except\n",
    "A good practice in writing your own functions is also anticipating the ways in which other people (or yourself, if you accidentally misuse your own function) might use the function you defined.\n",
    "\n",
    "As in the previous exercise, you saw that the len() function is able to handle input arguments such as strings, lists, and tuples, but not int type ones and raises an appropriate error and error message when it encounters invalid input arguments. One way of doing this is through exception handling with the try-except block.\n",
    "\n",
    "In this exercise, you will define a function as well as use a try-except block for handling cases when incorrect input arguments are passed to the function.\n",
    "\n",
    "Recall the shout_echo() function you defined in previous exercises; parts of the function definition are provided in the sample code. Your goal is to complete the exception handling code in the function definition and provide an appropriate error message when raising an error.\n",
    "\n",
    "### Steps: \n",
    "\n",
    "1. Initialize the variables echo_word and shout_words to empty strings.\n",
    "2. Add the keywords try and except in the appropriate locations for the exception handling block.\n",
    "3. Use the * operator to concatenate echo copies of word1. Assign the result to echo_word.\n",
    "4. Concatenate the string '!!!' to echo_word. Assign the result to shout_words."
   ]
  },
  {
   "cell_type": "code",
   "execution_count": 20,
   "id": "aa264338",
   "metadata": {},
   "outputs": [
    {
     "name": "stdout",
     "output_type": "stream",
     "text": [
      "X is not of correct datatype\n"
     ]
    }
   ],
   "source": [
    "def call_len(x):\n",
    "    try:\n",
    "        return print(len(x))\n",
    "    except TypeError:\n",
    "        print('X is not of correct datatype')\n",
    "\n",
    "call_len(33)"
   ]
  },
  {
   "cell_type": "markdown",
   "id": "f877a0ea",
   "metadata": {},
   "source": [
    "## Example 3: Error handling by raising an error\n",
    "Another way to raise an error is by using raise. In this exercise, you will add a raise statement to the shout_echo() function you defined before to raise an error message when the value supplied by the user to the echo argument is less than 0.\n",
    "\n",
    "The call to shout_echo() uses valid argument values. To test and see how the raise statement works, simply change the value for the echo argument to a negative value. Don't forget to change it back to valid values to move on to the next exercise!\n",
    "\n",
    "### Steps: \n",
    "\n",
    "1. Complete the if statement by checking if the value of echo is less than 0.\n",
    "2. In the body of the if statement, add a raise statement that raises a ValueError with message 'echo must be greater than or equal to 0' when the value supplied by the user to echo is less than 0.\n"
   ]
  },
  {
   "cell_type": "code",
   "execution_count": 7,
   "id": "ecd3c244",
   "metadata": {},
   "outputs": [
    {
     "name": "stdout",
     "output_type": "stream",
     "text": [
      "Enter Value to make it square-1\n"
     ]
    },
    {
     "ename": "ValueError",
     "evalue": "Value must be greater than 0",
     "output_type": "error",
     "traceback": [
      "\u001b[1;31m---------------------------------------------------------------------------\u001b[0m",
      "\u001b[1;31mValueError\u001b[0m                                Traceback (most recent call last)",
      "\u001b[1;32m~\\AppData\\Local\\Temp\\ipykernel_33764\\576305822.py\u001b[0m in \u001b[0;36m<module>\u001b[1;34m\u001b[0m\n\u001b[0;32m     10\u001b[0m \u001b[0mx\u001b[0m \u001b[1;33m=\u001b[0m \u001b[0minput\u001b[0m\u001b[1;33m(\u001b[0m\u001b[1;34m'Enter Value to make it square'\u001b[0m\u001b[1;33m)\u001b[0m\u001b[1;33m\u001b[0m\u001b[1;33m\u001b[0m\u001b[0m\n\u001b[0;32m     11\u001b[0m \u001b[1;31m# print(type(x))\u001b[0m\u001b[1;33m\u001b[0m\u001b[1;33m\u001b[0m\u001b[0m\n\u001b[1;32m---> 12\u001b[1;33m \u001b[0mprint\u001b[0m\u001b[1;33m(\u001b[0m\u001b[0mshout_echo\u001b[0m\u001b[1;33m(\u001b[0m\u001b[0mint\u001b[0m\u001b[1;33m(\u001b[0m\u001b[0mx\u001b[0m\u001b[1;33m)\u001b[0m\u001b[1;33m)\u001b[0m\u001b[1;33m)\u001b[0m\u001b[1;33m\u001b[0m\u001b[1;33m\u001b[0m\u001b[0m\n\u001b[0m",
      "\u001b[1;32m~\\AppData\\Local\\Temp\\ipykernel_33764\\576305822.py\u001b[0m in \u001b[0;36mshout_echo\u001b[1;34m(w)\u001b[0m\n\u001b[0;32m      2\u001b[0m     \u001b[1;32mtry\u001b[0m\u001b[1;33m:\u001b[0m\u001b[1;33m\u001b[0m\u001b[1;33m\u001b[0m\u001b[0m\n\u001b[0;32m      3\u001b[0m         \u001b[1;32mif\u001b[0m \u001b[0mw\u001b[0m\u001b[1;33m<\u001b[0m\u001b[1;36m0\u001b[0m\u001b[1;33m:\u001b[0m\u001b[1;33m\u001b[0m\u001b[1;33m\u001b[0m\u001b[0m\n\u001b[1;32m----> 4\u001b[1;33m             \u001b[1;32mraise\u001b[0m \u001b[0mValueError\u001b[0m\u001b[1;33m(\u001b[0m\u001b[1;34m'Value must be greater than 0'\u001b[0m\u001b[1;33m)\u001b[0m\u001b[1;33m\u001b[0m\u001b[1;33m\u001b[0m\u001b[0m\n\u001b[0m\u001b[0;32m      5\u001b[0m         \u001b[1;32melse\u001b[0m\u001b[1;33m:\u001b[0m\u001b[1;33m\u001b[0m\u001b[1;33m\u001b[0m\u001b[0m\n\u001b[0;32m      6\u001b[0m             \u001b[1;32mreturn\u001b[0m \u001b[0mw\u001b[0m\u001b[1;33m**\u001b[0m\u001b[1;36m2\u001b[0m\u001b[1;33m\u001b[0m\u001b[1;33m\u001b[0m\u001b[0m\n",
      "\u001b[1;31mValueError\u001b[0m: Value must be greater than 0"
     ]
    }
   ],
   "source": [
    "def shout_echo(w):\n",
    "    try:\n",
    "        if w<0:\n",
    "            raise ValueError('Value must be greater than 0')\n",
    "        else:\n",
    "            return w**2\n",
    "    except TypeError:\n",
    "        print('Invalid Input, this need to be int or float')\n",
    "\n",
    "x = input('Enter Value to make it square')\n",
    "# print(type(x))\n",
    "print(shout_echo(int(x)))"
   ]
  },
  {
   "cell_type": "code",
   "execution_count": null,
   "id": "fe1151f0",
   "metadata": {},
   "outputs": [],
   "source": []
  }
 ],
 "metadata": {
  "kernelspec": {
   "display_name": "Python 3 (ipykernel)",
   "language": "python",
   "name": "python3"
  },
  "language_info": {
   "codemirror_mode": {
    "name": "ipython",
    "version": 3
   },
   "file_extension": ".py",
   "mimetype": "text/x-python",
   "name": "python",
   "nbconvert_exporter": "python",
   "pygments_lexer": "ipython3",
   "version": "3.9.13"
  }
 },
 "nbformat": 4,
 "nbformat_minor": 5
}
