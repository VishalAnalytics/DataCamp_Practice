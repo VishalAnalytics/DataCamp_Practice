{
 "cells": [
  {
   "cell_type": "markdown",
   "id": "1643f7c8",
   "metadata": {},
   "source": [
    "# V8: Lambda Functions\n",
    "\n",
    "Quicker way to write the function.\n",
    "\n",
    "### Example:\n",
    "    \n",
    "    raise_to_power = lambda x,y: x**y\n",
    "    \n",
    "    raise_to_power(2,3)\n",
    "    \n",
    "    \n",
    "### Anonymous Functions:\n",
    "\n",
    "* Function map takes two arguments: map(func, seq)\n",
    "* map() applies the function to ALL elements in the sequence\n",
    "    \n",
    "        nums = [ 48, 6, 9, 21, 1 ]\n",
    "        \n",
    "        square_all = map(lambda num: num**2, nums )\n",
    "        \n",
    "        print(square_all) # This is a map object and require list function to open it.\n",
    "        \n",
    "        print(list(square_all))"
   ]
  },
  {
   "cell_type": "code",
   "execution_count": 5,
   "id": "28a63261",
   "metadata": {},
   "outputs": [
    {
     "data": {
      "text/plain": [
       "8"
      ]
     },
     "execution_count": 5,
     "metadata": {},
     "output_type": "execute_result"
    }
   ],
   "source": [
    "raise_to_power = lambda x , y : x ** y\n",
    "    \n",
    "raise_to_power(2,3)"
   ]
  },
  {
   "cell_type": "code",
   "execution_count": 7,
   "id": "a4a8537b",
   "metadata": {
    "scrolled": true
   },
   "outputs": [
    {
     "name": "stdout",
     "output_type": "stream",
     "text": [
      "<map object at 0x000001FF75AEAFD0>\n",
      "[2304, 36, 81, 441, 1]\n"
     ]
    }
   ],
   "source": [
    "nums = [ 48, 6, 9, 21, 1 ]\n",
    "        \n",
    "square_all = map(lambda num: num**2, nums )\n",
    "        \n",
    "print(square_all) # This is a map object and require list function to open it.\n",
    "        \n",
    "print(list(square_all))"
   ]
  },
  {
   "cell_type": "markdown",
   "id": "6e27c16b",
   "metadata": {},
   "source": [
    "## Example 1: Pop Quiz on Lambda Functions\n",
    "\n",
    "Write Lambda Function:\n",
    "1. Func name : add_bangs. This adds three exclamation points '!!!' to the end of a string a\n",
    "2. Calling add_bangs with the argument 'hello'\n"
   ]
  },
  {
   "cell_type": "code",
   "execution_count": 8,
   "id": "19c84aae",
   "metadata": {},
   "outputs": [
    {
     "name": "stdout",
     "output_type": "stream",
     "text": [
      "hello!!!\n"
     ]
    }
   ],
   "source": [
    "add_bangs = lambda x: x +'!!!'\n",
    "\n",
    "print(add_bangs('hello'))"
   ]
  },
  {
   "cell_type": "markdown",
   "id": "bf62898e",
   "metadata": {},
   "source": [
    "## Example 2: Writing a lambda Function :\n",
    "\n",
    "Some function definitions are simple enough that they can be converted to a lambda function. By doing this, you write less lines of code, which is pretty awesome and will come in handy, especially when you're writing and maintaining big programs. In this exercise, you will use what you know about lambda functions to convert a function that does a simple task into a lambda function.\n",
    "\n",
    "    def echo_word(word1, echo ):\n",
    "        words = word1*echo\n",
    "        return words\n",
    "\n",
    "The function echo_word takes 2 parameters; a string value, word1 and an integer value, echo. It returns a string that is a concatenation of echo copies of word1. Your task is to convert this simple function into a lambda function."
   ]
  },
  {
   "cell_type": "code",
   "execution_count": 4,
   "id": "37ff003e",
   "metadata": {},
   "outputs": [
    {
     "name": "stdout",
     "output_type": "stream",
     "text": [
      "Hello Hello Hello Hello Hello \n"
     ]
    }
   ],
   "source": [
    "echo_word = lambda word1, echo: word1*echo\n",
    "\n",
    "result  = echo_word('Hello ', 5)\n",
    "\n",
    "print(result)"
   ]
  },
  {
   "cell_type": "markdown",
   "id": "a69fa328",
   "metadata": {},
   "source": [
    "## Example 3: Map() and Lambda Functions\n",
    "\n",
    "Use of lambda function is important when we want these simple functionalities to be anonymously embedded within larger expressions. It means that the functionalities is not stored in the environment, unlike a function defined with 'def'.\n",
    "To understand this idea better, you will use a lambda function in the context of the map() function.\n",
    "\n",
    "map() funcntion applies over an object, such as a list. Here you can use lambda functions to define the function that map() will use to process the object. For example: \n",
    "\n",
    "    nums = [2,4,6,8,10 ]\n",
    "    \n",
    "    result = map(lambda a : a**2, nums)\n",
    "    \n",
    "You can see here that a lambda function, which raises a value 'a' to the power of '2', is passed to map() alongside a list of numbers, 'nums'. \n",
    "The map object that results from the call to map() is stored in result. You will now practice the use of lambda functions with map(). For this exercise, you will map the functionality of the add_bangs() function you defined in previous exercise over a list of strings. "
   ]
  },
  {
   "cell_type": "code",
   "execution_count": 7,
   "id": "c880d60a",
   "metadata": {},
   "outputs": [
    {
     "name": "stdout",
     "output_type": "stream",
     "text": [
      "['Vishal!!!', 'Vihan!!!', 'Bhanu!!!']\n"
     ]
    }
   ],
   "source": [
    "spells = ['Vishal', 'Vihan', 'Bhanu']\n",
    "\n",
    "shout_spells = map( lambda a: a + '!!!', spells)\n",
    "\n",
    "print(list(shout_spells))"
   ]
  },
  {
   "cell_type": "markdown",
   "id": "49815024",
   "metadata": {},
   "source": [
    "## Example 4: Filter() and lambda functions\n",
    "In the previous exercise, you used lambda functions to anonymously embed an operation within map(). You will practice this again in this exercise by using a lambda function with filter(), which may be new to you! The function filter() offers a way to filter out elements from a list that don't satisfy certain criteria.\n",
    "\n",
    "Your goal in this exercise is to use filter() to create, from an input list of strings, a new list that contains only strings that have more than 6 characters.\n",
    "\n",
    "### Steps:\n",
    "\n",
    "1. In the filter() call, pass a lambda function and the list of strings, fellowship. The lambda function should check if the number of characters in a string member is greater than 6; use the len() function to do this. Assign the resulting filter object to result.\n",
    "2. Convert result to a list and print out the list.\n"
   ]
  },
  {
   "cell_type": "code",
   "execution_count": 11,
   "id": "59acea64",
   "metadata": {},
   "outputs": [
    {
     "name": "stdout",
     "output_type": "stream",
     "text": [
      "<filter object at 0x000002D9ED0F9910>\n",
      "['Vinod', 'Bhanu', 'Vihan', 'Sudha']\n"
     ]
    }
   ],
   "source": [
    "spells = ['Vinod', 'Bhanu', 'Sonika','Vihan', 'Vishal', 'Sudha']\n",
    "\n",
    "str_filter = filter( lambda a: len(a) <6, spells)\n",
    "\n",
    "\n",
    "print(str_filter)\n",
    "\n",
    "print( list(str_filter))"
   ]
  },
  {
   "cell_type": "markdown",
   "id": "d054fb3a",
   "metadata": {},
   "source": [
    "## Example 5: Reduce() and lambda functions\n",
    "You're getting very good at using lambda functions! Here's one more function to add to your repertoire of skills. The reduce() function is useful for performing some computation on a list and, unlike map() and filter(), returns a single value as a result. To use reduce(), you must import it from the functools module.\n",
    "\n",
    "Remember gibberish() from a few exercises back?\n",
    "\n",
    "### Define gibberish\n",
    "    def gibberish(*args):\n",
    "        \"\"\"Concatenate strings in *args together.\"\"\"\n",
    "        hodgepodge = ''\n",
    "        for word in args:\n",
    "            hodgepodge += word\n",
    "        return hodgepodge\n",
    "        \n",
    "        \n",
    "* gibberish(): Simply takes a list of strings as an argument and returns, as a single-value result, the concatenation of all of these strings. In this exercise, you will replicate this functionality by using reduce() and a lambda function that concatenates strings together.\n",
    "\n",
    "### Steps:\n",
    "\n",
    "1. Import the reduce function from the functools module.\n",
    "2. In the reduce() call, pass a lambda function that takes two string arguments item1 and item2 and concatenates them; also pass the list of strings, stark. Assign the result to result. The first argument to reduce() should be the lambda function and the second argument is the list stark.\n",
    "\n"
   ]
  },
  {
   "cell_type": "code",
   "execution_count": 14,
   "id": "51979564",
   "metadata": {},
   "outputs": [
    {
     "data": {
      "text/plain": [
       "'VinodBhanuSonikaVihanVishalSudha'"
      ]
     },
     "execution_count": 14,
     "metadata": {},
     "output_type": "execute_result"
    }
   ],
   "source": [
    "import functools\n",
    "from functools import reduce\n",
    "\n",
    "spells = ['Vinod', 'Bhanu', 'Sonika','Vihan', 'Vishal', 'Sudha']\n",
    "\n",
    "lam_gibberish= reduce( lambda a,b : a+b, spells)\n",
    "\n",
    "lam_gibberish"
   ]
  },
  {
   "cell_type": "code",
   "execution_count": null,
   "id": "94cb9dac",
   "metadata": {},
   "outputs": [],
   "source": []
  }
 ],
 "metadata": {
  "kernelspec": {
   "display_name": "Python 3 (ipykernel)",
   "language": "python",
   "name": "python3"
  },
  "language_info": {
   "codemirror_mode": {
    "name": "ipython",
    "version": 3
   },
   "file_extension": ".py",
   "mimetype": "text/x-python",
   "name": "python",
   "nbconvert_exporter": "python",
   "pygments_lexer": "ipython3",
   "version": "3.9.13"
  }
 },
 "nbformat": 4,
 "nbformat_minor": 5
}
