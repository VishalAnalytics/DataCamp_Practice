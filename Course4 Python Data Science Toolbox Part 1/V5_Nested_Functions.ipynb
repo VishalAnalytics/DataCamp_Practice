{
 "cells": [
  {
   "cell_type": "markdown",
   "id": "d288150b",
   "metadata": {},
   "source": [
    "# V5: Nested Functions\n",
    "\n",
    "### Syntax: \n",
    "       \n",
    "       def Outer():\n",
    "           '''...'''\n",
    "           x= ...\n",
    "           \n",
    "           def Inner():\n",
    "               '''...'''\n",
    "               y=x**2\n",
    "               \n",
    "           return ...\n",
    "       \n",
    "#### In above nested functions. X is a variable that is used for calculation. It's value will be first check internally in Outer() function, that is a local scope, then it will be searched in Outer() function. Outer() function is enclosinf function for Inner() function. \n",
    "#### If python can't find value of x in Inner() and Outer() function then it will check it's global value and then built-in.\n",
    "\n",
    "## Why we need Nested Functions:\n",
    "\n",
    "let's say if we want to perform same calculations three times. Then we need to implement it as:\n",
    "        \n",
    "        def mod2plus5(x1, x2, x3):\n",
    "            ''' Returns the reminder plus 5 for given 3 values'''\n",
    "            \n",
    "            new_x1 = x1 % 2 + 5\n",
    "            new_x2 = x2 % 2 + 5\n",
    "            new_x3 = x3 % 2 + 5\n",
    "            \n",
    "            return (new_x1, new_x2, new_x3)\n",
    "\n",
    "But we can implement it in better way as:\n",
    "        \n",
    "            def mod2plus5(x1, x2, x3):\n",
    "                    '''Returns the reminder plus 5 for three values'''\n",
    "                    \n",
    "                    def inner(x):\n",
    "                        ''' Return the reminder plus 5 for a value'''\n",
    "                        \n",
    "                        return ( x%2 + 5 )\n",
    "                        \n",
    "                    return( inner(x1) , inner(x2), inner(x3) )\n",
    "            \n",
    "            print( mod2plus5(5,6,7) )\n",
    "            \n",
    "           \n",
    "## Returning Function:\n",
    "\n",
    "    def raise_val(x):\n",
    "        ''' Return the inner function'''\n",
    "        \n",
    "        def inner(n):\n",
    "            ''' Raise x to the power of n'''\n",
    "            raised = n**x\n",
    "            return raised\n",
    "        \n",
    "        return inner\n",
    "        \n",
    "        \n",
    "     square = raise_val(2)\n",
    "     cube = raise_val(3)\n",
    "     \n",
    "     print( square(3), cube(2) )\n",
    "\n",
    "O/P: 9, 8\n",
    "\n",
    "This function will take the value of x and raise any given value to power of x. \n",
    "\n",
    "#### In above example when we call the function square, it remembers the value x=2, although the enclosing scope defined by raise_val and to which x=2 is local, has finish execution. This is subtlety referred to as a CLOSURE in computer science circles.\n",
    "\n",
    "\n",
    "           "
   ]
  },
  {
   "cell_type": "code",
   "execution_count": 1,
   "id": "1a02c5c5",
   "metadata": {},
   "outputs": [
    {
     "name": "stdout",
     "output_type": "stream",
     "text": [
      "(6, 5, 6)\n"
     ]
    }
   ],
   "source": [
    "def mod2plus5(x1, x2, x3):\n",
    "                    '''Returns the reminder plus 5 for three values'''\n",
    "                    \n",
    "                    def inner(x):\n",
    "                        ''' Return the reminder plus 5 for a value'''\n",
    "                        \n",
    "                        return ( x%2 + 5 )\n",
    "                        \n",
    "                    return( inner(x1) , inner(x2), inner(x3) )\n",
    "            \n",
    "print( mod2plus5(1,2,3) )"
   ]
  },
  {
   "cell_type": "code",
   "execution_count": 2,
   "id": "6279c569",
   "metadata": {},
   "outputs": [],
   "source": [
    " def raise_val(x):\n",
    "        ''' Return the inner function'''\n",
    "        \n",
    "        def inner(n):\n",
    "            ''' Raise x to the power of n'''\n",
    "            raised = n**x\n",
    "            return raised\n",
    "        \n",
    "        return inner"
   ]
  },
  {
   "cell_type": "code",
   "execution_count": 3,
   "id": "a6bd8431",
   "metadata": {},
   "outputs": [
    {
     "name": "stdout",
     "output_type": "stream",
     "text": [
      "To print cube of a number:  64\n",
      "Square of any number:  25\n"
     ]
    }
   ],
   "source": [
    "print( 'To print cube of a number: ' , raise_val(3)(4))\n",
    "\n",
    "square = raise_val(2)\n",
    "\n",
    "print('Square of any number: ', square(5))"
   ]
  },
  {
   "cell_type": "markdown",
   "id": "07b4669e",
   "metadata": {},
   "source": [
    "## Global vs Nonlocal:\n",
    "\n",
    "    We can use global keyword with variable names in functions to create and change global names. Similarly in Nested Functions,\n",
    "    we can use keyword NONLOCAL to create and changes names in an eclosing scopes. \n",
    "    \n",
    "     def outer():\n",
    "         ''' Prints the value of n'''\n",
    "         \n",
    "         n=1\n",
    "         \n",
    "         def inner():\n",
    "             nonlocal n\n",
    "             n=2\n",
    "             print(n)\n",
    "             \n",
    "         inner()\n",
    "         print(n)\n",
    "     \n",
    "     \n",
    "     outer()\n",
    "O/P: 2\n",
    "     2\n",
    "\n",
    "#### In this example, we alter the value of 'n' in the inner() function, because we used the keyword 'nonlocal', it also alter the value of 'n' in the enclosing scope. Due to this, the function outer() will print the value of n as determined within the inner() function.\n",
    "\n",
    "\n",
    "## Scope Searches:\n",
    "\n",
    "1. Local Scope\n",
    "2. Enclosign Functions\n",
    "3. Global\n",
    "4. Built-in\n",
    "\n",
    "#### Name reference searches at most 4 scopes : LEGB\n",
    "\n",
    "#### Note: Assinging names will only create or change local names, unless they are declared in global or nonlocal statements using respective keywords. \n",
    "\n",
    "\n"
   ]
  },
  {
   "cell_type": "markdown",
   "id": "13f040b7",
   "metadata": {},
   "source": [
    "## Example 1: Nested Functions I\n",
    "You've learned in the last video about nesting functions within functions. One reason why you'd like to do this is to avoid writing out the same computations within functions repeatedly. There's nothing new about defining nested functions: you simply define it as you would a regular function with def and embed it inside another function!\n",
    "\n",
    "In this exercise, inside a function three_shouts(), you will define a nested function inner() that concatenates a string object with !!!. three_shouts() then returns a tuple of three elements, each a string concatenated with !!! using inner(). Go for it!\n",
    "\n",
    "### Steps: \n",
    "\n",
    "1. Complete the function header of the nested function with the function name inner() and a single parameter word.\n",
    "2. Complete the return value: each element of the tuple should be a call to inner(), passing in the parameters from three_shouts() as arguments to each call."
   ]
  },
  {
   "cell_type": "code",
   "execution_count": 4,
   "id": "3532017a",
   "metadata": {},
   "outputs": [
    {
     "data": {
      "text/plain": [
       "('Hip!!!', 'Hip!!!', 'Hurray!!!')"
      ]
     },
     "execution_count": 4,
     "metadata": {},
     "output_type": "execute_result"
    }
   ],
   "source": [
    "def three_shouts(x1, x2, x3):\n",
    "    \"\"\"Add !!! with three strings\"\"\"\n",
    "    \n",
    "    def inner(x):\n",
    "        '''Add !!! with one string'''\n",
    "        return x + '!!!'\n",
    "    \n",
    "    return (inner(x1), inner(x2), inner(x3))\n",
    "\n",
    "three_shouts('Hip', 'Hip', 'Hurray')"
   ]
  },
  {
   "cell_type": "markdown",
   "id": "09981d2b",
   "metadata": {},
   "source": [
    "## Example 2: Nested Functions II\n",
    "\n",
    "Great job, you've just nested a function within another function. One other pretty cool reason for nesting functions is the idea of a closure. This means that the nested or inner function remembers the state of its enclosing scope when called. Thus, anything defined locally in the enclosing scope is available to the inner function even when the outer function has finished execution.\n",
    "\n",
    "Let's move forward then! In this exercise, you will complete the definition of the inner function inner_echo() and then call echo() a couple of times, each with a different argument. Complete the exercise and see what the output will be!\n",
    "\n",
    "### Steps:\n",
    "\n",
    "1. Complete the function header of the inner function with the function name inner_echo() and a single parameter word1.\n",
    "2. Complete the function echo() so that it returns inner_echo.\n",
    "3. We have called echo(), passing 2 as an argument, and assigned the resulting function to twice. Your job is to call echo(), passing 3 as an argument. Assign the resulting function to thrice.\n",
    "4. Hit Submit to call twice() and thrice() and print the results."
   ]
  },
  {
   "cell_type": "code",
   "execution_count": 8,
   "id": "12d0d5f7",
   "metadata": {},
   "outputs": [
    {
     "name": "stdout",
     "output_type": "stream",
     "text": [
      "hello hello  Hi Hi Hi \n"
     ]
    }
   ],
   "source": [
    "# Define echo\n",
    "def echo(n):\n",
    "    \"\"\"Return the inner_echo function.\"\"\"\n",
    "\n",
    "    # Define inner_echo\n",
    "    def inner(word1):\n",
    "        \"\"\"Concatenate n copies of word1.\"\"\"\n",
    "        echo_word = word1 * n\n",
    "        return echo_word\n",
    "\n",
    "    # Return inner_echo\n",
    "    return inner\n",
    "\n",
    "# Call echo: twice\n",
    "twice = echo(2)\n",
    "\n",
    "# Call echo: thrice\n",
    "thrice = echo(3)\n",
    "\n",
    "# Call twice() and thrice() then print\n",
    "print(twice('hello '), thrice('Hi '))"
   ]
  },
  {
   "cell_type": "markdown",
   "id": "4807a5ab",
   "metadata": {},
   "source": [
    "## Example 3: The keyword nonlocal and nested functions\n",
    "Let's once again work further on your mastery of scope! In this exercise, you will use the keyword nonlocal within a nested function to alter the value of a variable defined in the enclosing scope.\n",
    "\n",
    "### Steps:\n",
    "\n",
    "1. Assign to echo_word the string word, concatenated with itself.\n",
    "2. Use the keyword nonlocal to alter the value of echo_word in the enclosing scope.\n",
    "3. Alter echo_word to echo_word concatenated with '!!!'.\n",
    "4. Call the function echo_shout(), passing it a single argument 'hello'."
   ]
  },
  {
   "cell_type": "code",
   "execution_count": 12,
   "id": "b800dafb",
   "metadata": {},
   "outputs": [
    {
     "name": "stdout",
     "output_type": "stream",
     "text": [
      "hello hello \n",
      "hello hello !!!\n"
     ]
    }
   ],
   "source": [
    "# Define echo_shout()\n",
    "def echo_shout(word):\n",
    "    \"\"\"Change the value of a nonlocal variable\"\"\"\n",
    "    \n",
    "    # Concatenate word with itself: echo_word\n",
    "    echo_word = word + word\n",
    "    \n",
    "    # Print echo_word\n",
    "    print(echo_word)\n",
    "    \n",
    "    # Define inner function shout()\n",
    "    def shout():\n",
    "        \"\"\"Alter a variable in the enclosing scope\"\"\"    \n",
    "        # Use echo_word in nonlocal scope\n",
    "        nonlocal echo_word\n",
    "        \n",
    "        # Change echo_word to echo_word concatenated with '!!!'\n",
    "        echo_word = echo_word + '!!!'\n",
    "    \n",
    "    # Call function shout()\n",
    "    shout()\n",
    "    \n",
    "    # Print echo_word\n",
    "    print(echo_word)\n",
    "\n",
    "# Call function echo_shout() with argument 'hello'\n",
    "echo_shout('hello ')\n",
    "\n",
    "\n",
    "### When we use NONLOCAL it means that we are making it a new GLOBAL... That is, a new value will now be assigned to it. \n",
    "### That will be accessible through out the outer/enclosing function as well."
   ]
  },
  {
   "cell_type": "code",
   "execution_count": null,
   "id": "3f59eea8",
   "metadata": {},
   "outputs": [],
   "source": []
  }
 ],
 "metadata": {
  "kernelspec": {
   "display_name": "Python 3 (ipykernel)",
   "language": "python",
   "name": "python3"
  },
  "language_info": {
   "codemirror_mode": {
    "name": "ipython",
    "version": 3
   },
   "file_extension": ".py",
   "mimetype": "text/x-python",
   "name": "python",
   "nbconvert_exporter": "python",
   "pygments_lexer": "ipython3",
   "version": "3.9.13"
  }
 },
 "nbformat": 4,
 "nbformat_minor": 5
}
