{
 "cells": [
  {
   "cell_type": "markdown",
   "id": "93b1303a",
   "metadata": {},
   "source": [
    "# V1 : Create User Defined Functions\n",
    "\n",
    "1. You will watch below in this video:\n",
    "   * Define functions without parameters\n",
    "   * Define functions with parameters\n",
    "   * Define functions that returns a values\n",
    "   * Later : multiple arguments, multiple return values.\n",
    "   \n",
    "2. Defining a function:\n",
    "    \n",
    "        def square():\n",
    "            n = 4**2\n",
    "            print(n)\n",
    "        \n",
    "3. Function with Parameters:\n",
    "        \n",
    "       def square(value):  # Defining a Function header\n",
    "            sq = value**2  # function body\n",
    "            print(sq)\n",
    "            \n",
    "       square(8)           # function call\n",
    "\n",
    "4. Returning value from a Function:\n",
    "\n",
    "        def square(value):\n",
    "            sq = value**2\n",
    "            return sq\n",
    "            \n",
    "        num = square(3)\n",
    "        print(num)\n",
    "        \n",
    "5. Docstrings:\n",
    "    * This is an essential aspect of writing function in python.\n",
    "    * These describe the what your function does, such as computation it performs or its return values.\n",
    "    * Serves as documentation for function. Give idea about the purpose of function.\n",
    "    * Placed in the immediate line after the function header\n",
    "    * In between the triple quotation marks ''' '''\n",
    "    \n",
    "            def square(value):\n",
    "                '''Function written to return the square of value'''\n",
    "                sq = value**2\n",
    "                return sq"
   ]
  },
  {
   "cell_type": "markdown",
   "id": "239696fb",
   "metadata": {},
   "source": [
    "## Example 1: Strings in Python\n",
    "In the video, you learned of another standard Python datatype, strings. Recall that these represent textual data. To assign the string 'DataCamp' to a variable company, you execute:\n",
    "\n",
    "    company = 'DataCamp'\n",
    "\n",
    "You've also learned to use the operations + and * with strings. Unlike with numeric types such as ints and floats, the + operator concatenates strings together, while the * concatenates multiple copies of a string together. In this exercise, you will use the + and * operations on strings to answer the question below. Execute the following code in the shell:\n",
    "\n",
    "    object1 = \"data\" + \"analysis\" + \"visualization\"\n",
    "    object2 = 1 * 3\n",
    "    object3 = \"1\" * 3\n",
    "\n",
    "1. What are the values in object1, object2, and object3, respectively?\n",
    "\n",
    "    Possible Answers\n",
    "\n",
    "          a) object1 contains \"data + analysis + visualization\", object2 contains \"1*3\", object3 contains 13.\n",
    "\n",
    "          b) object1 contains \"data+analysis+visualization\", object2 contains 3, object3 contains \"13\".\n",
    "\n",
    "          c) object1 contains \"dataanalysisvisualization\", object2 contains 3, object3 contains \"111\".\n",
    "          \n",
    "### Ans : c           "
   ]
  },
  {
   "cell_type": "markdown",
   "id": "29ce9418",
   "metadata": {},
   "source": [
    "## Example 2: Recapping built-in functions\n",
    "In the video, Hugo briefly examined the return behavior of the built-in functions print() and str(). Here, you will use both functions and examine their return values. A variable x has been preloaded for this exercise. Run the code below in the console. Pay close attention to the results to answer the question that follows.\n",
    "\n",
    "1. Assign str(x) to a variable y1: y1 = str(x)\n",
    "2. Assign print(x) to a variable y2: y2 = print(x)\n",
    "3. Check the types of the variables x, y1, and y2.\n",
    "\n",
    "#### What are the types of x, y1, and y2?\n",
    "\n",
    "Possible Answers, if x = 4.89\n",
    "\n",
    "    a) They are all str types.\n",
    "\n",
    "    b) x is a float, y1 is an float, and y2 is a str.\n",
    "\n",
    "    c) x is a float, y1 is a str, and y2 is a NoneType.\n",
    "\n",
    "    d) They are all NoneType types.\n",
    "    \n",
    "### Ans: c\n",
    "* This is bcoz: \n",
    "\n",
    "    * Correct! It is important to remember that assigning a variable y2 to a function that prints a value but does not return a value will result in that variable y2 being of type NoneType."
   ]
  },
  {
   "cell_type": "markdown",
   "id": "b396fa52",
   "metadata": {},
   "source": [
    "## Example 3: Write a simple function\n",
    "In the last video, Hugo described the basics of how to define a function. You will now write your own function!\n",
    "\n",
    "Define a function, shout(), which simply prints out a string with three exclamation marks '!!!' at the end. The code for the square() function that we wrote earlier is found below. You can use it as a pattern to define shout().\n",
    "\n",
    "    def square():\n",
    "        new_value = 4 ** 2\n",
    "        return new_value\n",
    "\n",
    "Note that the function body is indented 4 spaces already for you. Function bodies need to be indented by a consistent number of spaces and the choice of 4 is common.\n",
    "\n",
    "This course touches on a lot of concepts you may have forgotten, so if you ever need a quick refresher, download the Python for Data Science Cheat Sheet and keep it handy!\n",
    "\n",
    "### Steps:\n",
    "1. Complete the function header by adding the appropriate function name, shout.\n",
    "2. In the function body, concatenate the string, 'congratulations' with another string, '!!!'. Assign the result to shout_word.\n",
    "3. Print the value of shout_word.\n",
    "4. Call the shout function."
   ]
  },
  {
   "cell_type": "code",
   "execution_count": 2,
   "id": "07fd1ed7",
   "metadata": {},
   "outputs": [
    {
     "name": "stdout",
     "output_type": "stream",
     "text": [
      "congratulations!!!\n"
     ]
    }
   ],
   "source": [
    "# Define the function shout\n",
    "def shout():\n",
    "    \"\"\"Print a string with three exclamation marks\"\"\"\n",
    "    # Concatenate the strings: shout_word\n",
    "    shout_word = 'congratulations' + '!!!'\n",
    "\n",
    "    # Print shout_word\n",
    "    print(shout_word)\n",
    "\n",
    "# Call shout\n",
    "shout()"
   ]
  },
  {
   "cell_type": "markdown",
   "id": "6119486d",
   "metadata": {},
   "source": [
    "## Example 4: \n",
    "    In the previous exercise, you defined and called the function shout(), which printed out a string concatenated with '!!!'. You will now update shout() by adding a parameter so that it can accept and process any string argument passed to it. Also note that shout(word), the part of the header that specifies the function name and parameter(s), is known as the signature of the function. You may encounter this term in the wild!\n",
    "    \n",
    "### Steps:\n",
    "\n",
    "1. Complete the function header by adding the parameter name, word.\n",
    "2. Assign the result of concatenating word with '!!!' to shout_word.\n",
    "3. Print the value of shout_word.\n",
    "4. Call the shout() function, passing to it the string, 'congratulations'."
   ]
  },
  {
   "cell_type": "code",
   "execution_count": 5,
   "id": "9b738d9c",
   "metadata": {},
   "outputs": [
    {
     "name": "stdout",
     "output_type": "stream",
     "text": [
      "Congratulations Rishi!!!\n"
     ]
    }
   ],
   "source": [
    "def shout(word):\n",
    "    shout_word = word + '!!!'\n",
    "    print(shout_word)\n",
    "\n",
    "    \n",
    "shout('Congratulations Rishi')"
   ]
  },
  {
   "cell_type": "markdown",
   "id": "fd6b3b8b",
   "metadata": {},
   "source": [
    "## Example 4: Functions that return single values\n",
    "You're getting very good at this! Try your hand at another modification to the shout() function so that it now returns a single value instead of printing within the function. Recall that the return keyword lets you return values from functions. Parts of the function shout(), which you wrote earlier, are shown. Returning values is generally more desirable than printing them out because, as you saw earlier, a print() call assigned to a variable has type NoneType.\n",
    "\n",
    "### Steps: \n",
    "\n",
    "1. In the function body, concatenate the string in word with '!!!' and assign to shout_word.\n",
    "2. Replace the print() statement with the appropriate return statement.\n",
    "3. Call the shout() function, passing to it the string, 'congratulations', and assigning the call to the variable, yell.\n",
    "4. To check if yell contains the value returned by shout(), print the value of yell.\n",
    "\n",
    "\n"
   ]
  },
  {
   "cell_type": "code",
   "execution_count": 2,
   "id": "7e70e7fc",
   "metadata": {},
   "outputs": [
    {
     "name": "stdout",
     "output_type": "stream",
     "text": [
      "Congrats!!!\n"
     ]
    }
   ],
   "source": [
    "def shout(word):\n",
    "    \n",
    "    '''\n",
    "        Function that retrun single value\n",
    "    '''\n",
    "    \n",
    "    shout_word = word + '!!!'\n",
    "    \n",
    "    return shout_word\n",
    "\n",
    "yell = shout('Congrats')\n",
    "\n",
    "print(yell)"
   ]
  },
  {
   "cell_type": "code",
   "execution_count": null,
   "id": "39b1b3d7",
   "metadata": {},
   "outputs": [],
   "source": []
  }
 ],
 "metadata": {
  "kernelspec": {
   "display_name": "Python 3 (ipykernel)",
   "language": "python",
   "name": "python3"
  },
  "language_info": {
   "codemirror_mode": {
    "name": "ipython",
    "version": 3
   },
   "file_extension": ".py",
   "mimetype": "text/x-python",
   "name": "python",
   "nbconvert_exporter": "python",
   "pygments_lexer": "ipython3",
   "version": "3.9.13"
  }
 },
 "nbformat": 4,
 "nbformat_minor": 5
}
