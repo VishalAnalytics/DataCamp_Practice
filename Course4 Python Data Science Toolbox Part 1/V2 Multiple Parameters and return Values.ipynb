{
 "cells": [
  {
   "cell_type": "markdown",
   "id": "b70cadb6",
   "metadata": {},
   "source": [
    "# V2: Multiple Parameters and return values\n",
    "\n",
    "1. Here we will be returning multiple values from functions.\n",
    "\n",
    "2. To return multiple values by Functions, we need to use Tuples:\n",
    "3. Tuples:\n",
    "    * Like a list - can contain multiple values\n",
    "    * Immutable - Can't modify values\n",
    "    * Constructed using parentheses()\n",
    "    * Have zero indexing like LISTs:\n",
    "            \n",
    "            even_nums = (1,2,3)\n",
    "            print(even_nums[1])\n",
    "       \n",
    "       O/P: 2\n",
    "    \n",
    "    * Unpacking a tuple is like:\n",
    "            \n",
    "            even_nums = (1,2, 3) \n",
    "            a, b, c = even_nums\n",
    "            \n",
    "            print('a: ', a, ' b: ', b, ' c: ', c )\n",
    "            \n",
    "       O/P: a: 1 b:2 c:3\n",
    "     \n",
    "4. Our Function will be like:\n",
    "    \n",
    "          def raise_both( value1, value2):\n",
    "              ''' raise value1 to the power of value2 and vice versa'''\n",
    "              \n",
    "              new_val1 = value1**value2\n",
    "              new_val2 = value2**value1\n",
    "              \n",
    "              new_tuple = (new_val1, new_val2)\n",
    "              \n",
    "              return new_tuple\n",
    "           \n",
    "  Calling Function:\n",
    "               \n",
    "              result = raise_both( 2,3)\n",
    "              \n",
    "              print(result)\n",
    "               \n",
    "\n",
    "    O/P: ( 8, 9 )\n",
    "    \n",
    "\n",
    "    "
   ]
  },
  {
   "cell_type": "markdown",
   "id": "34bd61ec",
   "metadata": {},
   "source": [
    "## Example 1: Functions with multiple parameters\n",
    "Hugo discussed the use of multiple parameters in defining functions in the last lecture. You are now going to use what you've learned to modify the shout() function further. Here, you will modify shout() to accept two arguments. Parts of the function shout(), which you wrote earlier, are shown.\n",
    "\n",
    "### Steps:\n",
    "1. Modify the function header such that it accepts two parameters, word1 and word2, in that order.\n",
    "2. Concatenate each of word1 and word2 with '!!!' and assign to shout1 and shout2, respectively.\n",
    "3. Concatenate shout1 and shout2 together, in that order, and assign to new_shout.\n",
    "4. Pass the strings 'congratulations' and 'you', in that order, to a call to shout(). Assign the return value to yell.\n"
   ]
  },
  {
   "cell_type": "code",
   "execution_count": 2,
   "id": "60529aa1",
   "metadata": {},
   "outputs": [
    {
     "name": "stdout",
     "output_type": "stream",
     "text": [
      "Vishal Panwar Congrats!!! Hurray!!!\n"
     ]
    }
   ],
   "source": [
    "def shout(val1, val2):\n",
    "    new_val1 = val1 + '!!!'\n",
    "    \n",
    "    new_val2 = val2 + '!!!'\n",
    "    \n",
    "    values = new_val1 + new_val2\n",
    "    \n",
    "    return values\n",
    "\n",
    "result = shout('Vishal Panwar Congrats', ' Hurray')\n",
    "\n",
    "print(result)"
   ]
  },
  {
   "cell_type": "markdown",
   "id": "e3954090",
   "metadata": {},
   "source": [
    "## Example 2: A brief introduction to tuples\n",
    "Alongside learning about functions, you've also learned about tuples! Here, you will practice what you've learned about tuples: how to construct, unpack, and access tuple elements. Recall how Hugo unpacked the tuple even_nums in the video:\n",
    "\n",
    "    a, b, c = even_nums\n",
    "\n",
    "A three-element tuple named nums has been preloaded for this exercise. Before completing the script, perform the following:\n",
    "\n",
    "Print out the value of nums in the IPython shell. Note the elements in the tuple.\n",
    "In the IPython shell, try to change the first element of nums to the value 2 by doing an assignment: nums[0] = 2. What happens?\n",
    "\n",
    "### Steps:\n",
    "\n",
    "1. Unpack nums to the variables num1, num2, and num3.\n",
    "2. Construct a new tuple, even_nums composed of the same elements in nums, but with the 1st element replaced with the value, 2.\n",
    "\n"
   ]
  },
  {
   "cell_type": "code",
   "execution_count": 3,
   "id": "3af42098",
   "metadata": {},
   "outputs": [
    {
     "name": "stdout",
     "output_type": "stream",
     "text": [
      "(2, 4, 6)\n"
     ]
    }
   ],
   "source": [
    "nums = (3,4,6)\n",
    "\n",
    "num1, num2, num3 = nums\n",
    "\n",
    "even_sums = (2, num2, num3)\n",
    "\n",
    "print(even_sums)"
   ]
  },
  {
   "cell_type": "markdown",
   "id": "8e554394",
   "metadata": {},
   "source": [
    "## Example 3: Functions that return multiple values\n",
    "In the previous exercise, you constructed tuples, assigned tuples to variables, and unpacked tuples. Here you will return multiple values from a function using tuples. Let's now update our shout() function to return multiple values. Instead of returning just one string, we will return two strings with the string !!! concatenated to each.\n",
    "\n",
    "    Note that the return statement return x, y has the same result as return (x, y): the former actually packs x and y into a tuple under the hood!\n",
    "\n",
    "### Steps:\n",
    "\n",
    "1. Modify the function header such that the function name is now shout_all, and it accepts two parameters, word1 and word2, in that order.\n",
    "2. Concatenate the string '!!!' to each of word1 and word2 and assign to shout1 and shout2, respectively.\n",
    "3. Construct a tuple shout_words, composed of shout1 and shout2.\n",
    "4. Call shout_all() with the strings 'congratulations' and 'you' and assign the result to yell1 and yell2 (remember, shout_all() returns 2 variables!)."
   ]
  },
  {
   "cell_type": "code",
   "execution_count": 4,
   "id": "cfdcfc17",
   "metadata": {},
   "outputs": [
    {
     "name": "stdout",
     "output_type": "stream",
     "text": [
      "Yell1:  Congratulations!!! \n",
      "\n",
      " Yell2:  you!!!\n"
     ]
    }
   ],
   "source": [
    "def shout_all( word1 ,word2):\n",
    "    shout1 = word1 + '!!!'\n",
    "    shout2 = word2 + '!!!'\n",
    "    \n",
    "    shout_words = (shout1, shout2)\n",
    "    \n",
    "    return shout_words\n",
    "\n",
    "yell1, yell2 = shout_all( 'Congratulations', 'you')\n",
    "\n",
    "print ('Yell1: ', yell1, '\\n\\n', 'Yell2: ', yell2)"
   ]
  },
  {
   "cell_type": "code",
   "execution_count": null,
   "id": "e2285e71",
   "metadata": {},
   "outputs": [],
   "source": []
  }
 ],
 "metadata": {
  "kernelspec": {
   "display_name": "Python 3 (ipykernel)",
   "language": "python",
   "name": "python3"
  },
  "language_info": {
   "codemirror_mode": {
    "name": "ipython",
    "version": 3
   },
   "file_extension": ".py",
   "mimetype": "text/x-python",
   "name": "python",
   "nbconvert_exporter": "python",
   "pygments_lexer": "ipython3",
   "version": "3.9.13"
  }
 },
 "nbformat": 4,
 "nbformat_minor": 5
}
