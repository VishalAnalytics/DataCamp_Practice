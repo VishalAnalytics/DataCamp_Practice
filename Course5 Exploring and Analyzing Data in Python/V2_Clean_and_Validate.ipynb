{
 "cells": [
  {
   "cell_type": "markdown",
   "id": "54f382c0",
   "metadata": {},
   "source": [
    "# V2: Clean and Validate:\n",
    "\n",
    "## Selecting columns:\n",
    "\n",
    "    pounds= nsfg['birthwgt_lb1']\n",
    "    ounces= nsfg['birthwgt_oz1']\n",
    "    \n",
    "## Validation:\n",
    "\n",
    "One part of validation is confirming that we are interpreting the data correctly. \n",
    "\n",
    "### 1. value_counts():\n",
    "We can use value_counts() to see what values appear in pounds and how many times each value appears. \n",
    " \n",
    " * By default, the results are sorted with the most frequent value first, so I use sort_index(). To sort them by value instead, with the lightest babies first and heaviest last.    \n",
    "        \n",
    "            pounds.value_counts().sort_index()\n",
    "            \n",
    " * 98 & 99 indicate missing data.\n",
    " \n",
    " \n",
    " * We can validate the results by comparing them to the codebook, which lists the values and their frequencies. \n",
    "       \n",
    "### 2. describe():\n",
    "Another way to validate data is describe\n",
    "\n",
    "* It compute the summary statistics like the mean, standard deviation, min, and max.\n",
    "\n",
    "            pounds.describe()\n",
    "           \n",
    "* When we look at mean of the above data. Then we find it '8.09' which is not representing it well due to values of 98 and 99. We need to replace them\n",
    "\n",
    "#### Replace():\n",
    "        \n",
    "            pounds = pounds.replace([98, 99], np.nan )\n",
    "            \n",
    "            pounds.mean() \n",
    "            \n",
    "   * Now, mean will become 6.70. This is due to removal of 98 and 99 values. \n",
    "   \n",
    "   * Instead of making a new Series, we can call replace(), with inplace=True. It modifies the existing Series 'in place', that is, without making a copy.\n",
    "   \n",
    "           ounces.replace([98, 99], np.nan, inplace = True )\n",
    "   \n",
    "### Arithmetic with Series:\n",
    "\n",
    "* Now, we want to combine pounds and ounces into a single Series that contains total birth weight.\n",
    "* Arithmetic operators work with Series objects; so, to convert from ounces to pounds, we can divide by 16. \n",
    " \n",
    "     * 1 pound = 16 Ounces\n",
    "     \n",
    "            birth_weight = pounds + ounces/16.0\n",
    "            \n",
    "            birth_weight.describe()\n",
    "            "
   ]
  },
  {
   "cell_type": "markdown",
   "id": "b6b533d8",
   "metadata": {},
   "source": [
    "## Example 1: Validate a variable\n",
    "\n",
    "In the NSFG dataset, the variable 'outcome' encodes the outcome of each pregnancy as shown below:\n",
    "\n",
    "    value\tlabel\n",
    "        1\tLive birth\n",
    "        2\tInduced abortion\n",
    "        3\tStillbirth\n",
    "        4\tMiscarriage\n",
    "        5\tEctopic pregnancy\n",
    "        6\tCurrent pregnancy\n",
    "    \n",
    "The nsfg DataFrame has been pre-loaded for you. Explore it in the IPython Shell and use the methods Allen showed you in the video to answer the following question: How many pregnancies in this dataset ended with a live birth?\n",
    "\n"
   ]
  },
  {
   "cell_type": "code",
   "execution_count": 1,
   "id": "716b45f1",
   "metadata": {},
   "outputs": [
    {
     "data": {
      "text/plain": [
       "1    6489\n",
       "4    1469\n",
       "2     947\n",
       "6     249\n",
       "5     118\n",
       "3      86\n",
       "Name: outcome, dtype: int64"
      ]
     },
     "execution_count": 1,
     "metadata": {},
     "output_type": "execute_result"
    }
   ],
   "source": [
    "import pandas as pd\n",
    "\n",
    "nsfg = pd.read_hdf('nsfg.hdf5')\n",
    "\n",
    "#nsfg.columns\n",
    "\n",
    "#How many pregnancies ended with a live birth\n",
    "\n",
    "nsfg['outcome'].value_counts()"
   ]
  },
  {
   "cell_type": "markdown",
   "id": "ee76e786",
   "metadata": {},
   "source": [
    "## Example 2: Clean a variable\n",
    "In the NSFG dataset, the variable 'nbrnaliv' records the number of babies born alive at the end of a pregnancy.\n",
    "\n",
    "If you use .value_counts() to view the responses, you'll see that the value 8 appears once, and if you consult the codebook, you'll see that this value indicates that the respondent refused to answer the question.\n",
    "\n",
    "Your job in this exercise is to replace this value with np.nan. Recall from the video how Allen replaced the values 98 and 99 in the ounces column using the .replace() method:\n",
    "\n",
    "    ounces.replace([98, 99], np.nan, inplace=True)\n",
    "    \n",
    "### Steps: \n",
    "1. In the 'nbrnaliv' column, replace the value 8, in place, with the special value NaN.\n",
    "2. Confirm that the value 8 no longer appears in this column by printing the values and their frequencies.\n",
    "\n"
   ]
  },
  {
   "cell_type": "code",
   "execution_count": 2,
   "id": "8ac3bb43",
   "metadata": {},
   "outputs": [
    {
     "name": "stdout",
     "output_type": "stream",
     "text": [
      "Index(['caseid', 'outcome', 'birthwgt_lb1', 'birthwgt_oz1', 'prglngth',\n",
      "       'nbrnaliv', 'agecon', 'agepreg', 'hpagelb', 'wgt2013_2015'],\n",
      "      dtype='object')\n",
      "1.0    6379\n",
      "2.0     100\n",
      "3.0       5\n",
      "Name: nbrnaliv, dtype: int64\n"
     ]
    }
   ],
   "source": [
    "import numpy as np\n",
    "\n",
    "print(nsfg.columns)\n",
    "\n",
    "nsfg['nbrnaliv'].replace(8, np.nan, inplace = True)\n",
    "\n",
    "print(nsfg['nbrnaliv'].value_counts())"
   ]
  },
  {
   "cell_type": "markdown",
   "id": "556b02f9",
   "metadata": {},
   "source": [
    "## Example 3: Compute a variable\n",
    "For each pregnancy in the NSFG dataset, the variable 'agecon' encodes the respondent's age at conception, and 'agepreg' the respondent's age at the end of the pregnancy.\n",
    "\n",
    "Both variables are recorded as integers with two implicit decimal places, so the value 2575 means that the respondent's age was 25.75.\n",
    "\n",
    "#### Part1: Select 'agecon' and 'agepreg', divide them by 100, and assign them to the local variables agecon and agepreg.\n",
    "\n",
    "#### Part 2: Compute the difference, which is an estimate of the duration of the pregnancy. Keep in mind that for each pregnancy, agepreg will be larger than agecon.\n",
    "\n",
    "#### Part3: Use .describe() to compute the mean duration and other summary statistics."
   ]
  },
  {
   "cell_type": "code",
   "execution_count": 17,
   "id": "7e53bccd",
   "metadata": {},
   "outputs": [
    {
     "name": "stdout",
     "output_type": "stream",
     "text": [
      "Age when concieve: \n",
      " 0       20.00\n",
      "1       22.91\n",
      "2       32.41\n",
      "3       36.50\n",
      "4       21.91\n",
      "        ...  \n",
      "9353    17.58\n",
      "9354    17.41\n",
      "9355    20.91\n",
      "9356    34.50\n",
      "9357    36.83\n",
      "Name: agecon, Length: 9358, dtype: float64\n",
      "\n",
      "\n",
      "\n",
      "Age while pregnancy:\n",
      " 0       20.75\n",
      "1       23.58\n",
      "2       33.08\n",
      "3         NaN\n",
      "4       22.66\n",
      "        ...  \n",
      "9353    18.25\n",
      "9354    18.16\n",
      "9355    21.58\n",
      "9356    35.25\n",
      "9357    37.58\n",
      "Name: agepreg, Length: 9358, dtype: float64\n",
      "\n",
      "\n",
      "Pregnency Length:\n",
      " 0       0.75\n",
      "1       0.67\n",
      "2       0.67\n",
      "3        NaN\n",
      "4       0.75\n",
      "        ... \n",
      "9353    0.67\n",
      "9354    0.75\n",
      "9355    0.67\n",
      "9356    0.75\n",
      "9357    0.75\n",
      "Length: 9358, dtype: float64\n",
      "\n",
      "\n",
      "\n",
      " count    9109.000000\n",
      "mean        0.552069\n",
      "std         0.271479\n",
      "min         0.000000\n",
      "25%         0.250000\n",
      "50%         0.670000\n",
      "75%         0.750000\n",
      "max         0.920000\n",
      "dtype: float64\n"
     ]
    }
   ],
   "source": [
    "# Select the columns and divide by 100\n",
    "agecon = nsfg['agecon'] / 100\n",
    "agepreg = nsfg['agepreg'] / 100\n",
    "\n",
    "print('Age when concieve: \\n',agecon)\n",
    "print('\\n\\n\\nAge while pregnancy:\\n',agepreg)\n",
    "\n",
    "# Compute the difference\n",
    "preg_length = agepreg - agecon\n",
    "\n",
    "print('\\n\\nPregnency Length:\\n', preg_length)\n",
    "\n",
    "# Compute summary statistics\n",
    "print('\\n\\n\\n', preg_length.describe())"
   ]
  },
  {
   "cell_type": "code",
   "execution_count": null,
   "id": "980e8f92",
   "metadata": {},
   "outputs": [],
   "source": []
  }
 ],
 "metadata": {
  "kernelspec": {
   "display_name": "Python 3 (ipykernel)",
   "language": "python",
   "name": "python3"
  },
  "language_info": {
   "codemirror_mode": {
    "name": "ipython",
    "version": 3
   },
   "file_extension": ".py",
   "mimetype": "text/x-python",
   "name": "python",
   "nbconvert_exporter": "python",
   "pygments_lexer": "ipython3",
   "version": "3.9.13"
  }
 },
 "nbformat": 4,
 "nbformat_minor": 5
}
