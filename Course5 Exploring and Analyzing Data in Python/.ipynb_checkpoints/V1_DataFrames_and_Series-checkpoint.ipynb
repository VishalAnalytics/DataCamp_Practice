{
 "cells": [
  {
   "cell_type": "markdown",
   "id": "de118427",
   "metadata": {},
   "source": [
    "# V1: DataFrames and Series:\n",
    "\n",
    "### Using Data to answer questions: \n",
    "What is the average birth weight of babies in the United States?\n",
    "\n",
    "* Find appropriate data, or collect it --- Survey\n",
    "* Read data in your development environment\n",
    "* Clean and validate\n",
    "\n",
    "### Working with hdf5 Datatype\n",
    "\n",
    "    import pandas as pd\n",
    "    nsfg= pd.read_hdf('nsfg.hdf5', 'nsfg' )\n",
    "    print(type(nsfg))\n",
    "    \n",
    "    nsfg.head()\n",
    "    \n",
    "    nsfg.shape\n",
    "    \n",
    "    nsfg.columns\n",
    "    \n",
    "#### In many ways a DataFrame is like a python dictionary, where the variable names are the keys and the columns are the values.\n",
    "    \n",
    "    pounds = nsfg['brithwt_lb1']\n",
    "    type(pounds) \n",
    "#### It will be series. This series contains the birthweights, in pounds of the live birth. Or in case of multiple births, the first baby.\n",
    "    \n",
    "    pounds.head()\n",
    "    \n",
    "    \n",
    "    "
   ]
  },
  {
   "cell_type": "code",
   "execution_count": 9,
   "id": "e6558b9a",
   "metadata": {},
   "outputs": [
    {
     "name": "stdout",
     "output_type": "stream",
     "text": [
      "<class 'pandas.core.frame.DataFrame'>\n",
      "Index(['caseid', 'outcome', 'birthwgt_lb1', 'birthwgt_oz1', 'prglngth',\n",
      "       'nbrnaliv', 'agecon', 'agepreg', 'hpagelb', 'wgt2013_2015'],\n",
      "      dtype='object')\n"
     ]
    },
    {
     "data": {
      "text/plain": [
       "0    5.0\n",
       "1    4.0\n",
       "2    5.0\n",
       "3    NaN\n",
       "4    8.0\n",
       "Name: birthwgt_lb1, dtype: float64"
      ]
     },
     "execution_count": 9,
     "metadata": {},
     "output_type": "execute_result"
    }
   ],
   "source": [
    "    import pandas as pd\n",
    "    nsfg= pd.read_hdf('nsfg.hdf5', 'nsfg' )\n",
    "    print(type(nsfg))\n",
    "    \n",
    "    nsfg.head()\n",
    "    \n",
    "    nsfg.shape\n",
    "    \n",
    "    print(nsfg.columns)\n",
    "    \n",
    "    pounds = nsfg['birthwgt_lb1']\n",
    "    \n",
    "    pounds.head()"
   ]
  },
  {
   "cell_type": "markdown",
   "id": "ecb6c7da",
   "metadata": {},
   "source": [
    "## Example 1: Read the codebook\n",
    "When you work with datasets like the NSFG, it is important to read the documentation carefully. If you interpret a variable incorrectly, you can generate nonsense results and never realize it. So before you start coding, you'll need to get familiar with the NSFG codebook, which describes every variable.\n",
    "\n",
    "Here is the documentation from the NSFG codebook for \"BIRTHWGT_OZ1\":\n",
    "\n",
    "birthwgt_oz1 codebook\n",
    "\n",
    "How many respondents refused to answer this question?\n",
    "\n",
    "### Ans: 1\n",
    "\n"
   ]
  },
  {
   "cell_type": "markdown",
   "id": "041bda6c",
   "metadata": {},
   "source": [
    "## Example 2: Exploring the NSFG data\n",
    "To get the number of rows and columns in a DataFrame, you can read its shape attribute.\n",
    "\n",
    "To get the column names, you can read the columns attribute. The result is an Index, which is a Pandas data structure that is similar to a list. Let's begin exploring the NSFG data! It has been pre-loaded for you into a DataFrame called nsfg.\n",
    "\n",
    "### Part1: Calculate the number of rows and columns in the DataFrame nsfg.\n",
    "\n",
    "nsfg.shape\n",
    "\n",
    "### Part2: Display the names of the columns in nsfg\n",
    "\n",
    "nsfg.columns\n",
    "\n",
    "### Part 3: Select the column 'birthwgt_oz1' and assign it to a new variable called ounces.\n",
    "\n",
    "ounces = nsfg['birthwgt_oz1']\n",
    "\n",
    "### Part 4: Display the first 5 elements of ounces.\n",
    "\n",
    "print(ounces.head(5))"
   ]
  },
  {
   "cell_type": "code",
   "execution_count": 11,
   "id": "de3331ab",
   "metadata": {},
   "outputs": [
    {
     "name": "stdout",
     "output_type": "stream",
     "text": [
      "(9358, 10)\n",
      "Index(['caseid', 'outcome', 'birthwgt_lb1', 'birthwgt_oz1', 'prglngth',\n",
      "       'nbrnaliv', 'agecon', 'agepreg', 'hpagelb', 'wgt2013_2015'],\n",
      "      dtype='object')\n",
      "0     4.0\n",
      "1    12.0\n",
      "2     4.0\n",
      "3     NaN\n",
      "4    13.0\n",
      "Name: birthwgt_oz1, dtype: float64\n"
     ]
    }
   ],
   "source": [
    "print(nsfg.shape)\n",
    "\n",
    "print(nsfg.columns)\n",
    "\n",
    "ounces = nsfg['birthwgt_oz1']\n",
    "\n",
    "print(ounces.head(5))"
   ]
  },
  {
   "cell_type": "code",
   "execution_count": null,
   "id": "262819e7",
   "metadata": {},
   "outputs": [],
   "source": []
  }
 ],
 "metadata": {
  "kernelspec": {
   "display_name": "Python 3 (ipykernel)",
   "language": "python",
   "name": "python3"
  },
  "language_info": {
   "codemirror_mode": {
    "name": "ipython",
    "version": 3
   },
   "file_extension": ".py",
   "mimetype": "text/x-python",
   "name": "python",
   "nbconvert_exporter": "python",
   "pygments_lexer": "ipython3",
   "version": "3.9.13"
  }
 },
 "nbformat": 4,
 "nbformat_minor": 5
}
