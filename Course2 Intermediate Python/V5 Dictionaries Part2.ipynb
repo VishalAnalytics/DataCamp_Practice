{
 "cells": [
  {
   "cell_type": "markdown",
   "id": "d091a1d6",
   "metadata": {},
   "source": [
    "## V5: Dictionaries Part2\n",
    "\n",
    "### keys in dictionaries are immutable object. \n",
    "    Float, Int, Bool, String are all immutable object. Immutable objects are those which can't be change once they are created.\n",
    "    Hence we can have keys as float, bool, string or int only. It can't be LIST.\n",
    "    \n",
    "    Valid Dictionary: { 'Truth': 0, True:0, 'Hello':1.22, 221: 3323 } \n",
    "    Invalid Dictionary: { [12, 23, 345] : \"Values\" }\n",
    "    \n",
    "### Adding data to existing Dictionary:\n",
    "#### Adding world dictionary a population of 'SeaLand' nation. \n",
    "    world['Sealand'] = 0.000027\n",
    "    "
   ]
  },
  {
   "cell_type": "code",
   "execution_count": 17,
   "id": "2228ef96",
   "metadata": {},
   "outputs": [
    {
     "name": "stdout",
     "output_type": "stream",
     "text": [
      "Searching Dict1 for Ram age, height and weight:  [25, 1.75, 69]\n",
      "\n",
      "World:  {'afghanistan': 2.55, 'albania': 0.89, 'Sealand': 2.7e-05}\n",
      "\n",
      "Find if Sealand added to world data:  True\n",
      "\n",
      "Updated World for Sealand population:  {'afghanistan': 2.55, 'albania': 0.89, 'Sealand': 3e-05}\n",
      "\n",
      "Deleting Sealand from World:  {'afghanistan': 2.55, 'albania': 0.89}\n"
     ]
    }
   ],
   "source": [
    "# Dictionary having details of age, height and weight of people\n",
    "Dict1 = {'Ram': [25, 1.75, 69], 'Shyam' : [27, 1.67, 59]}\n",
    "\n",
    "print('Searching Dict1 for Ram age, height and weight: ',Dict1['Ram'])\n",
    "\n",
    "#Creating a dictionary having data for countries and there respective populations.\n",
    "world = {'afghanistan': 2.55, 'albania': 0.89}\n",
    "world['Sealand'] = 0.000027\n",
    "print('\\nWorld: ', world)\n",
    "\n",
    "# Checking if 'Sealand' is added to world data\n",
    "print('\\nFind if Sealand added to world data: ', 'Sealand' in world)\n",
    "\n",
    "# We can update the population of any country in 'world' dictionary\n",
    "\n",
    "world['Sealand'] = 0.000030\n",
    "print('\\nUpdated World for Sealand population: ', world)\n",
    "\n",
    "# Removing Sealand from world population\n",
    "\n",
    "del(world['Sealand'])\n",
    "print('\\nDeleting Sealand from World: ', world)"
   ]
  },
  {
   "cell_type": "markdown",
   "id": "71060430",
   "metadata": {},
   "source": [
    "## Example 1: Dictionary Manipulation (1)\n",
    "If you know how to access a dictionary, you can also assign a new value to it. To add a new key-value pair to europe you can use something like this:\n",
    "\n",
    "    europe['iceland'] = 'reykjavik'\n",
    "    \n",
    "### Steps: \n",
    "1. Add the key 'italy' with the value 'rome' to europe.\n",
    "2. To assert that 'italy' is now a key in europe, print out 'italy' in europe.\n",
    "4. Add another key:value pair to europe: 'poland' is the key, 'warsaw' is the corresponding value.\n",
    "3. Print out europe."
   ]
  },
  {
   "cell_type": "code",
   "execution_count": 22,
   "id": "c5191d0a",
   "metadata": {},
   "outputs": [
    {
     "name": "stdout",
     "output_type": "stream",
     "text": [
      "\n",
      "Printing \"Italy\":  rome\n",
      "\n",
      "Added \"Italy\" and \"Poland\" to Europe:\n",
      " {'spain': 'madrid', 'france': 'paris', 'germany': 'berlin', 'norway': 'oslo', 'italy': 'rome', 'poland': 'warsaw'}\n"
     ]
    }
   ],
   "source": [
    "# Definition of dictionary\n",
    "europe = {'spain':'madrid', 'france':'paris', 'germany':'berlin', 'norway':'oslo' }\n",
    "\n",
    "# 1. Add the key 'italy' with the value 'rome' to europe.\n",
    "europe['italy']= 'rome'\n",
    "\n",
    "# 2. To asset that 'italy' is now a key in europe, print out 'italy' in europe\n",
    "print('\\nPrinting \"Italy\": ', europe['italy'])\n",
    "\n",
    "# 3. Add 'poland' to europe with 'warsaw' as capital\n",
    "europe['poland']= 'warsaw'\n",
    "\n",
    "print('\\nAdded \"Italy\" and \"Poland\" to Europe:\\n', europe)"
   ]
  },
  {
   "cell_type": "markdown",
   "id": "15e0894d",
   "metadata": {},
   "source": [
    "## Example 2: Dictionary Manipulation (2)\n",
    "Somebody thought it would be funny to mess with your accurately generated dictionary. An adapted version of the europe dictionary is available in the script.\n",
    "\n",
    "Can you clean up? Do not do this by adapting the definition of europe, but by adding Python commands to the script to update and remove key:value pairs.\n",
    "\n",
    "### Steps: \n",
    "1. The capital of Germany is not 'bonn'; it's 'berlin'. Update its value.\n",
    "2. Australia is not in Europe, Austria is! Remove the key 'australia' from europe.\n",
    "3. Print out europe to see if your cleaning work paid off."
   ]
  },
  {
   "cell_type": "code",
   "execution_count": 29,
   "id": "c00ce309",
   "metadata": {},
   "outputs": [
    {
     "name": "stdout",
     "output_type": "stream",
     "text": [
      "Original entries in Europe Dictionary: \n",
      " {'spain': 'madrid', 'france': 'paris', 'germany': 'bonn', 'norway': 'oslo', 'italy': 'rome', 'poland': 'warsaw', 'australia': 'vienna'}\n",
      "\n",
      "Updated europe list:\n",
      " {'spain': 'madrid', 'france': 'paris', 'germany': 'berlin', 'norway': 'oslo', 'italy': 'rome', 'poland': 'warsaw', 'australia': 'vienna'}\n",
      "\n",
      "Deleted Australia from europe list:\n",
      "  {'spain': 'madrid', 'france': 'paris', 'germany': 'berlin', 'norway': 'oslo', 'italy': 'rome', 'poland': 'warsaw'}\n"
     ]
    }
   ],
   "source": [
    "# Definition of dictionary\n",
    "europe2 = {'spain':'madrid', 'france':'paris', 'germany':'bonn',\n",
    "          'norway':'oslo', 'italy':'rome', 'poland':'warsaw',\n",
    "          'australia':'vienna' }\n",
    "\n",
    "print('Original entries in Europe Dictionary: \\n', europe2)\n",
    "\n",
    "# Updating Germany's capital from 'bonn' to 'berlin'\n",
    "europe2['germany']= 'berlin'\n",
    "\n",
    "print('\\nUpdated europe list:\\n', europe2)\n",
    "\n",
    "# Australia is not in Europe so we need to remove this from list.\n",
    "\n",
    "del(europe2['australia'])\n",
    "\n",
    "print('\\nDeleted Australia from europe list:\\n ', europe2)"
   ]
  },
  {
   "cell_type": "markdown",
   "id": "4a49beff",
   "metadata": {},
   "source": [
    "## Example 3: Dictionariception\n",
    "Remember lists? They could contain anything, even other lists. Well, for dictionaries the same holds. Dictionaries can contain key:value pairs where the values are again dictionaries.\n",
    "\n",
    "As an example, have a look at the script where another version of europe - the dictionary you've been working with all along - is coded. The keys are still the country names, but the values are dictionaries that contain more information than just the capital.\n",
    "\n",
    "It's perfectly possible to chain square brackets to select elements. To fetch the population for Spain from europe, for example, you need:\n",
    "\n",
    "    europe['spain']['population']\n",
    "    \n",
    "### Steps:\n",
    "1. Use chained square brackets to select and print out the capital of France.\n",
    "2. Create a dictionary, named data, with the keys 'capital' and 'population'. Set them to 'rome' and 59.83, respectively.\n",
    "3. Add a new key-value pair to europe; the key is 'italy' and the value is data, the dictionary you just built."
   ]
  },
  {
   "cell_type": "code",
   "execution_count": 38,
   "id": "b75a23c7",
   "metadata": {},
   "outputs": [
    {
     "name": "stdout",
     "output_type": "stream",
     "text": [
      "Printing newly created europe3 dictionary of dictionary:\n",
      " {'spain': {'capital': 'madrid', 'population': 46.77}, 'france': {'capital': 'paris', 'population': 66.03}, 'germany': {'capital': 'berlin', 'population': 80.62}, 'norway': {'capital': 'oslo', 'population': 5.084}}\n",
      "\n",
      "Capital of France:  paris\n",
      "\n",
      "Printing newly created dictionary: {'capital': 'rome', 'populations': 59.83}\n",
      "\n",
      "Adding new key-value pair and printing it:\n",
      " {'spain': {'capital': 'madrid', 'population': 46.77}, 'france': {'capital': 'paris', 'population': 66.03}, 'germany': {'capital': 'berlin', 'population': 80.62}, 'norway': {'capital': 'oslo', 'population': 5.084}, 'italy': {'capital': 'rome', 'populations': 59.83}}\n"
     ]
    }
   ],
   "source": [
    "# Dictionary of dictionaries\n",
    "europe3 = { 'spain': { 'capital':'madrid', 'population':46.77 },\n",
    "           'france': { 'capital':'paris', 'population':66.03 },\n",
    "           'germany': { 'capital':'berlin', 'population':80.62 },\n",
    "           'norway': { 'capital':'oslo', 'population':5.084 } }\n",
    "\n",
    "print('Printing newly created europe3 dictionary of dictionary:\\n',europe3 )\n",
    "\n",
    "# 1. Use chained square brackets to select and print out the capital of France.\n",
    "\n",
    "print('\\nCapital of France: ',europe3['france']['capital'])\n",
    "\n",
    "\n",
    "# 2. Create a dictionary, named data, with the keys 'capital' and 'population'. Set them to 'rome' and 59.83, respectively.\n",
    "\n",
    "data = {'capital': 'rome', 'populations': 59.83}\n",
    "print('\\nPrinting newly created dictionary:', data)\n",
    "\n",
    "# 3. Add a new key-value pair to europe; the key is 'italy' and the value is data, the dictionary you just built.\n",
    "\n",
    "europe3['italy'] = data\n",
    "\n",
    "print('\\nAdding new key-value pair and printing it:\\n', europe3)"
   ]
  },
  {
   "cell_type": "code",
   "execution_count": null,
   "id": "17e61984",
   "metadata": {},
   "outputs": [],
   "source": []
  },
  {
   "cell_type": "code",
   "execution_count": null,
   "id": "958157ef",
   "metadata": {},
   "outputs": [],
   "source": []
  }
 ],
 "metadata": {
  "kernelspec": {
   "display_name": "Python 3 (ipykernel)",
   "language": "python",
   "name": "python3"
  },
  "language_info": {
   "codemirror_mode": {
    "name": "ipython",
    "version": 3
   },
   "file_extension": ".py",
   "mimetype": "text/x-python",
   "name": "python",
   "nbconvert_exporter": "python",
   "pygments_lexer": "ipython3",
   "version": "3.9.13"
  }
 },
 "nbformat": 4,
 "nbformat_minor": 5
}
