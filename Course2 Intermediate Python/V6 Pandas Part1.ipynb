{
 "cells": [
  {
   "cell_type": "markdown",
   "id": "a4fc9493",
   "metadata": {},
   "source": [
    "## V6: Pandas Part1:\n",
    "Here we will be getting an introduction to Pandas object.\n",
    "Earlier we looked into numpy object and dictionaries.\n",
    "\n",
    "### Datasets in python\n",
    "#### Pandas:\n",
    "    1. Pandas are High level data manipulation tool\n",
    "    2. Created by Wes McKinney\n",
    "    3. Built on NumPy\n",
    "    4. It is having a object called 'DataFrame' that holds the tabular data with index.\n",
    "    5. Using index_col=0 to choose the index of dataframe.\n",
    "\n",
    "    "
   ]
  },
  {
   "cell_type": "code",
   "execution_count": 1,
   "id": "5e51204f",
   "metadata": {},
   "outputs": [
    {
     "name": "stdout",
     "output_type": "stream",
     "text": [
      "{'country': ['brazil', 'india', 'russia', 'china', 'S. Africa'], 'population': [200, 4344, 1274, 5034, 59], 'capital': ['brasilia', 'new delhi', 'moscow', 'beijing', 'pretoria']}\n",
      "\n",
      "BRICS DataFrame: \n",
      "      country  population    capital\n",
      "0     brazil         200   brasilia\n",
      "1      india        4344  new delhi\n",
      "2     russia        1274     moscow\n",
      "3      china        5034    beijing\n",
      "4  S. Africa          59   pretoria\n",
      "\n",
      "After adding index to BRICS Dataframe:\n",
      "       country  population    capital\n",
      "BR     brazil         200   brasilia\n",
      "IN      india        4344  new delhi\n",
      "RU     russia        1274     moscow\n",
      "CH      china        5034    beijing\n",
      "SA  S. Africa          59   pretoria\n"
     ]
    }
   ],
   "source": [
    "# We can create a DataFrame from Dictionary\n",
    "\n",
    "dict = {\n",
    "        \"country\": ['brazil', 'india', 'russia', 'china', 'S. Africa'],\n",
    "        \"population\": [200, 4344, 1274, 5034, 59],\n",
    "        \"capital\":['brasilia', 'new delhi', 'moscow', 'beijing','pretoria']\n",
    "}\n",
    "\n",
    "print(dict)\n",
    "\n",
    "# Importing pandas pkg\n",
    "import pandas as pd\n",
    "\n",
    "# Creating a pandas dataframe from dictionary.\n",
    "brics=pd.DataFrame(dict)\n",
    "\n",
    "print('\\nBRICS DataFrame: \\n', brics)\n",
    "\n",
    "brics.index=['BR', 'IN', 'RU', 'CH', \"SA\" ]\n",
    "\n",
    "print('\\nAfter adding index to BRICS Dataframe:\\n', brics)"
   ]
  },
  {
   "cell_type": "markdown",
   "id": "46b2cde9",
   "metadata": {},
   "source": [
    "## Example 1: Dictionary to DataFrame (1)\n",
    "Pandas is an open source library, providing high-performance, easy-to-use data structures and data analysis tools for Python. Sounds promising!\n",
    "\n",
    "The DataFrame is one of Pandas' most important data structures. It's basically a way to store tabular data where you can label the rows and the columns. One way to build a DataFrame is from a dictionary.\n",
    "\n",
    "In the exercises that follow you will be working with vehicle data from different countries. Each observation corresponds to a country and the columns give information about the number of vehicles per capita, whether people drive left or right, and so on.\n",
    "\n",
    "Three lists are defined in the script:\n",
    "\n",
    "    names, containing the country names for which data is available.\n",
    "    dr, a list with booleans that tells whether people drive left or right in the corresponding country.\n",
    "    cpc, the number of motor vehicles per 1000 people in the corresponding country.\n",
    "    \n",
    "Each dictionary key is a column label and each value is a list which contains the column elements.\n",
    "\n",
    "### Steps:\n",
    "1. Import pandas as pd.\n",
    "2. Use the pre-defined lists to create a dictionary called my_dict. There should be three key value pairs:\n",
    "3. key 'country' and value names.\n",
    "4. key 'drives_right' and value dr.\n",
    "5. key 'cars_per_cap' and value cpc.\n",
    "6. Use pd.DataFrame() to turn your dict into a DataFrame called cars.\n",
    "7. Print out cars and see how beautiful it is."
   ]
  },
  {
   "cell_type": "code",
   "execution_count": 2,
   "id": "20300515",
   "metadata": {},
   "outputs": [
    {
     "name": "stdout",
     "output_type": "stream",
     "text": [
      "\n",
      "Printing newly created dictionary:\n",
      " {'country': ['United States', 'Australia', 'Japan', 'India', 'Russia', 'Morocco', 'Egypt'], 'drives_right': [True, False, False, False, True, True, True], 'cars_per_cap': [809, 731, 588, 18, 200, 70, 45]}\n",
      "\n",
      "Dataframe \"CARS\" from my_dict:\n",
      "          country  drives_right  cars_per_cap\n",
      "0  United States          True           809\n",
      "1      Australia         False           731\n",
      "2          Japan         False           588\n",
      "3          India         False            18\n",
      "4         Russia          True           200\n",
      "5        Morocco          True            70\n",
      "6          Egypt          True            45\n"
     ]
    }
   ],
   "source": [
    "#1 Importing pandas pkg\n",
    "\n",
    "import pandas as pd\n",
    "\n",
    "#2 Creating my_dict from existing lists.\n",
    "\n",
    "# Pre-defined lists\n",
    "names = ['United States', 'Australia', 'Japan', 'India', 'Russia', 'Morocco', 'Egypt']\n",
    "dr =  [True, False, False, False, True, True, True]\n",
    "cpc = [809, 731, 588, 18, 200, 70, 45]\n",
    "\n",
    "my_dict= {'country': names, 'drives_right': dr, 'cars_per_cap': cpc}\n",
    "\n",
    "print('\\nPrinting newly created dictionary:\\n', my_dict)\n",
    "\n",
    "# 6. Converting above dictionary to table using dataframe object\n",
    "\n",
    "cars=pd.DataFrame(my_dict)\n",
    "\n",
    "print('\\nDataframe \"CARS\" from my_dict:\\n', cars)"
   ]
  },
  {
   "cell_type": "markdown",
   "id": "ca1c8035",
   "metadata": {},
   "source": [
    "## Example 2: Dictionary to DataFrame (2)\n",
    "The Python code that solves the previous exercise is included in the script. Have you noticed that the row labels (i.e. the labels for the different observations) were automatically set to integers from 0 up to 6?\n",
    "\n",
    "To solve this a list row_labels has been created. You can use it to specify the row labels of the cars DataFrame. You do this by setting the index attribute of cars, that you can access as cars.index.\n",
    "\n",
    "### Steps:\n",
    "1. Hit Run Code to see that, indeed, the row labels are not correctly set.\n",
    "2. Specify the row labels by setting cars.index equal to row_labels.\n",
    "3. Print out cars again and check if the row labels are correct this time."
   ]
  },
  {
   "cell_type": "code",
   "execution_count": 3,
   "id": "0444945d",
   "metadata": {},
   "outputs": [
    {
     "name": "stdout",
     "output_type": "stream",
     "text": [
      "\n",
      "Car with updated index is:\n",
      "            country  drives_right  cars_per_cap\n",
      "US   United States          True           809\n",
      "AUS      Australia         False           731\n",
      "JPN          Japan         False           588\n",
      "IN           India         False            18\n",
      "RU          Russia          True           200\n",
      "MOR        Morocco          True            70\n",
      "EG           Egypt          True            45\n"
     ]
    }
   ],
   "source": [
    "# Definition of row_labels\n",
    "row_labels = ['US', 'AUS', 'JPN', 'IN', 'RU', 'MOR', 'EG']\n",
    "\n",
    "cars.index=row_labels\n",
    "\n",
    "print('\\nCar with updated index is:\\n', cars)\n",
    "\n"
   ]
  },
  {
   "cell_type": "markdown",
   "id": "c338a7fe",
   "metadata": {},
   "source": [
    "## Example 3: CSV to DataFrame (1)\n",
    "Putting data in a dictionary and then building a DataFrame works, but it's not very efficient. What if you're dealing with millions of observations? In those cases, the data is typically available as files with a regular structure. One of those file types is the CSV file, which is short for \"comma-separated values\".\n",
    "\n",
    "To import CSV data into Python as a Pandas DataFrame you can use read_csv().\n",
    "\n",
    "Let's explore this function with the same cars data from the previous exercises. This time, however, the data is available in a CSV file, named cars.csv. It is available in your current working directory, so the path to the file is simply 'cars.csv'.\n",
    "\n",
    "### Steps: \n",
    "1. To import CSV files you still need the pandas package: import it as pd.\n",
    "2. Use pd.read_csv() to import cars.csv data as a DataFrame. Store this DataFrame as cars.\n",
    "3. Print out cars. Does everything look OK?"
   ]
  },
  {
   "cell_type": "code",
   "execution_count": 4,
   "id": "5ece256c",
   "metadata": {},
   "outputs": [
    {
     "data": {
      "text/html": [
       "<div>\n",
       "<style scoped>\n",
       "    .dataframe tbody tr th:only-of-type {\n",
       "        vertical-align: middle;\n",
       "    }\n",
       "\n",
       "    .dataframe tbody tr th {\n",
       "        vertical-align: top;\n",
       "    }\n",
       "\n",
       "    .dataframe thead th {\n",
       "        text-align: right;\n",
       "    }\n",
       "</style>\n",
       "<table border=\"1\" class=\"dataframe\">\n",
       "  <thead>\n",
       "    <tr style=\"text-align: right;\">\n",
       "      <th></th>\n",
       "      <th>Unnamed: 0</th>\n",
       "      <th>cars_per_cap</th>\n",
       "      <th>country</th>\n",
       "      <th>drives_right</th>\n",
       "    </tr>\n",
       "  </thead>\n",
       "  <tbody>\n",
       "    <tr>\n",
       "      <th>0</th>\n",
       "      <td>US</td>\n",
       "      <td>809</td>\n",
       "      <td>United States</td>\n",
       "      <td>True</td>\n",
       "    </tr>\n",
       "    <tr>\n",
       "      <th>1</th>\n",
       "      <td>AUS</td>\n",
       "      <td>731</td>\n",
       "      <td>Australia</td>\n",
       "      <td>False</td>\n",
       "    </tr>\n",
       "    <tr>\n",
       "      <th>2</th>\n",
       "      <td>JPN</td>\n",
       "      <td>588</td>\n",
       "      <td>Japan</td>\n",
       "      <td>False</td>\n",
       "    </tr>\n",
       "    <tr>\n",
       "      <th>3</th>\n",
       "      <td>IN</td>\n",
       "      <td>18</td>\n",
       "      <td>India</td>\n",
       "      <td>False</td>\n",
       "    </tr>\n",
       "    <tr>\n",
       "      <th>4</th>\n",
       "      <td>RU</td>\n",
       "      <td>200</td>\n",
       "      <td>Russia</td>\n",
       "      <td>True</td>\n",
       "    </tr>\n",
       "    <tr>\n",
       "      <th>5</th>\n",
       "      <td>MOR</td>\n",
       "      <td>70</td>\n",
       "      <td>Morocco</td>\n",
       "      <td>True</td>\n",
       "    </tr>\n",
       "    <tr>\n",
       "      <th>6</th>\n",
       "      <td>EG</td>\n",
       "      <td>45</td>\n",
       "      <td>Egypt</td>\n",
       "      <td>True</td>\n",
       "    </tr>\n",
       "  </tbody>\n",
       "</table>\n",
       "</div>"
      ],
      "text/plain": [
       "  Unnamed: 0  cars_per_cap        country  drives_right\n",
       "0         US           809  United States          True\n",
       "1        AUS           731      Australia         False\n",
       "2        JPN           588          Japan         False\n",
       "3         IN            18          India         False\n",
       "4         RU           200         Russia          True\n",
       "5        MOR            70        Morocco          True\n",
       "6         EG            45          Egypt          True"
      ]
     },
     "execution_count": 4,
     "metadata": {},
     "output_type": "execute_result"
    }
   ],
   "source": [
    "import pandas as pd\n",
    "cars_csv= pd.read_csv('cars.csv')\n",
    "cars_csv\n"
   ]
  },
  {
   "cell_type": "markdown",
   "id": "36e84cb7",
   "metadata": {},
   "source": [
    "## Example 4: CSV to DataFrame (2)\n",
    "Your read_csv() call to import the CSV data didn't generate an error, but the output is not entirely what we wanted. The row labels were imported as another column without a name.\n",
    "\n",
    "Remember index_col, an argument of read_csv(), that you can use to specify which column in the CSV file should be used as a row label? Well, that's exactly what you need here!\n",
    "\n",
    "Python code that solves the previous exercise is already included; can you make the appropriate changes to fix the data import?\n",
    "\n",
    "### Steps: \n",
    "1. Run the code with Run Code and assert that the first column should actually be used as row labels.\n",
    "2. Specify the index_col argument inside pd.read_csv(): set it to 0, so that the first column is used as row labels.\n",
    "3. Has the printout of cars improved now?"
   ]
  },
  {
   "cell_type": "code",
   "execution_count": 5,
   "id": "81d8dbc8",
   "metadata": {},
   "outputs": [
    {
     "name": "stdout",
     "output_type": "stream",
     "text": [
      "\\country for example 4 is: \n",
      "   Unnamed: 0       country    capital    area  population\n",
      "0         BR        Brazil   Brasilia   8.516      200.40\n",
      "1         RU        Russia     Moscow  17.100      143.50\n",
      "2         IN         India  New Delhi   3.286     1252.00\n",
      "3         CH         China    Beijing   9.597     1357.00\n",
      "4         SA  South Africa   Pretoria   1.221       52.98\n"
     ]
    }
   ],
   "source": [
    "import pandas as pd\n",
    "country_csv= pd.read_csv('country.csv')\n",
    "country_csv\n",
    "\n",
    "# Using index() function with LIST.\n",
    "Country_List=['Brazil', 'Russia', 'India', 'China', 'South Africa']\n",
    "Capital_List= ['Brasilia', 'Moscow', 'New Delhi', 'Beijing', 'Pretoria']\n",
    "\n",
    "cap_ind = Country_List.index('India')\n",
    "Capital_List[cap_ind]\n",
    "\n",
    "# Specify the index_col argument inside pd.read_csv(): set it to 0, so that the first column is used as row labels.\n",
    "\n",
    "cars_csv2 = pd.read_csv('country.csv', index_col = 0)\n",
    "print('\\country for example 4 is: \\n', country_csv)\n",
    "\n",
    "\n"
   ]
  },
  {
   "cell_type": "code",
   "execution_count": null,
   "id": "81df6267",
   "metadata": {},
   "outputs": [],
   "source": []
  }
 ],
 "metadata": {
  "kernelspec": {
   "display_name": "Python 3 (ipykernel)",
   "language": "python",
   "name": "python3"
  },
  "language_info": {
   "codemirror_mode": {
    "name": "ipython",
    "version": 3
   },
   "file_extension": ".py",
   "mimetype": "text/x-python",
   "name": "python",
   "nbconvert_exporter": "python",
   "pygments_lexer": "ipython3",
   "version": "3.9.13"
  }
 },
 "nbformat": 4,
 "nbformat_minor": 5
}
