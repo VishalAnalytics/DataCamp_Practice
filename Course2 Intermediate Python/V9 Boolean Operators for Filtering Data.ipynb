{
 "cells": [
  {
   "cell_type": "markdown",
   "id": "1a9be1c5",
   "metadata": {},
   "source": [
    "# V9: Boolean Operators use for Filtering data\n",
    "\n",
    "### Generally we have below Operators:\n",
    "    1. and : Example is :- y>8 and y <19\n",
    "    2. or  : Example is :- y>8 or y <19\n",
    "    3. not : Example is : not True. O/P: False\n",
    "    \n",
    "### For NumPy array we have different way to implement it. \n",
    "* logical_and()\n",
    "* logical_or()\n",
    "* logical_not()\n",
    "\n",
    "#### Example of above are:\n",
    "\n",
    "1. np.logical_and(bmi > 21 , bmi< 24 )\n",
    "2. bmi[np.logical_and(bmi>21, bmi<24)]"
   ]
  },
  {
   "cell_type": "markdown",
   "id": "2ab0809e",
   "metadata": {},
   "source": [
    "## Example 1: and, or, not (1)\n",
    "A boolean is either 1 or 0, True or False. With boolean operators such as and, or and not, you can combine these booleans to perform more advanced queries on your data.\n",
    "\n",
    "In the sample code, two variables are defined: my_kitchen and your_kitchen, representing areas.\n",
    "\n",
    "### Steps: \n",
    "Write Python expressions, wrapped in a print() function, to check whether:\n",
    "* my_kitchen is bigger than 10 and smaller than 18.\n",
    "* my_kitchen is smaller than 14 or bigger than 17.\n",
    "* double the area of my_kitchen is smaller than triple the area of your_kitchen."
   ]
  },
  {
   "cell_type": "code",
   "execution_count": 3,
   "id": "e1af9393",
   "metadata": {},
   "outputs": [
    {
     "name": "stdout",
     "output_type": "stream",
     "text": [
      "my_kitchen is bigger than 10 and smaller than 18:  False\n",
      "\n",
      "my_kitchen is smaller than 14 or bigger than 17:  True\n",
      "\n",
      "double the area of my_kitchen is smaller than triple the area of your_kitchen:  True\n"
     ]
    }
   ],
   "source": [
    "# Define variables\n",
    "my_kitchen = 18.0\n",
    "your_kitchen = 14.0\n",
    "\n",
    "# 1. my_kitchen is bigger than 10 and smaller than 18\n",
    "print('my_kitchen is bigger than 10 and smaller than 18: ',my_kitchen > 10 and my_kitchen <18 )\n",
    "\n",
    "# 2. my_kitchen is smaller than 14 or bigger than 17\n",
    "print('\\nmy_kitchen is smaller than 14 or bigger than 17: ',my_kitchen < 14 or my_kitchen > 17)\n",
    "\n",
    "# 3. double the area of my_kitchen is smaller than triple the area of your_kitchen\n",
    "print('\\ndouble the area of my_kitchen is smaller than triple the area of your_kitchen: ',my_kitchen*2 < 3*your_kitchen)"
   ]
  },
  {
   "cell_type": "markdown",
   "id": "194c8fc0",
   "metadata": {},
   "source": [
    "## Example 2: and, or, not (2)\n",
    "To see if you completely understood the boolean operators, have a look at the following piece of Python code:\n",
    "\n",
    "    x = 8\n",
    "    y = 9\n",
    "    not(not(x < 3) and not(y > 14 or y > 10))\n",
    "\n",
    "\n",
    "\n",
    "NB: Notice that not has a higher priority than and and or, it is executed first.\n",
    "\n",
    "### Steps:\n",
    "* What will the result be if you execute these three commands in the IPython Shell?\n"
   ]
  },
  {
   "cell_type": "code",
   "execution_count": 4,
   "id": "4521202d",
   "metadata": {},
   "outputs": [
    {
     "data": {
      "text/plain": [
       "False"
      ]
     },
     "execution_count": 4,
     "metadata": {},
     "output_type": "execute_result"
    }
   ],
   "source": [
    "x=8\n",
    "y=9\n",
    "not(not(x<3) and not(y> 14 or y>10))"
   ]
  },
  {
   "cell_type": "markdown",
   "id": "4bc87fc9",
   "metadata": {},
   "source": [
    "## Example 3: Boolean operators with NumPy\n",
    "Before, the operational operators like < and >= worked with NumPy arrays out of the box. Unfortunately, this is not true for the boolean operators and, or, and not.\n",
    "\n",
    "To use these operators with NumPy, you will need np.logical_and(), np.logical_or() and np.logical_not(). Here's an example on the my_house and your_house arrays from before to give you an idea:\n",
    "\n",
    "    np.logical_and(my_house > 13, \n",
    "               your_house < 15)\n",
    "               \n",
    "### Steps:\n",
    "1. Generate boolean arrays that answer the following questions:\n",
    "2. Which areas in my_house are greater than 18.5 or smaller than 10?\n",
    "3. Which areas are smaller than 11 in both my_house and your_house? Make sure to wrap both commands in print() statement, so that you can inspect the output."
   ]
  },
  {
   "cell_type": "code",
   "execution_count": 9,
   "id": "bb668e24",
   "metadata": {},
   "outputs": [
    {
     "name": "stdout",
     "output_type": "stream",
     "text": [
      "Which areas in my_house are greater than 18.5 or smaller than 10: \n",
      " [False  True False  True] \n",
      " [20.   9.5]\n",
      "\n",
      "\n",
      "Which areas are smaller than 11 in both my_house and your_house: \n",
      " [False False False  True] \n",
      " [9.5] \n",
      " [9.]\n"
     ]
    }
   ],
   "source": [
    "# Create arrays\n",
    "import numpy as np\n",
    "my_house = np.array([18.0, 20.0, 10.75, 9.50])\n",
    "your_house = np.array([14.0, 24.0, 14.25, 9.0])\n",
    "\n",
    "# Generating BOOLEAN ARRAY to answer:\n",
    "## Which areas in my_house are greater than 18.5 or smaller than 10?\n",
    "\n",
    "print('Which areas in my_house are greater than 18.5 or smaller than 10: \\n',\n",
    "      np.logical_or(np.array(my_house) > 18.5, np.array(my_house) < 10)\n",
    "      ,'\\n'\n",
    "      ,my_house[np.logical_or(np.array(my_house) > 18.5, np.array(my_house) < 10)]\n",
    "     )\n",
    "\n",
    "## Which areas are smaller than 11 in both my_house and your_house? Make sure to wrap both commands in print() statement, \n",
    "## so that you can inspect the output.\n",
    "\n",
    "print('\\n\\nWhich areas are smaller than 11 in both my_house and your_house: \\n', \n",
    "     np.logical_and( np.array(my_house) <11, np.array(your_house) < 11 )\n",
    "      ,'\\n'\n",
    "      ,my_house[np.logical_and( np.array(my_house) <11, np.array(your_house) < 11 )]\n",
    "      ,'\\n'\n",
    "      ,your_house[np.logical_and( np.array(my_house) <11, np.array(your_house) < 11 )]\n",
    "     )"
   ]
  },
  {
   "cell_type": "code",
   "execution_count": null,
   "id": "f0232dc4",
   "metadata": {},
   "outputs": [],
   "source": []
  }
 ],
 "metadata": {
  "kernelspec": {
   "display_name": "Python 3 (ipykernel)",
   "language": "python",
   "name": "python3"
  },
  "language_info": {
   "codemirror_mode": {
    "name": "ipython",
    "version": 3
   },
   "file_extension": ".py",
   "mimetype": "text/x-python",
   "name": "python",
   "nbconvert_exporter": "python",
   "pygments_lexer": "ipython3",
   "version": "3.9.13"
  }
 },
 "nbformat": 4,
 "nbformat_minor": 5
}
