{
 "cells": [
  {
   "cell_type": "markdown",
   "id": "99b8616b",
   "metadata": {},
   "source": [
    "## V12: Loops: While Loop\n",
    "\n",
    "### If - else -if loop:\n",
    "\n",
    "    z=6\n",
    "    if z % 2 == 0: \n",
    "        print('z is divisible by 2')\n",
    "    elif z%3 == 0: \n",
    "        print('z is divisible by 3')\n",
    "    else:\n",
    "        print('z is neither divisible by 3 or 2')\n",
    "    \n",
    "### while loop:\n",
    "    while condition:\n",
    "        expression\n",
    "        \n",
    "#### Example: \n",
    "    error = 50.0\n",
    "    \n",
    "    while error > 1:\n",
    "        error = error / 4\n",
    "        print(error)\n",
    "    \n",
    "    \n",
    "    \n"
   ]
  },
  {
   "cell_type": "markdown",
   "id": "c50fe6f2",
   "metadata": {},
   "source": [
    "## Example 1: while: warming up\n",
    "The while loop is like a repeated if statement. The code is executed over and over again, as long as the condition is True. Have another look at its recipe.\n",
    "\n",
    "while condition :\n",
    "    expression\n",
    "Can you tell how many printouts the following while loop will do?\n",
    "\n",
    "    x = 1\n",
    "    while x < 4 :\n",
    "        print(x)\n",
    "        x = x + 1\n",
    "    \n",
    "### Ans: 3\n"
   ]
  },
  {
   "cell_type": "markdown",
   "id": "3d8f8b98",
   "metadata": {},
   "source": [
    "## Example 2: Basic while loop\n",
    "Below you can find the example from the video where the error variable, initially equal to 50.0, is divided by 4 and printed out on every run:\n",
    "\n",
    "error = 50.0\n",
    "while error > 1 :\n",
    "    error = error / 4\n",
    "    print(error)\n",
    "This example will come in handy, because it's time to build a while loop yourself! We're going to code a while loop that implements a very basic control system for an inverted pendulum. If there's an offset from standing perfectly straight, the while loop will incrementally fix this offset.\n",
    "\n",
    "Note that if your while loop takes too long to run, you might have made a mistake. In particular, remember to indent the contents of the loop using four spaces or auto-indentation!\n",
    "\n",
    "\n",
    "### Steps: \n",
    "1. Create the variable offset with an initial value of 8.\n",
    "2. Code a while loop that keeps running as long as offset is not equal to 0. Inside the while loop:\n",
    "    * Print out the sentence \"correcting...\".\n",
    "    * Next, decrease the value of offset by 1. You can do this with offset = offset - 1.\n",
    "    * Finally, still within your loop, print out offset so you can see how it changes."
   ]
  },
  {
   "cell_type": "code",
   "execution_count": 2,
   "id": "421e9a32",
   "metadata": {},
   "outputs": [
    {
     "name": "stdout",
     "output_type": "stream",
     "text": [
      "Correcting...\n",
      "7\n",
      "Correcting...\n",
      "6\n",
      "Correcting...\n",
      "5\n",
      "Correcting...\n",
      "4\n",
      "Correcting...\n",
      "3\n",
      "Correcting...\n",
      "2\n",
      "Correcting...\n",
      "1\n",
      "Correcting...\n",
      "0\n"
     ]
    }
   ],
   "source": [
    "val1= 8\n",
    "\n",
    "while val1 != 0:\n",
    "    print('Correcting...')\n",
    "    val1 = val1 - 1\n",
    "    print(val1)"
   ]
  },
  {
   "cell_type": "markdown",
   "id": "f893c7c5",
   "metadata": {},
   "source": [
    "## Example 3: Add conditionals\n",
    "The while loop that corrects the offset is a good start, but what if offset is negative? You can try to run the following code where offset is initialized to -6:\n",
    "\n",
    "#### Initialize offset\n",
    "offset = -6\n",
    "\n",
    "#### Code the while loop\n",
    "    while offset != 0 :\n",
    "        print(\"correcting...\")\n",
    "        offset = offset - 1\n",
    "        print(offset)\n",
    "but your session will be disconnected. The while loop will never stop running, because offset will be further decreased on every run. offset != 0 will never become False and the while loop continues forever.\n",
    "\n",
    "Fix things by putting an if-else statement inside the while loop. If your code is still taking too long to run, you probably made a mistake!\n",
    "\n",
    "### Steps: \n",
    "1. Inside the while loop, complete the if-else statement:\n",
    "    * If offset is greater than zero, you should decrease offset by 1.\n",
    "    * Else, you should increase offset by 1.\n",
    "2. If you've coded things correctly, hitting Submit Answer should work this time.\n",
    "\n",
    "If your code is still taking too long to run (or your session is expiring), you probably made a mistake. Check your code and make sure that the statement offset != 0 will eventually evaluate to FALSE!\n"
   ]
  },
  {
   "cell_type": "code",
   "execution_count": null,
   "id": "41312ab5",
   "metadata": {},
   "outputs": [],
   "source": []
  }
 ],
 "metadata": {
  "kernelspec": {
   "display_name": "Python 3 (ipykernel)",
   "language": "python",
   "name": "python3"
  },
  "language_info": {
   "codemirror_mode": {
    "name": "ipython",
    "version": 3
   },
   "file_extension": ".py",
   "mimetype": "text/x-python",
   "name": "python",
   "nbconvert_exporter": "python",
   "pygments_lexer": "ipython3",
   "version": "3.9.13"
  }
 },
 "nbformat": 4,
 "nbformat_minor": 5
}
