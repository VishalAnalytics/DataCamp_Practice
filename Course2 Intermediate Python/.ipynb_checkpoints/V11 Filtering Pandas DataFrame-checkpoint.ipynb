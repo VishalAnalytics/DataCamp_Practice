{
 "cells": [
  {
   "cell_type": "markdown",
   "id": "e580f144",
   "metadata": {},
   "source": [
    "## V11: Filtering Pandas Data Frame:\n",
    "\n",
    "Get columns using:\n",
    "    \n",
    "    1. brics[\"area\"] -- This will be a Panda Series\n",
    "    2. brics.loc[:, \"area\"] -- This will give pandas dataframe\n",
    "    3. brics.iloc[:,2] -- This will give pandas dataframe\n",
    "    \n",
    "### Find area which is greater than 8 million km^2.\n",
    "We can do this in below steps:\n",
    "  1. Select the area column\n",
    "      * brics[\"area\"]\n",
    "  2. Do comparision on area column\n",
    "      * brics[\"area\"] > 8\n",
    "  3. Use result to select countries\n",
    "      * brics[brics[\"area\"]>8]\n",
    "  \n",
    "            \n",
    "### Using Logical Boolean operators on DataFrame:\n",
    "        \n",
    "        import numpy as np\n",
    "        \n",
    "        brics[np.logical_and(brics['area' > 8], brics['area'] <10)]\n",
    "        \n",
    "        \n",
    "          "
   ]
  },
  {
   "cell_type": "markdown",
   "id": "81394a0a",
   "metadata": {},
   "source": [
    "## Example 1: Driving right (1)\n",
    "Remember that cars dataset, containing the cars per 1000 people (cars_per_cap) and whether people drive right (drives_right) for different countries (country)? The code that imports this data in CSV format into Python as a DataFrame is included in the script.\n",
    "\n",
    "In the video, you saw a step-by-step approach to filter observations from a DataFrame based on boolean arrays. Let's start simple and try to find all observations in cars where drives_right is True.\n",
    "\n",
    "drives_right is a boolean column, so you'll have to extract it as a Series and then use this boolean Series to select observations from cars.\n",
    "\n",
    "### Steps: \n",
    "1. Extract the drives_right column as a Pandas Series and store it as dr.\n",
    "2. Use dr, a boolean Series, to subset the cars DataFrame. Store the resulting selection in sel.\n",
    "3. Print sel, and assert that drives_right is True for all observations."
   ]
  },
  {
   "cell_type": "code",
   "execution_count": 1,
   "id": "5d488630",
   "metadata": {},
   "outputs": [
    {
     "name": "stdout",
     "output_type": "stream",
     "text": [
      "     cars_per_cap        country  drives_right\n",
      "US            809  United States          True\n",
      "AUS           731      Australia         False\n",
      "JPN           588          Japan         False\n",
      "IN             18          India         False\n",
      "RU            200         Russia          True\n",
      "MOR            70        Morocco          True\n",
      "EG             45          Egypt          True\n",
      "US      True\n",
      "AUS    False\n",
      "JPN    False\n",
      "IN     False\n",
      "RU      True\n",
      "MOR     True\n",
      "EG      True\n",
      "Name: drives_right, dtype: bool\n",
      "     cars_per_cap        country  drives_right\n",
      "US            809  United States          True\n",
      "RU            200         Russia          True\n",
      "MOR            70        Morocco          True\n",
      "EG             45          Egypt          True\n",
      "\n",
      "Drives_Right column:\n",
      " US      True\n",
      "AUS    False\n",
      "JPN    False\n",
      "IN     False\n",
      "RU      True\n",
      "MOR     True\n",
      "EG      True\n",
      "Name: drives_right, dtype: bool\n",
      "Drives_right2 is true      cars_per_cap        country  drives_right\n",
      "US            809  United States          True\n",
      "RU            200         Russia          True\n",
      "MOR            70        Morocco          True\n",
      "EG             45          Egypt          True\n"
     ]
    }
   ],
   "source": [
    "\n",
    "import pandas as pd\n",
    "import numpy as np\n",
    "\n",
    "# Import cars data\n",
    "import pandas as pd\n",
    "cars = pd.read_csv('cars.csv', index_col = 0)\n",
    "print(cars)\n",
    "\n",
    "# Extract drives_right column as Series: dr\n",
    "dr=cars.loc[:,'drives_right']\n",
    "print(dr)\n",
    "# Use dr to subset cars: sel\n",
    "sel=cars[dr]\n",
    "\n",
    "# Print sel\n",
    "print(sel)\n",
    "\n",
    "\n",
    "## Second way to implement it:\n",
    "\n",
    "dr2 = cars['drives_right']\n",
    "print('\\nDrives_Right column:\\n',dr2)\n",
    "\n",
    "# 2. Use dr, a boolean Series, to subset the cars DataFrame. Store the resulting selection in sel\n",
    "\n",
    "sel2 = cars[dr2]\n",
    "\n",
    "print('Drives_right2 is true', sel2)"
   ]
  },
  {
   "cell_type": "markdown",
   "id": "40ad69e5",
   "metadata": {},
   "source": [
    "## Exampele 2: Driving right (2)\n",
    "The code in the previous example worked fine, but you actually unnecessarily created a new variable dr. You can achieve the same result without this intermediate variable. Put the code that computes dr straight into the square brackets that select observations from cars.\n",
    "\n",
    "### Steps:\n",
    "Convert the code to a one-liner that calculates the variable sel as before.\n",
    "\n"
   ]
  },
  {
   "cell_type": "code",
   "execution_count": 2,
   "id": "c3ba3f90",
   "metadata": {},
   "outputs": [
    {
     "name": "stdout",
     "output_type": "stream",
     "text": [
      "  Unnamed: 0  cars_per_cap        country  drives_right\n",
      "0         US           809  United States          True\n",
      "4         RU           200         Russia          True\n",
      "5        MOR            70        Morocco          True\n",
      "6         EG            45          Egypt          True\n"
     ]
    }
   ],
   "source": [
    "import pandas as pd\n",
    "\n",
    "cars21 = pd.read_csv('cars.csv')\n",
    "\n",
    "sel21 = cars21[cars21['drives_right']]\n",
    "print(sel21)"
   ]
  },
  {
   "cell_type": "markdown",
   "id": "bd7331e6",
   "metadata": {},
   "source": [
    "## Example 3: Cars per capita (1)\n",
    "Let's stick to the cars data some more. This time you want to find out which countries have a high cars per capita figure. In other words, in which countries do many people have a car, or maybe multiple cars.\n",
    "\n",
    "Similar to the previous example, you'll want to build up a boolean Series, that you can then use to subset the cars DataFrame to select certain observations. If you want to do this in a one-liner, that's perfectly fine!\n",
    "\n",
    "### Steps:\n",
    "\n",
    "1. Select the cars_per_cap column from cars as a Pandas Series and store it as cpc.\n",
    "2. Use cpc in combination with a comparison operator and 500. You want to end up with a boolean Series that's True if the corresponding country has a cars_per_cap of more than 500 and False otherwise. Store this boolean Series as many_cars.\n",
    "3. Use many_cars to subset cars, similar to what you did before. Store the result as car_maniac.\n",
    "4. Print out car_maniac to see if you got it right.\n"
   ]
  },
  {
   "cell_type": "code",
   "execution_count": 10,
   "id": "eccb1edf",
   "metadata": {},
   "outputs": [
    {
     "name": "stdout",
     "output_type": "stream",
     "text": [
      "     cars_per_cap        country  drives_right\n",
      "US            809  United States          True\n",
      "AUS           731      Australia         False\n",
      "JPN           588          Japan         False\n",
      "IN             18          India         False\n",
      "RU            200         Russia          True\n",
      "MOR            70        Morocco          True\n",
      "EG             45          Egypt          True\n",
      "\n",
      "\n",
      "\n",
      "      cars_per_cap        country  drives_right\n",
      "US            809  United States          True\n",
      "AUS           731      Australia         False\n",
      "JPN           588          Japan         False\n"
     ]
    }
   ],
   "source": [
    "cars3 = pd.read_csv('cars.csv', index_col=0)\n",
    "print(cars3)\n",
    "\n",
    "cpc = cars3['cars_per_cap']\n",
    "many_cars = cpc> 500\n",
    "car_maniac= cars3[many_cars]\n",
    "\n",
    "print('\\n\\n\\n',car_maniac)"
   ]
  },
  {
   "cell_type": "markdown",
   "id": "5b0a7a56",
   "metadata": {},
   "source": [
    "## Example 4: Cars per capita (2)\n",
    "Remember about np.logical_and(), np.logical_or() and np.logical_not(), the NumPy variants of the and, or and not operators? You can also use them on Pandas Series to do more advanced filtering operations.\n",
    "\n",
    "Take this example that selects the observations that have a cars_per_cap between 10 and 80. Try out these lines of code step by step to see what's happening.\n",
    "\n",
    "    cpc = cars['cars_per_cap']\n",
    "    between = np.logical_and(cpc > 10, cpc < 80)\n",
    "    medium = cars[between]\n",
    "\n",
    "### Steps:\n",
    "1. Use the code sample provided to create a DataFrame medium, that includes all the observations of cars that have a cars_per_cap between 100 and 500.\n",
    "2. Print out medium."
   ]
  },
  {
   "cell_type": "code",
   "execution_count": 14,
   "id": "1ef13c95",
   "metadata": {},
   "outputs": [
    {
     "name": "stdout",
     "output_type": "stream",
     "text": [
      "    cars_per_cap country  drives_right\n",
      "RU           200  Russia          True\n"
     ]
    }
   ],
   "source": [
    "## print(cars)\n",
    "\n",
    "medium = np.logical_and( cpc > 100, cpc < 500 )\n",
    "print(cars[medium])\n"
   ]
  },
  {
   "cell_type": "code",
   "execution_count": null,
   "id": "c581db92",
   "metadata": {},
   "outputs": [],
   "source": []
  }
 ],
 "metadata": {
  "kernelspec": {
   "display_name": "Python 3 (ipykernel)",
   "language": "python",
   "name": "python3"
  },
  "language_info": {
   "codemirror_mode": {
    "name": "ipython",
    "version": 3
   },
   "file_extension": ".py",
   "mimetype": "text/x-python",
   "name": "python",
   "nbconvert_exporter": "python",
   "pygments_lexer": "ipython3",
   "version": "3.9.13"
  }
 },
 "nbformat": 4,
 "nbformat_minor": 5
}
