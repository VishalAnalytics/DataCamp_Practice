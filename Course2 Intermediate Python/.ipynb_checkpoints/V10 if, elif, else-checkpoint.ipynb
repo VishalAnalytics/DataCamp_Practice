{
 "cells": [
  {
   "cell_type": "markdown",
   "id": "95ad65eb",
   "metadata": {},
   "source": [
    "## V10: Introduction to IF, ELIF, ELSE\n",
    "\n",
    "### elif:\n",
    "    if condition:\n",
    "        exp1\n",
    "    elif condition:\n",
    "        exp2\n",
    "    else: \n",
    "        exp3\n",
    "        \n",
    "   * control.py\n",
    " \n",
    "    z=6\n",
    "    \n",
    "    if z%2 == 0:\n",
    "    \n",
    "        print('z is divisible by 2')\n",
    "        \n",
    "    elif z%3 == 0:\n",
    "    \n",
    "        print('z is divisible by 3')\n",
    "        \n",
    "    else: \n",
    "    \n",
    "        print('Z is neither divisible by 2 nor by 3')\n"
   ]
  },
  {
   "cell_type": "markdown",
   "id": "be285a34",
   "metadata": {},
   "source": [
    "### Example 1: Warmup\n",
    "To experiment with if and else a bit, have a look at this code sample:\n",
    "\n",
    "    area = 10.0\n",
    "    \n",
    "    if(area < 9) :\n",
    "        print(\"small\")\n",
    "    elif(area < 12) :\n",
    "        print(\"medium\")\n",
    "    else :\n",
    "        print(\"large\")\n",
    "        \n",
    "What will the output be if you run this piece of code in the IPython Shell?\n",
    "\n",
    "#### O/P: medium"
   ]
  },
  {
   "cell_type": "markdown",
   "id": "e0b428ad",
   "metadata": {},
   "source": [
    "## Example 2: if\n",
    "It's time to take a closer look around in your house.\n",
    "\n",
    "Two variables are defined in the sample code: room, a string that tells you which room of the house we're looking at, and area, the area of that room.\n",
    "\n",
    "### Steps: \n",
    "1. Examine the if statement that prints out \"looking around in the kitchen.\" if room equals \"kit\".\n",
    "2. Write another if statement that prints out \"big place!\" if area is greater than 15."
   ]
  },
  {
   "cell_type": "code",
   "execution_count": 1,
   "id": "fd2079ba",
   "metadata": {},
   "outputs": [
    {
     "name": "stdout",
     "output_type": "stream",
     "text": [
      "\n",
      "looking around in the kitchen.\n",
      "\n",
      "Small place\n"
     ]
    }
   ],
   "source": [
    "# Define variables\n",
    "room = \"kit\"\n",
    "area = 14.0\n",
    "\n",
    "# Examine the if statement that prints out \"looking around in the kitchen.\" if room equals \"kit\".\n",
    "\n",
    "if room =='kit':\n",
    "    print('\\nlooking around in the kitchen.')\n",
    "\n",
    "# Write another if statement that prints out \"big place!\" if area is greater than 15.\n",
    "\n",
    "if area > 15:\n",
    "    print('\\nbig place!')\n",
    "else:\n",
    "    print('\\nSmall place')"
   ]
  },
  {
   "cell_type": "markdown",
   "id": "8e25ee27",
   "metadata": {},
   "source": [
    "## Example 3: Add else\n",
    "In the script, the if construct for room has been extended with an else statement so that \"looking around elsewhere.\" is printed if the condition room == \"kit\" evaluates to False.\n",
    "\n",
    "Can you do a similar thing to add more functionality to the if construct for area?\n",
    "\n",
    "### Steps:\n",
    "1. Add an else statement to the second control structure so that \"pretty small.\" is printed out if area > 15 evaluates to False."
   ]
  },
  {
   "cell_type": "code",
   "execution_count": 3,
   "id": "2188f1bc",
   "metadata": {},
   "outputs": [
    {
     "name": "stdout",
     "output_type": "stream",
     "text": [
      "\n",
      "looking around in the kitchen.\n",
      "\n",
      "Small place\n"
     ]
    }
   ],
   "source": [
    "# Define variables\n",
    "room = \"kit\"\n",
    "area = 14.0\n",
    "\n",
    "# Examine the if statement that prints out \"looking around in the kitchen.\" if room equals \"kit\".\n",
    "\n",
    "if room =='kit':\n",
    "    print('\\nlooking around in the kitchen.')\n",
    "\n",
    "# Write another if statement that prints out \"big place!\" if area is greater than 15.\n",
    "\n",
    "if area > 15:\n",
    "    print('\\nbig place!')\n",
    "else:\n",
    "    print('\\nSmall place')"
   ]
  },
  {
   "cell_type": "markdown",
   "id": "47294bc7",
   "metadata": {},
   "source": [
    "## Example 4: Customize further: elif\n",
    "It's also possible to have a look around in the bedroom. The sample code contains an elif part that checks if room equals \"bed\". In that case, \"looking around in the bedroom.\" is printed out.\n",
    "\n",
    "It's up to you now! Make a similar addition to the second control structure to further customize the messages for different values of area.\n",
    "\n",
    "### Steps: \n",
    "* Add an elif to the second control structure such that \"medium size, nice!\" is printed out if area is greater than 10."
   ]
  },
  {
   "cell_type": "code",
   "execution_count": 4,
   "id": "ca4b0e4f",
   "metadata": {},
   "outputs": [
    {
     "name": "stdout",
     "output_type": "stream",
     "text": [
      "looking around in the bedroom.\n",
      "medium size, nice!\n"
     ]
    }
   ],
   "source": [
    "# Define variables\n",
    "room = \"bed\"\n",
    "area = 14.0\n",
    "\n",
    "# if-elif-else construct for room\n",
    "if room == \"kit\" :\n",
    "    print(\"looking around in the kitchen.\")\n",
    "elif room == \"bed\":\n",
    "    print(\"looking around in the bedroom.\")\n",
    "else :\n",
    "    print(\"looking around elsewhere.\")\n",
    "\n",
    "# if-elif-else construct for area\n",
    "if area > 15 :\n",
    "    print(\"big place!\")\n",
    "elif area > 10:\n",
    "    print(\"medium size, nice!\")\n",
    "else :\n",
    "    print(\"pretty small.\")"
   ]
  },
  {
   "cell_type": "code",
   "execution_count": null,
   "id": "6ff26bfb",
   "metadata": {},
   "outputs": [],
   "source": []
  }
 ],
 "metadata": {
  "kernelspec": {
   "display_name": "Python 3 (ipykernel)",
   "language": "python",
   "name": "python3"
  },
  "language_info": {
   "codemirror_mode": {
    "name": "ipython",
    "version": 3
   },
   "file_extension": ".py",
   "mimetype": "text/x-python",
   "name": "python",
   "nbconvert_exporter": "python",
   "pygments_lexer": "ipython3",
   "version": "3.9.13"
  }
 },
 "nbformat": 4,
 "nbformat_minor": 5
}
