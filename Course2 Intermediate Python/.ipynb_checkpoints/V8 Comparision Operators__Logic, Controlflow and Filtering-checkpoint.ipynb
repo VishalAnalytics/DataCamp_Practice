{
 "cells": [
  {
   "cell_type": "markdown",
   "id": "94aa5c35",
   "metadata": {},
   "source": [
    "# V8: Comparision Operators under: Logic, Controlflow and Filtering\n",
    "\n",
    "    np_height= np.array([1.76, 1.67, 1.54, 1.79])\n",
    "    np_weight = np.array([68, 56, 45, 69])\n",
    "\n",
    "    bmi= np_weight/np_height**2\n",
    "\n",
    "#### Below will give a bool numpy array:\n",
    "    bmi<23\n",
    "\n",
    "#### Below will give those values which comes in this range.\n",
    "    bmi[bmi<23] \n",
    "    \n",
    "#### There are different operators we have:\n",
    "    <, <=, ==, >, >=, !=\n",
    "    "
   ]
  },
  {
   "cell_type": "markdown",
   "id": "3c4aea49",
   "metadata": {},
   "source": [
    "## Example 1: Equality\n",
    "To check if two Python values, or variables, are equal you can use ==. To check for inequality, you need !=. As a refresher, have a look at the following examples that all result in True. Feel free to try them out in the IPython Shell.\n",
    "\n",
    "    2 == (1 + 1)\n",
    "    \"intermediate\" != \"python\"\n",
    "    True != False\n",
    "    \"Python\" != \"python\"\n",
    "\n",
    "When you write these comparisons in a script, you will need to wrap a print() function around them to see the output.\n",
    "\n",
    "### Steps:\n",
    "1. In the editor on the right, write code to see if True equals False.\n",
    "2. Write Python code to check if -5 * 15 is not equal to 75.\n",
    "3. Ask Python whether the strings \"pyscript\" and \"PyScript\" are equal.\n",
    "4. What happens if you compare booleans and integers? Write code to see if True and 1 are equal."
   ]
  },
  {
   "cell_type": "code",
   "execution_count": 2,
   "id": "06f0de38",
   "metadata": {},
   "outputs": [
    {
     "name": "stdout",
     "output_type": "stream",
     "text": [
      "Check 1:  False\n",
      "\n",
      "\n",
      " Check 2:  True\n",
      "\n",
      "\n",
      "Check 3: False\n",
      "\n",
      "\n",
      " Check 4:  True\n"
     ]
    }
   ],
   "source": [
    "# 1. In the editor on the right, write code to see if True equals False.\n",
    "print('Check 1: ', True == False)\n",
    "\n",
    "#2. Write Python code to check if -5 * 15 is not equal to 75.\n",
    "print('\\n\\n Check 2: ',-5*15 != 75)\n",
    "\n",
    "#3. Ask Python whether the strings \"pyscript\" and \"PyScript\" are equal.\n",
    "print('\\n\\nCheck 3:', \"pyscript\" == \"PyScript\")\n",
    "\n",
    "#4. What happens if you compare booleans and integers? Write code to see if True and 1 are equal.\n",
    "print('\\n\\n Check 4: ', True == 1)\n"
   ]
  },
  {
   "cell_type": "markdown",
   "id": "0fc1ee2e",
   "metadata": {},
   "source": [
    "## Example 2: Greater and less than\n",
    "In the video, Hugo also talked about the less than and greater than signs, < and > in Python. You can combine them with an equals sign: <= and >=. Pay attention: <= is valid syntax, but =< is not.\n",
    "\n",
    "All Python expressions in the following code chunk evaluate to True:\n",
    "\n",
    "    3 < 4\n",
    "    3 <= 4\n",
    "    \"alpha\" <= \"beta\"\n",
    "    \n",
    "Remember that for string comparison, Python determines the relationship based on alphabetical order.\n",
    "\n",
    "### Steps:\n",
    "1. Write Python expressions, wrapped in a print() function, to check whether:\n",
    "    * x is greater than or equal to -10. x has already been defined for you.\n",
    "    * \"test\" is less than or equal to y. y has already been defined for you.\n",
    "    * True is greater than False.\n"
   ]
  },
  {
   "cell_type": "code",
   "execution_count": 4,
   "id": "a04771e0",
   "metadata": {},
   "outputs": [
    {
     "name": "stdout",
     "output_type": "stream",
     "text": [
      "Check 1:  True\n",
      "\n",
      "Check 2:  True\n",
      "\n",
      "Check 3:  True\n"
     ]
    }
   ],
   "source": [
    "x = -3 * 6\n",
    "#1. x is greater than or equal to -10. x has already been defined for you.\n",
    "print('Check 1: ',x>-19)\n",
    "\n",
    "#2. \"test\" is less than or equal to y. y has already been defined for you.\n",
    "y = \"test\"\n",
    "print('\\nCheck 2: ', \"test\" <= y)\n",
    "\n",
    "#3. True is greater than False\n",
    "print('\\nCheck 3: ', True > False)"
   ]
  },
  {
   "cell_type": "markdown",
   "id": "c59d4465",
   "metadata": {},
   "source": [
    "## Example 3: Compare arrays\n",
    "Out of the box, you can also use comparison operators with NumPy arrays.\n",
    "\n",
    "Remember areas, the list of area measurements for different rooms in your house from Introduction to Python? This time there's two NumPy arrays: my_house and your_house. They both contain the areas for the kitchen, living room, bedroom and bathroom in the same order, so you can compare them.\n",
    "\n",
    "### Steps:\n",
    "1. Using comparison operators, generate boolean arrays that answer the following questions:\n",
    "    * Which areas in my_house are greater than or equal to 18?\n",
    "    * You can also compare two NumPy arrays element-wise. Which areas in my_house are smaller than the ones in your_house?\n",
    "    * Make sure to wrap both commands in a print() statement so that you can inspect the output!"
   ]
  },
  {
   "cell_type": "code",
   "execution_count": 8,
   "id": "3842551a",
   "metadata": {},
   "outputs": [
    {
     "name": "stdout",
     "output_type": "stream",
     "text": [
      "\n",
      "Areas in my_house are greater than or equal to 18:  [ True  True False False]\n",
      "\n",
      "Areas in my_house are smaller than the ones in your_house:  [False  True  True False]\n"
     ]
    }
   ],
   "source": [
    "# Create arrays\n",
    "import numpy as np\n",
    "my_house = np.array([18.0, 20.0, 10.75, 9.50])\n",
    "your_house = np.array([14.0, 24.0, 14.25, 9.0])\n",
    "\n",
    "\n",
    "# Which areas in my_house are greater than or equal to 18?\n",
    "print('\\nAreas in my_house are greater than or equal to 18: ',my_house>=18)\n",
    "\n",
    "# Which areas in my_house are smaller than the ones in your_house?\n",
    "\n",
    "print('\\nAreas in my_house are smaller than the ones in your_house: ',my_house<your_house)"
   ]
  },
  {
   "cell_type": "code",
   "execution_count": null,
   "id": "7321d3c5",
   "metadata": {},
   "outputs": [],
   "source": [
    "## Example 4: "
   ]
  }
 ],
 "metadata": {
  "kernelspec": {
   "display_name": "Python 3 (ipykernel)",
   "language": "python",
   "name": "python3"
  },
  "language_info": {
   "codemirror_mode": {
    "name": "ipython",
    "version": 3
   },
   "file_extension": ".py",
   "mimetype": "text/x-python",
   "name": "python",
   "nbconvert_exporter": "python",
   "pygments_lexer": "ipython3",
   "version": "3.9.13"
  }
 },
 "nbformat": 4,
 "nbformat_minor": 5
}
