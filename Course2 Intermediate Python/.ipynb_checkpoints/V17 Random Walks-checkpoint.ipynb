{
 "cells": [
  {
   "cell_type": "markdown",
   "id": "3c9e4906",
   "metadata": {},
   "source": [
    "# V17: Random Walks are the list of random trials/steps:\n",
    "\n",
    "### Known in Science:\n",
    "1. Path of molecule\n",
    "2. Financial Status of Gambler\n",
    "\n",
    "To record every step in random walk, we need to learn to build a list of records.\n",
    "\n",
    "\n",
    "### Heads or Tails:\n",
    "\n",
    "    import numpy as np\n",
    "    np.random.seed(123)\n",
    "    \n",
    "    outcomes = []\n",
    "    \n",
    "    for x in range(10):\n",
    "        coin = np.random.randint(0,2)\n",
    "        \n",
    "        if coin == 0:\n",
    "            outcomes.append('heads')\n",
    "        else:\n",
    "            outcomes.append('tails')\n",
    "            \n",
    "     print(outcomes)\n",
    "#### Trun above example into a Random Walk:\n",
    "   \n",
    "    import numpy as np\n",
    "    np.random.seed(123)\n",
    "    tails = [0]\n",
    "    \n",
    "    for x in range(10):\n",
    "        coin = np.random.randint(0,2)\n",
    "        \n",
    "        tails.append(tails[x] + coin)\n",
    "\n",
    "    print(tails)"
   ]
  },
  {
   "cell_type": "code",
   "execution_count": 1,
   "id": "ebbb6b43",
   "metadata": {},
   "outputs": [
    {
     "name": "stdout",
     "output_type": "stream",
     "text": [
      "[0, 0, 1, 1, 1, 1, 1, 1, 2, 3, 3]\n"
     ]
    }
   ],
   "source": [
    "import numpy as np\n",
    "np.random.seed(123)\n",
    "tails = [0]\n",
    "    \n",
    "for x in range(10):\n",
    "    coin = np.random.randint(0,2)\n",
    "    tails.append(tails[x] + coin)\n",
    "\n",
    "print(tails)"
   ]
  },
  {
   "cell_type": "markdown",
   "id": "1406db55",
   "metadata": {},
   "source": [
    "## Example 1: The next step\n",
    "Before, you have already written Python code that determines the next step based on the previous step. Now it's time to put this code inside a for loop so that we can simulate a random walk.\n",
    "\n",
    "numpy has been imported as np.\n",
    "\n",
    "### Steps:\n",
    "1. Make a list random_walk that contains the first step, which is the integer 0.\n",
    "2. Finish the for loop:\n",
    "3. The loop should run 100 times.\n",
    "4. On each iteration, set step equal to the last element in the random_walk list. You can use the index -1 for this.\n",
    "5. Next, let the if-elif-else construct update step for you.\n",
    "6. The code that appends step to random_walk is already coded.\n",
    "7. Print out random_walk.\n"
   ]
  },
  {
   "cell_type": "code",
   "execution_count": 5,
   "id": "e6719af3",
   "metadata": {},
   "outputs": [
    {
     "name": "stdout",
     "output_type": "stream",
     "text": [
      "[0, 1, 2, 8, 7, 8, 9, 10, 11, 10, 9, 10, 16, 22, 21, 22, 23, 24, 23, 29, 28, 29, 35, 36, 35, 36, 37, 38, 37, 36, 37, 38, 37, 38, 39, 45, 44, 50, 49, 48, 49, 50, 49, 50, 49, 48, 47, 46, 47, 46, 47, 46, 47, 48, 54, 55, 61, 62, 63, 69, 70, 76, 77, 78, 77, 78, 84, 85, 86, 87, 88, 89, 90, 91, 92, 91, 92, 93, 99, 98, 99, 105, 104, 110, 111, 117, 118, 117, 118, 119, 118, 124, 125, 126, 127, 128, 129, 130, 136, 137, 136]\n"
     ]
    }
   ],
   "source": [
    "import numpy as np\n",
    "\n",
    "np.random.seed(12)\n",
    "\n",
    "random_walk = [0]\n",
    "\n",
    "for x in range(100):\n",
    "    step = random_walk[-1]\n",
    "    dice = np.random.randint(1,7)\n",
    "    \n",
    "    if dice <= 2:\n",
    "        step = step -1\n",
    "    elif dice >= 3 and dice <= 5:\n",
    "        step = step + 1\n",
    "    else:\n",
    "        step = step + dice\n",
    "    \n",
    "    random_walk.append(step)\n",
    "print(random_walk)"
   ]
  },
  {
   "cell_type": "markdown",
   "id": "33603a24",
   "metadata": {},
   "source": [
    "## Example 2: How low can you go?\n",
    "Things are shaping up nicely! You already have code that calculates your location in the Empire State Building after 100 dice throws. However, there's something we haven't thought about - you can't go below 0!\n",
    "\n",
    "A typical way to solve problems like this is by using max(). If you pass max() two arguments, the biggest one gets returned. For example, to make sure that a variable x never goes below 10 when you decrease it, you can use:\n",
    "\n",
    "x = max(10, x - 1)\n",
    "\n",
    "### Steps: \n",
    "1. Use max() in a similar way to make sure that step doesn't go below zero if dice <= 2.\n",
    "2. Hit Submit Answer and check the contents of random_walk.\n",
    "\n"
   ]
  },
  {
   "cell_type": "code",
   "execution_count": 6,
   "id": "ce825e01",
   "metadata": {},
   "outputs": [
    {
     "name": "stdout",
     "output_type": "stream",
     "text": [
      "[0, 1, 2, 8, 7, 8, 9, 10, 11, 10, 9, 10, 16, 22, 21, 22, 23, 24, 23, 29, 28, 29, 35, 36, 35, 36, 37, 38, 37, 36, 37, 38, 37, 38, 39, 45, 44, 50, 49, 48, 49, 50, 49, 50, 49, 48, 47, 46, 47, 46, 47, 46, 47, 48, 54, 55, 61, 62, 63, 69, 70, 76, 77, 78, 77, 78, 84, 85, 86, 87, 88, 89, 90, 91, 92, 91, 92, 93, 99, 98, 99, 105, 104, 110, 111, 117, 118, 117, 118, 119, 118, 124, 125, 126, 127, 128, 129, 130, 136, 137, 136]\n"
     ]
    }
   ],
   "source": [
    "\n",
    "\n",
    "import numpy as np\n",
    "\n",
    "np.random.seed(12)\n",
    "\n",
    "random_walk = [0]\n",
    "\n",
    "for x in range(100):\n",
    "    step = random_walk[-1]\n",
    "    dice = np.random.randint(1,7)\n",
    "    \n",
    "    if dice <= 2:\n",
    "        step = step -1\n",
    "        step = max(0, step)\n",
    "    elif dice >= 3 and dice <= 5:\n",
    "        step = step + 1\n",
    "    else:\n",
    "        step = step + dice\n",
    "    \n",
    "    random_walk.append(step)\n",
    "print(random_walk)"
   ]
  },
  {
   "cell_type": "markdown",
   "id": "5f08bdc4",
   "metadata": {},
   "source": [
    "## Example 3: Visualize the walk\n",
    "Let's visualize this random walk! Remember how you could use matplotlib to build a line plot?\n",
    "\n",
    "    import matplotlib.pyplot as plt\n",
    "    plt.plot(x, y)\n",
    "    plt.show()\n",
    "    \n",
    "The first list you pass is mapped onto the x axis and the second list is mapped onto the y axis.\n",
    "\n",
    "If you pass only one argument, Python will know what to do and will use the index of the list to map onto the x axis, and the values in the list onto the y axis.\n",
    "\n",
    "\n",
    "### Steps: \n",
    "1. Add some lines of code after the for loop:\n",
    "\n",
    "2. Import matplotlib.pyplot as plt.\n",
    "    * Use plt.plot() to plot random_walk.\n",
    "    * Finish off with plt.show() to actually display the plot.\n",
    "    \n",
    "   "
   ]
  },
  {
   "cell_type": "code",
   "execution_count": 7,
   "id": "9f9bf07c",
   "metadata": {},
   "outputs": [
    {
     "name": "stdout",
     "output_type": "stream",
     "text": [
      "[0, 1, 2, 8, 7, 8, 9, 10, 11, 10, 9, 10, 16, 22, 21, 22, 23, 24, 23, 29, 28, 29, 35, 36, 35, 36, 37, 38, 37, 36, 37, 38, 37, 38, 39, 45, 44, 50, 49, 48, 49, 50, 49, 50, 49, 48, 47, 46, 47, 46, 47, 46, 47, 48, 54, 55, 61, 62, 63, 69, 70, 76, 77, 78, 77, 78, 84, 85, 86, 87, 88, 89, 90, 91, 92, 91, 92, 93, 99, 98, 99, 105, 104, 110, 111, 117, 118, 117, 118, 119, 118, 124, 125, 126, 127, 128, 129, 130, 136, 137, 136]\n"
     ]
    },
    {
     "data": {
      "text/plain": [
       "[<matplotlib.lines.Line2D at 0x273618f8370>]"
      ]
     },
     "execution_count": 7,
     "metadata": {},
     "output_type": "execute_result"
    },
    {
     "data": {
      "image/png": "[encoded data removed]",
      "text/plain": [
       "<Figure size 640x480 with 1 Axes>"
      ]
     },
     "metadata": {},
     "output_type": "display_data"
    }
   ],
   "source": [
    "import numpy as np\n",
    "import matplotlib.pyplot as plt\n",
    "np.random.seed(12)\n",
    "\n",
    "random_walk = [0]\n",
    "\n",
    "for x in range(100):\n",
    "    step = random_walk[-1]\n",
    "    dice = np.random.randint(1,7)\n",
    "    \n",
    "    if dice <= 2:\n",
    "        step = step -1\n",
    "        step = max(0, step)\n",
    "    elif dice >= 3 and dice <= 5:\n",
    "        step = step + 1\n",
    "    else:\n",
    "        step = step + dice\n",
    "    \n",
    "    random_walk.append(step)\n",
    "print(random_walk)\n",
    "plt.plot(random_walk)"
   ]
  },
  {
   "cell_type": "code",
   "execution_count": null,
   "id": "9f892131",
   "metadata": {},
   "outputs": [],
   "source": []
  }
 ],
 "metadata": {
  "kernelspec": {
   "display_name": "Python 3 (ipykernel)",
   "language": "python",
   "name": "python3"
  },
  "language_info": {
   "codemirror_mode": {
    "name": "ipython",
    "version": 3
   },
   "file_extension": ".py",
   "mimetype": "text/x-python",
   "name": "python",
   "nbconvert_exporter": "python",
   "pygments_lexer": "ipython3",
   "version": "3.9.13"
  }
 },
 "nbformat": 4,
 "nbformat_minor": 5
}
