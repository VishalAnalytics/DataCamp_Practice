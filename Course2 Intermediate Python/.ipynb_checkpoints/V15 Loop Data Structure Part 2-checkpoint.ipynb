{
 "cells": [
  {
   "cell_type": "markdown",
   "id": "fdd4934b",
   "metadata": {},
   "source": [
    "# V15: Loop Data Structure Part 2:\n",
    "\n",
    "## We have seen how we can iterate over a 2D Numpy array...\n",
    "\n",
    "## Let's see how it works on Pandas DataFrame:\n",
    "\n",
    "### iterrows:\n",
    "1. Let's import the data from brics.csv file.\n",
    "\n",
    "        import pandas as pd\n",
    "        brics = pd.read_csv('brics.csv', index_col = 0 )\n",
    "        for val in brics:\n",
    "            print(val)\n",
    "          \n",
    "   #### O/P will be: All Column names from dataset. \n",
    "  \n",
    "  \n",
    "2. Iterrows method works:\n",
    "                    \n",
    "          import pandas as pd\n",
    "          brics = pd.read_csv('brics.csv', index_col = 0 )\n",
    "          \n",
    "          for lab, row in brics.iterrows():\n",
    "              print(lab)\n",
    "              print(row)\n",
    "          \n",
    "### Selective column printing from DataFrame:\n",
    "    import pandas as pd\n",
    "    brics = pd.read_csv('brics.csv', index_col = 0 )\n",
    "    \n",
    "    for lab, row in brics.iterrows():\n",
    "        print(lab + ':' + row['capital'] )\n",
    "     \n",
    "### Add Column:\n",
    "\n",
    "    import pandas as pd\n",
    "    brics = pd.read_csv('brics.csv', index_col = 0 )\n",
    "    \n",
    "    for lab, row in brics.iterrows():\n",
    "        # create series on every iteration\n",
    "        brics.loc[lab, 'name_length'] = len(row['country'])\n",
    "        \n",
    "     print(brics)"
   ]
  },
  {
   "cell_type": "code",
   "execution_count": 18,
   "id": "539b18e7",
   "metadata": {},
   "outputs": [
    {
     "name": "stdout",
     "output_type": "stream",
     "text": [
      "BR\n",
      "country         Brazil\n",
      "capital       Brasilia\n",
      "area             8.516\n",
      "population       200.4\n",
      "Name: BR, dtype: object \n",
      "\n",
      "\n",
      "\n",
      "RU\n",
      "country       Russia\n",
      "capital       Moscow\n",
      "area            17.1\n",
      "population     143.5\n",
      "Name: RU, dtype: object \n",
      "\n",
      "\n",
      "\n",
      "IN\n",
      "country           India\n",
      "capital       New Delhi\n",
      "area              3.286\n",
      "population       1252.0\n",
      "Name: IN, dtype: object \n",
      "\n",
      "\n",
      "\n",
      "CH\n",
      "country         China\n",
      "capital       Beijing\n",
      "area            9.597\n",
      "population     1357.0\n",
      "Name: CH, dtype: object \n",
      "\n",
      "\n",
      "\n",
      "SA\n",
      "country       South Africa\n",
      "capital           Pretoria\n",
      "area                 1.221\n",
      "population           52.98\n",
      "Name: SA, dtype: object \n",
      "\n",
      "\n",
      "\n"
     ]
    }
   ],
   "source": [
    "# Iterating over Pandas DataFrame:\n",
    "\n",
    "import pandas as pd\n",
    "brics = pd.read_csv('country.csv', index_col = 0 )\n",
    "     \n",
    "for lab, row in brics.iterrows():\n",
    "    print(lab)\n",
    "    print(row, '\\n\\n\\n')\n",
    "    "
   ]
  },
  {
   "cell_type": "code",
   "execution_count": 17,
   "id": "4e1a42bd",
   "metadata": {},
   "outputs": [
    {
     "name": "stdout",
     "output_type": "stream",
     "text": [
      "BR:Brasilia\n",
      "RU:Moscow\n",
      "IN:New Delhi\n",
      "CH:Beijing\n",
      "SA:Pretoria\n"
     ]
    }
   ],
   "source": [
    "# Selecting columns:\n",
    "\n",
    "import pandas as pd\n",
    "brics = pd.read_csv('country.csv', index_col = 0 )\n",
    "    \n",
    "for lab, row in brics.iterrows():\n",
    "    \n",
    "    print(lab + ':' + row['capital'])\n",
    "        \n",
    "        "
   ]
  },
  {
   "cell_type": "code",
   "execution_count": 21,
   "id": "16c8976a",
   "metadata": {},
   "outputs": [
    {
     "name": "stdout",
     "output_type": "stream",
     "text": [
      "         country    capital    area  population  name_length\n",
      "BR        Brazil   Brasilia   8.516      200.40          6.0\n",
      "RU        Russia     Moscow  17.100      143.50          6.0\n",
      "IN         India  New Delhi   3.286     1252.00          5.0\n",
      "CH         China    Beijing   9.597     1357.00          5.0\n",
      "SA  South Africa   Pretoria   1.221       52.98         12.0\n",
      "\n",
      "\n",
      "\n",
      "Using apply() function we can add a column to dataframe like below: \n",
      "\n",
      "          country    capital    area  population  name_length\n",
      "BR        Brazil   Brasilia   8.516      200.40            6\n",
      "RU        Russia     Moscow  17.100      143.50            6\n",
      "IN         India  New Delhi   3.286     1252.00            5\n",
      "CH         China    Beijing   9.597     1357.00            5\n",
      "SA  South Africa   Pretoria   1.221       52.98           12\n"
     ]
    }
   ],
   "source": [
    "### Add Column:\n",
    "\n",
    "import pandas as pd\n",
    "brics = pd.read_csv('country.csv', index_col = 0 )\n",
    "    \n",
    "for lab, row in brics.iterrows():\n",
    "    # create series on every iteration\n",
    "    brics.loc[lab, 'name_length'] = len(row['country'])\n",
    "\n",
    "print(brics)\n",
    "\n",
    "# Using apply function we can implement above functionality without iterating over a for loop:\n",
    "\n",
    "brics['name_length'] = brics['country'].apply(len)\n",
    "print('\\n\\n\\nUsing apply() function we can add a column to dataframe like below: \\n\\n', brics)"
   ]
  },
  {
   "cell_type": "markdown",
   "id": "52315880",
   "metadata": {},
   "source": [
    "## Example 1: Loop over DataFrame (1)\n",
    "Iterating over a Pandas DataFrame is typically done with the iterrows() method. Used in a for loop, every observation is iterated over and on every iteration the row label and actual row contents are available:\n",
    "\n",
    "    for lab, row in brics.iterrows() :\n",
    "        ...\n",
    "        \n",
    "In this and the following exercises you will be working on the cars DataFrame. It contains information on the cars per capita and whether people drive right or left for seven countries in the world.\n",
    "\n",
    "### Steps: \n",
    "1. Write a for loop that iterates over the rows of cars and on each iteration perform two print() calls: one to print out the row label and one to print out all of the rows contents."
   ]
  },
  {
   "cell_type": "code",
   "execution_count": 33,
   "id": "e198c0a6",
   "metadata": {},
   "outputs": [
    {
     "name": "stdout",
     "output_type": "stream",
     "text": [
      "US\n",
      "cars_per_cap              809\n",
      "country         United States\n",
      "drives_right             True\n",
      "Name: US, dtype: object\n",
      "AUS\n",
      "cars_per_cap          731\n",
      "country         Australia\n",
      "drives_right        False\n",
      "Name: AUS, dtype: object\n",
      "JPN\n",
      "cars_per_cap      588\n",
      "country         Japan\n",
      "drives_right    False\n",
      "Name: JPN, dtype: object\n",
      "IN\n",
      "cars_per_cap       18\n",
      "country         India\n",
      "drives_right    False\n",
      "Name: IN, dtype: object\n",
      "RU\n",
      "cars_per_cap       200\n",
      "country         Russia\n",
      "drives_right      True\n",
      "Name: RU, dtype: object\n",
      "MOR\n",
      "cars_per_cap         70\n",
      "country         Morocco\n",
      "drives_right       True\n",
      "Name: MOR, dtype: object\n",
      "EG\n",
      "cars_per_cap       45\n",
      "country         Egypt\n",
      "drives_right     True\n",
      "Name: EG, dtype: object\n"
     ]
    }
   ],
   "source": [
    "# Example 1: Loop over DataFrame (1)¶\n",
    "import pandas as pd\n",
    "cars = pd.read_csv('cars.csv', index_col =0)\n",
    "\n",
    "for lab, row in cars.iterrows():\n",
    "    print(lab)\n",
    "    print(row)"
   ]
  },
  {
   "cell_type": "markdown",
   "id": "b6c28f0b",
   "metadata": {},
   "source": [
    "## Example 2: Loop over DataFrame (2)\n",
    "The row data that's generated by iterrows() on every run is a Pandas Series. This format is not very convenient to print out. Luckily, you can easily select variables from the Pandas Series using square brackets:\n",
    "\n",
    "    for lab, row in brics.iterrows() :\n",
    "        print(row['country'])\n",
    "        \n",
    "### Steps: \n",
    "1. Using the iterators lab and row, adapt the code in the for loop such that the first iteration prints out \"US: 809\", the second iteration \"AUS: 731\", and so on.\n",
    "2. The output should be in the form \"country: cars_per_cap\". Make sure to print out this exact string (with the correct spacing).\n",
    "    * You can use str() to convert your integer data to a string so that you can print it in conjunction with the country label.\n",
    "    \n",
    "    "
   ]
  },
  {
   "cell_type": "code",
   "execution_count": 32,
   "id": "27d9f3ac",
   "metadata": {},
   "outputs": [
    {
     "name": "stdout",
     "output_type": "stream",
     "text": [
      "US:809\n",
      "AUS:731\n",
      "JPN:588\n",
      "IN:18\n",
      "RU:200\n",
      "MOR:70\n",
      "EG:45\n"
     ]
    }
   ],
   "source": [
    "#Example 2: Loop over DataFrame (2)\n",
    "for lab, row in cars.iterrows():\n",
    "    print(lab + ':' + str(row['cars_per_cap']))"
   ]
  },
  {
   "cell_type": "markdown",
   "id": "4f7ef1eb",
   "metadata": {},
   "source": [
    "## Example 3: Add column (1)\n",
    "In the video, Hugo showed you how to add the length of the country names of the brics DataFrame in a new column:\n",
    "\n",
    "    for lab, row in brics.iterrows() :\n",
    "        brics.loc[lab, \"name_length\"] = len(row[\"country\"])\n",
    "\n",
    "You can do similar things on the cars DataFrame.\n",
    "\n",
    "### Steps: \n",
    "1. Use a for loop to add a new column, named COUNTRY, that contains a uppercase version of the country names in the \"country\" column. You can use the string method upper() for this.\n",
    "2. To see if your code worked, print out cars. Don't indent this code, so that it's not part of the for loop.\n",
    "\n"
   ]
  },
  {
   "cell_type": "code",
   "execution_count": 31,
   "id": "991f5471",
   "metadata": {},
   "outputs": [
    {
     "name": "stdout",
     "output_type": "stream",
     "text": [
      "     cars_per_cap        country  drives_right        COUNTRY\n",
      "US            809  United States          True  UNITED STATES\n",
      "AUS           731      Australia         False      AUSTRALIA\n",
      "JPN           588          Japan         False          JAPAN\n",
      "IN             18          India         False          INDIA\n",
      "RU            200         Russia          True         RUSSIA\n",
      "MOR            70        Morocco          True        MOROCCO\n",
      "EG             45          Egypt          True          EGYPT\n"
     ]
    }
   ],
   "source": [
    "#Example 3: Add column (1)\n",
    "for lab, row in cars.iterrows():\n",
    "    cars.loc[lab, 'COUNTRY'] = row['country'].upper()\n",
    "\n",
    "\n",
    "print(cars)"
   ]
  },
  {
   "cell_type": "markdown",
   "id": "7565193f",
   "metadata": {},
   "source": [
    "## Example 4: Add column (2)\n",
    "Using iterrows() to iterate over every observation of a Pandas DataFrame is easy to understand, but not very efficient. On every iteration, you're creating a new Pandas Series.\n",
    "\n",
    "If you want to add a column to a DataFrame by calling a function on another column, the iterrows() method in combination with a for loop is not the preferred way to go. Instead, you'll want to use apply().\n",
    "\n",
    "Compare the iterrows() version with the apply() version to get the same result in the brics DataFrame:\n",
    "\n",
    "    for lab, row in brics.iterrows() :\n",
    "        brics.loc[lab, \"name_length\"] = len(row[\"country\"])\n",
    "    \n",
    "    brics[\"name_length\"] = brics[\"country\"].apply(len)\n",
    "    \n",
    "We can do a similar thing to call the upper() method on every name in the country column. However, upper() is a method, so we'll need a slightly different approach:\n",
    "\n",
    "### Steps: \n",
    "1. Replace the for loop with a one-liner that uses .apply(str.upper). The call should give the same result: a column COUNTRY should be added to cars, containing an uppercase version of the country names.\n",
    "2. As usual, print out cars to see the fruits of your hard labor\n"
   ]
  },
  {
   "cell_type": "code",
   "execution_count": 38,
   "id": "17aa2508",
   "metadata": {},
   "outputs": [
    {
     "name": "stdout",
     "output_type": "stream",
     "text": [
      "     cars_per_cap        country  drives_right        COUNTRY\n",
      "US            809  United States          True  UNITED STATES\n",
      "AUS           731      Australia         False      AUSTRALIA\n",
      "JPN           588          Japan         False          JAPAN\n",
      "IN             18          India         False          INDIA\n",
      "RU            200         Russia          True         RUSSIA\n",
      "MOR            70        Morocco          True        MOROCCO\n",
      "EG             45          Egypt          True          EGYPT\n"
     ]
    }
   ],
   "source": [
    "# Example 4: Add column (2)\n",
    "\n",
    "cars['COUNTRY'] = cars['country'].apply(str.upper)\n",
    "\n",
    "print(cars)"
   ]
  },
  {
   "cell_type": "code",
   "execution_count": null,
   "id": "d311d13c",
   "metadata": {},
   "outputs": [],
   "source": []
  }
 ],
 "metadata": {
  "kernelspec": {
   "display_name": "Python 3 (ipykernel)",
   "language": "python",
   "name": "python3"
  },
  "language_info": {
   "codemirror_mode": {
    "name": "ipython",
    "version": 3
   },
   "file_extension": ".py",
   "mimetype": "text/x-python",
   "name": "python",
   "nbconvert_exporter": "python",
   "pygments_lexer": "ipython3",
   "version": "3.9.13"
  }
 },
 "nbformat": 4,
 "nbformat_minor": 5
}
