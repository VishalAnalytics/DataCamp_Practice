{
 "cells": [
  {
   "cell_type": "markdown",
   "id": "938608c6",
   "metadata": {},
   "source": [
    "## V13: For Loop \n",
    "\n",
    "### Syntax:\n",
    "    \n",
    "    \n",
    "    for var in seq:\n",
    "        expression\n",
    "\n",
    "### Ex 1:\n",
    "\n",
    "    fam = [ 1.55, 2.22, 3.33, 2.22 ]\n",
    "    \n",
    "    \n",
    "    for var in fam:\n",
    "        print(var)\n",
    "        \n",
    "### Ex 2: \n",
    "        \n",
    "    fam = [1.44, 1.46, 1.67, 1.77, 1.75]\n",
    "    \n",
    "    for index, height in enumerate(fam):\n",
    "        print('index' + str(index) + ':' + str(height))\n",
    "        \n",
    "### Ex 3: For loop doesn't loop over LIST but can also loop on STRING.\n",
    "    \n",
    "    for c in 'Family':\n",
    "        print(c.capitalize())\n",
    "        \n",
    "   #### O/ P: \n",
    "       F\n",
    "       A\n",
    "       M\n",
    "       I\n",
    "       L\n",
    "       Y\n",
    "               "
   ]
  },
  {
   "cell_type": "markdown",
   "id": "432f7de2",
   "metadata": {},
   "source": [
    "## Example 1: Loop over a list\n",
    "Have another look at the for loop that Hugo showed in the video:\n",
    "\n",
    "    fam = [1.73, 1.68, 1.71, 1.89]\n",
    "    for height in fam : \n",
    "        print(height)\n",
    "As usual, you simply have to indent the code with 4 spaces to tell Python which code should be executed in the for loop.\n",
    "\n",
    "The areas variable, containing the area of different rooms in your house, is already defined.\n",
    "\n",
    "### Steps: Write a for loop that iterates over all elements of the areas list and prints out every element separately.\n",
    "\n"
   ]
  },
  {
   "cell_type": "code",
   "execution_count": 1,
   "id": "c9ef7be1",
   "metadata": {},
   "outputs": [
    {
     "name": "stdout",
     "output_type": "stream",
     "text": [
      "11.25\n",
      "18.0\n",
      "20.0\n",
      "10.75\n",
      "9.5\n"
     ]
    }
   ],
   "source": [
    "# areas list\n",
    "areas = [11.25, 18.0, 20.0, 10.75, 9.50]\n",
    "\n",
    "for var in areas:\n",
    "    print(var)"
   ]
  },
  {
   "cell_type": "markdown",
   "id": "ccbb3fd5",
   "metadata": {},
   "source": [
    "## Example 2: Indexes and values (1)\n",
    "Using a for loop to iterate over a list only gives you access to every list element in each run, one after the other. If you also want to access the index information, so where the list element you're iterating over is located, you can use enumerate().\n",
    "\n",
    "As an example, have a look at how the for loop from the video was converted:\n",
    "\n",
    "    fam = [1.73, 1.68, 1.71, 1.89]\n",
    "    for index, height in enumerate(fam) :\n",
    "        print(\"person \" + str(index) + \": \" + str(height))\n",
    "\n",
    "### Steps: \n",
    "1. Adapt the for loop in the sample code to use enumerate() and use two iterator variables.\n",
    "2. Update the print() statement so that on each run, a line of the form \"room x: y\" should be printed, where x is the index of the list element and y is the actual list element, i.e. the area. Make sure to print out this exact string, with the correct spacing."
   ]
  },
  {
   "cell_type": "code",
   "execution_count": 2,
   "id": "558db022",
   "metadata": {},
   "outputs": [
    {
     "name": "stdout",
     "output_type": "stream",
     "text": [
      "room 0:11.25\n",
      "room 1:18.0\n",
      "room 2:20.0\n",
      "room 3:10.75\n",
      "room 4:9.5\n"
     ]
    }
   ],
   "source": [
    "# areas list\n",
    "areas = [11.25, 18.0, 20.0, 10.75, 9.50]\n",
    "\n",
    "# Change for loop to use enumerate() and update print()\n",
    "for index,a in enumerate(areas):\n",
    "    print('room ' + str(index) + ':' + str(a)) "
   ]
  },
  {
   "cell_type": "markdown",
   "id": "a870b0a4",
   "metadata": {},
   "source": [
    "## Example 3: Indexes and values (2)\n",
    "For non-programmer folks, room 0: 11.25 is strange. Wouldn't it be better if the count started at 1?\n",
    "\n",
    "### Steps: \n",
    "#### Adapt the print() function in the for loop so that the first printout becomes \"room 1: 11.25\", the second one \"room 2: 18.0\" and so on.\n"
   ]
  },
  {
   "cell_type": "code",
   "execution_count": 3,
   "id": "9ebfe049",
   "metadata": {},
   "outputs": [
    {
     "name": "stdout",
     "output_type": "stream",
     "text": [
      "room 1:11.25\n",
      "room 2:18.0\n",
      "room 3:20.0\n",
      "room 4:10.75\n",
      "room 5:9.5\n"
     ]
    }
   ],
   "source": [
    "# areas list\n",
    "areas = [11.25, 18.0, 20.0, 10.75, 9.50]\n",
    "\n",
    "# Change for loop to use enumerate() and update print()\n",
    "for index,a in enumerate(areas):\n",
    "    print('room ' + str(index+1) + ':' + str(a)) "
   ]
  },
  {
   "cell_type": "markdown",
   "id": "68de4edc",
   "metadata": {},
   "source": [
    "## Example 4: Loop over list of lists\n",
    "Remember the house variable from the Intro to Python course? Have a look at its definition in the script. It's basically a list of lists, where each sublist contains the name and area of a room in your house.\n",
    "\n",
    "It's up to you to build a for loop from scratch this time!\n",
    "\n",
    "### Steps: \n",
    "1. Write a for loop that goes through each sublist of house and prints out the x is y sqm, where x is the name of the room and y is the area of the room."
   ]
  },
  {
   "cell_type": "code",
   "execution_count": 5,
   "id": "c9848a02",
   "metadata": {},
   "outputs": [
    {
     "name": "stdout",
     "output_type": "stream",
     "text": [
      "hallway is 11.25 sqm\n",
      "kitchen is 18.0 sqm\n",
      "living room is 20.0 sqm\n",
      "bedroom is 10.75 sqm\n",
      "bathroom is 9.5 sqm\n"
     ]
    }
   ],
   "source": [
    "# house list of lists\n",
    "house = [[\"hallway\", 11.25], \n",
    "         [\"kitchen\", 18.0], \n",
    "         [\"living room\", 20.0], \n",
    "         [\"bedroom\", 10.75], \n",
    "         [\"bathroom\", 9.50]]\n",
    "         \n",
    "# Build a for loop from scratch\n",
    "\n",
    "for j in house:\n",
    "    print(j[0] + ' is ' + str(j[1]) + ' sqm' )"
   ]
  },
  {
   "cell_type": "code",
   "execution_count": null,
   "id": "6396e34b",
   "metadata": {},
   "outputs": [],
   "source": []
  }
 ],
 "metadata": {
  "kernelspec": {
   "display_name": "Python 3 (ipykernel)",
   "language": "python",
   "name": "python3"
  },
  "language_info": {
   "codemirror_mode": {
    "name": "ipython",
    "version": 3
   },
   "file_extension": ".py",
   "mimetype": "text/x-python",
   "name": "python",
   "nbconvert_exporter": "python",
   "pygments_lexer": "ipython3",
   "version": "3.9.13"
  }
 },
 "nbformat": 4,
 "nbformat_minor": 5
}
