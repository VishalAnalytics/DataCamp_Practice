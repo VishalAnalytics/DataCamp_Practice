{
 "cells": [
  {
   "cell_type": "markdown",
   "id": "8975090f",
   "metadata": {},
   "source": [
    "## V4: Dictionaries Part1\n",
    "\n",
    "Now we know LIST and Numpy arrays. But we can have data of Populations of Countries stroed in two different Lists. Like:\n",
    "    \n",
    "    Countries = ['Afghanistan', 'Albania', 'Algeria']\n",
    "    Pop = [30.23, 2.5, 39.55]\n",
    "\n",
    "Now, if we want to find out the population of Albania. We use below:\n",
    "    \n",
    "    Country_Alb_index = Countries.index('Albania')\n",
    "    Pop_Albania = Pop[Country_Alb_index]\n",
    "    \n",
    "This complexity can be sorted out by creating a Dictionary of it. This will be having a key & value pair like:\n",
    "      \n",
    "      {'Key': 'Value'} \n",
    "      Country= {\"Afghanistan\":30.23, \"Albania\":2.5, \"Algeria\":39.55}\n",
    "      Pop_Albania = Country[\"Albania\"]\n",
    "      \n"
   ]
  },
  {
   "cell_type": "code",
   "execution_count": 4,
   "id": "0b3376c6",
   "metadata": {},
   "outputs": [
    {
     "data": {
      "text/plain": [
       "2.5"
      ]
     },
     "execution_count": 4,
     "metadata": {},
     "output_type": "execute_result"
    }
   ],
   "source": [
    "# Sample Data:\n",
    "Country= {\"Afghanistan\":30.23, \"Albania\":2.5, \"Algeria\":39.55}\n",
    "Pop_Albania = Country[\"Albania\"]\n",
    "Pop_Albania"
   ]
  },
  {
   "cell_type": "markdown",
   "id": "af5470d4",
   "metadata": {},
   "source": [
    "### Example 1: Motivation for dictionaries\n",
    "To see why dictionaries are useful, have a look at the two lists defined in the script. countries contains the names of some European countries. capitals lists the corresponding names of their capital.\n",
    "\n",
    "#### Steps: \n",
    "1. Use the index() method on countries to find the index of 'germany'. Store this index as ind_ger.\n",
    "2. Use ind_ger to access the capital of Germany from the capitals list. Print it out."
   ]
  },
  {
   "cell_type": "code",
   "execution_count": 3,
   "id": "08b3766d",
   "metadata": {},
   "outputs": [
    {
     "name": "stdout",
     "output_type": "stream",
     "text": [
      "Capital of Germany berlin\n"
     ]
    }
   ],
   "source": [
    "# Definition of countries and capital\n",
    "countries = ['spain', 'france', 'germany', 'norway']\n",
    "capitals = ['madrid', 'paris', 'berlin', 'oslo']\n",
    "\n",
    "# 1. Use the index() method on countries to find the index of 'germany'. Store this index as ind_ger.\n",
    "\n",
    "ind_ger = countries.index('germany')\n",
    "print('Capital of Germany',capitals[ind_ger])"
   ]
  },
  {
   "cell_type": "markdown",
   "id": "1647945e",
   "metadata": {},
   "source": [
    "### Example 2: Create dictionary\n",
    "The countries and capitals lists are again available in the script. It's your job to convert this data to a dictionary where the country names are the keys and the capitals are the corresponding values. As a refresher, here is a recipe for creating a dictionary:\n",
    "\n",
    "    my_dict = {\n",
    "                   \"key1\":\"value1\",\n",
    "                   \"key2\":\"value2\",\n",
    "                }\n",
    "In this recipe, both the keys and the values are strings. This will also be the case for this exercise.\n",
    "\n",
    "#### Steps:\n",
    "1. With the strings in countries and capitals, create a dictionary called europe with 4 key:value pairs. Beware of capitalization! Make sure you use lowercase characters everywhere.\n",
    "2. Print out europe to see if the result is what you expected."
   ]
  },
  {
   "cell_type": "code",
   "execution_count": 7,
   "id": "4c283b81",
   "metadata": {},
   "outputs": [
    {
     "name": "stdout",
     "output_type": "stream",
     "text": [
      "{'spain': 'madrid', 'france': 'paris', 'germany': 'berlin', 'norway': 'oslo'}\n"
     ]
    }
   ],
   "source": [
    "import numpy as np\n",
    "europe = { 'spain':'madrid','france':'paris', 'germany':'berlin', 'norway':'oslo'}\n",
    "print(europe)\n",
    "\n"
   ]
  },
  {
   "cell_type": "markdown",
   "id": "94894a0f",
   "metadata": {},
   "source": [
    "### Example 3: Access dictionary\n",
    "If the keys of a dictionary are chosen wisely, accessing the values in a dictionary is easy and intuitive. For example, to get the capital for France from europe you can use:\n",
    "\n",
    "    europe['france']\n",
    "\n",
    "Here, 'france' is the key and 'paris' the value is returned.\n",
    "\n",
    "#### Steps:\n",
    "1. Check out which keys are in europe by calling the keys() method on europe. Print out the result.\n",
    "2. Print out the value that belongs to the key 'norway'."
   ]
  },
  {
   "cell_type": "code",
   "execution_count": 16,
   "id": "7f7568a4",
   "metadata": {},
   "outputs": [
    {
     "name": "stdout",
     "output_type": "stream",
     "text": [
      "Which keys are in europe:  dict_keys(['spain', 'france', 'germany', 'norway'])\n",
      "\n",
      "Which Values are in europe:  dict_values(['madrid', 'paris', 'berlin', 'oslo'])\n",
      "\n",
      "Print out the value that belongs to the key 'norway' : oslo\n"
     ]
    }
   ],
   "source": [
    "# 1. Check out which keys are in europe by calling the keys() method on europe. Print out the result.\n",
    "\n",
    "print( 'Which keys are in europe: ',europe.keys())\n",
    "\n",
    "print( '\\nWhich Values are in europe: ',europe.values())\n",
    "\n",
    "\n",
    "# 2. Print out the value that belongs to the key 'norway'.\n",
    "\n",
    "print('\\nPrint out the value that belongs to the key \\'norway\\' :',europe['norway'])"
   ]
  }
 ],
 "metadata": {
  "kernelspec": {
   "display_name": "Python 3 (ipykernel)",
   "language": "python",
   "name": "python3"
  },
  "language_info": {
   "codemirror_mode": {
    "name": "ipython",
    "version": 3
   },
   "file_extension": ".py",
   "mimetype": "text/x-python",
   "name": "python",
   "nbconvert_exporter": "python",
   "pygments_lexer": "ipython3",
   "version": "3.9.13"
  }
 },
 "nbformat": 4,
 "nbformat_minor": 5
}
