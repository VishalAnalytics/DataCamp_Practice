{
 "cells": [
  {
   "cell_type": "markdown",
   "id": "d58a94aa",
   "metadata": {},
   "source": [
    "# V16: Random Number in Python\n",
    "\n",
    "If something is need to be simulated then we need to follow:\n",
    "1. hacker statistics\n",
    "2. Using Pseudo Random number: These are pseudo random number because seed is set for them and due to this it will produce the same random number everytime. This will help in reproducability of random number for experiments.\n",
    "\n",
    "* seed(): sets the random seed, so that your results are reproducible between simulations. As an argument, it takes an integer of your choosing. If you call the function, no output will be generated.\n",
    "* rand(): if you don't specify any arguments, it generates a random float between zero and one.\n",
    "\n",
    "        import numpy as np\n",
    "        np.random.seed(123)\n",
    "        coin = np.random.randint(0,2) # Randomly generate 0 or 1\n",
    "        \n",
    "        print(coin)\n",
    "        \n",
    "        if coin == 0:\n",
    "            print('heads')\n",
    "        else:\n",
    "            print('tails')\n",
    "            \n",
    "        "
   ]
  },
  {
   "cell_type": "markdown",
   "id": "8a318ab2",
   "metadata": {},
   "source": [
    "## Example 1: Random float\n",
    "Randomness has many uses in science, art, statistics, cryptography, gaming, gambling, and other fields. You're going to use randomness to simulate a game.\n",
    "\n",
    "All the functionality you need is contained in the random package, a sub-package of numpy. In this exercise, you'll be using two functions from this package:\n",
    "\n",
    "* seed(): sets the random seed, so that your results are reproducible between simulations. As an argument, it takes an integer of your choosing. If you call the function, no output will be generated.\n",
    "* rand(): if you don't specify any arguments, it generates a random float between zero and one.\n",
    "\n",
    "### Steps: \n",
    "1. Import numpy as np.\n",
    "2. Use seed() to set the seed; as an argument, pass 123.\n",
    "3. Generate your first random float with rand() and print it out."
   ]
  },
  {
   "cell_type": "code",
   "execution_count": 3,
   "id": "eb426e49",
   "metadata": {},
   "outputs": [
    {
     "name": "stdout",
     "output_type": "stream",
     "text": [
      "0.6964691855978616\n"
     ]
    }
   ],
   "source": [
    "# Example 1: Random float\n",
    "import numpy as np\n",
    "np.random.seed(123)\n",
    "\n",
    "print(np.random.rand())\n",
    "\n"
   ]
  },
  {
   "cell_type": "markdown",
   "id": "b60511f7",
   "metadata": {},
   "source": [
    "## Example 2: Roll the dice\n",
    "In the previous exercise, you used rand(), that generates a random float between 0 and 1.\n",
    "\n",
    "As Hugo explained in the video you can just as well use randint(), also a function of the random package, to generate integers randomly. The following call generates the integer 4, 5, 6 or 7 randomly. 8 is not included.\n",
    "\n",
    "    import numpy as np\n",
    "    np.random.randint(4, 8)\n",
    "\n",
    "NumPy has already been imported as np and a seed has been set. Can you roll some dice?\n",
    "\n",
    "### Steps: \n",
    "1. Use randint() with the appropriate arguments to randomly generate the integer 1, 2, 3, 4, 5 or 6. This simulates a dice. Print it out.\n",
    "2. Repeat the outcome to see if the second throw is different. Again, print out the result."
   ]
  },
  {
   "cell_type": "code",
   "execution_count": 6,
   "id": "a51a3c32",
   "metadata": {},
   "outputs": [
    {
     "name": "stdout",
     "output_type": "stream",
     "text": [
      "3\n",
      "2\n"
     ]
    }
   ],
   "source": [
    "# Example 2: Roll the dice\n",
    "\n",
    "print(np.random.randint(1,7))\n",
    "print(np.random.randint(1,7))"
   ]
  },
  {
   "cell_type": "markdown",
   "id": "54bcd20b",
   "metadata": {},
   "source": [
    "## Example 3: Determine your next move\n",
    "In the Empire State Building bet, your next move depends on the number of eyes you throw with the dice. We can perfectly code this with an if-elif-else construct!\n",
    "\n",
    "The sample code assumes that you're currently at step 50. Can you fill in the missing pieces to finish the script? numpy is already imported as np and the seed has been set to 123, so you don't have to worry about that anymore.\n",
    "\n",
    "### Steps: \n",
    "1. Roll the dice. Use randint() to create the variable dice.\n",
    "2. Finish the if-elif-else construct by replacing ___:\n",
    "3. If dice is 1 or 2, you go one step down.\n",
    "4. if dice is 3, 4 or 5, you go one step up.\n",
    "5. Else, you throw the dice again. The number of eyes is the number of steps you go up.\n",
    "6. Print out dice and step. Given the value of dice, was step updated correctly?\n"
   ]
  },
  {
   "cell_type": "code",
   "execution_count": 4,
   "id": "e05dc42f",
   "metadata": {},
   "outputs": [
    {
     "name": "stdout",
     "output_type": "stream",
     "text": [
      "Dice:  5 \n",
      "\n",
      "\n",
      " Step:  1\n"
     ]
    }
   ],
   "source": [
    "import numpy as np\n",
    "dice = np.random.randint(1,7)\n",
    "step =0\n",
    "\n",
    "if dice ==1 or dice ==2:\n",
    "    step = step - 1\n",
    "elif dice== 3 or dice== 4 or dice== 5:\n",
    "    step = step + 1\n",
    "else:\n",
    "    step = step + dice\n",
    "    \n",
    "print('Dice: ', dice, '\\n\\n\\n', 'Step: ', step)"
   ]
  },
  {
   "cell_type": "code",
   "execution_count": null,
   "id": "0e1c0759",
   "metadata": {},
   "outputs": [],
   "source": []
  }
 ],
 "metadata": {
  "kernelspec": {
   "display_name": "Python 3 (ipykernel)",
   "language": "python",
   "name": "python3"
  },
  "language_info": {
   "codemirror_mode": {
    "name": "ipython",
    "version": 3
   },
   "file_extension": ".py",
   "mimetype": "text/x-python",
   "name": "python",
   "nbconvert_exporter": "python",
   "pygments_lexer": "ipython3",
   "version": "3.9.13"
  }
 },
 "nbformat": 4,
 "nbformat_minor": 5
}
