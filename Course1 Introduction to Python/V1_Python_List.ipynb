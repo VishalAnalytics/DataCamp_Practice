{
 "cells": [
  {
   "cell_type": "markdown",
   "id": "cef0a321",
   "metadata": {},
   "source": [
    "#### Understanding Python List\n",
    "    * [a,b,c]\n",
    "    * [1.3, 1.23, 2.333] \n",
    "    * ['Vinod', 1.76, 'Vishal', 1.74,  'Raj Kumari', 1.54, 'Bhanu',1.57, 'Sonika', 1.59, 'Vihan', 0.7]\n",
    "    "
   ]
  },
  {
   "cell_type": "code",
   "execution_count": 2,
   "id": "9447b593",
   "metadata": {},
   "outputs": [
    {
     "name": "stdout",
     "output_type": "stream",
     "text": [
      "['Vinod', 1.76, 'Vishal', 1.74, 'Raj Kumari', 1.54, 'Bhanu', 1.57, 'Sonika', 1.59, 'Vihan', 0.7]\n"
     ]
    }
   ],
   "source": [
    "family = ['Vinod', 1.76, 'Vishal', 1.74,  'Raj Kumari', 1.54, 'Bhanu',1.57, 'Sonika', 1.59, 'Vihan', 0.7]\n",
    "print(family)"
   ]
  },
  {
   "cell_type": "code",
   "execution_count": 3,
   "id": "ceaf3074",
   "metadata": {},
   "outputs": [
    {
     "name": "stdout",
     "output_type": "stream",
     "text": [
      "[['Vinod', 1.76], ['Vishal', 1.75], ['Rajkumari', 1.56]]\n"
     ]
    }
   ],
   "source": [
    "fam2 = [['Vinod', 1.76],\n",
    "        ['Vishal', 1.75],\n",
    "        ['Rajkumari', 1.56]\n",
    "       ]\n",
    "print(fam2)"
   ]
  },
  {
   "cell_type": "code",
   "execution_count": 4,
   "id": "94704789",
   "metadata": {},
   "outputs": [
    {
     "data": {
      "text/plain": [
       "[['Vinod', 1.76], ['Vishal', 1.75], ['Rajkumari', 1.56]]"
      ]
     },
     "execution_count": 4,
     "metadata": {},
     "output_type": "execute_result"
    }
   ],
   "source": [
    "fam2"
   ]
  },
  {
   "cell_type": "code",
   "execution_count": 5,
   "id": "47df1f34",
   "metadata": {},
   "outputs": [
    {
     "data": {
      "text/plain": [
       "list"
      ]
     },
     "execution_count": 5,
     "metadata": {},
     "output_type": "execute_result"
    }
   ],
   "source": [
    "type(fam2)"
   ]
  },
  {
   "cell_type": "code",
   "execution_count": 9,
   "id": "00b192a3",
   "metadata": {},
   "outputs": [
    {
     "name": "stdout",
     "output_type": "stream",
     "text": [
      "[1.74, 1.56, 1.58, 1.76, 1.62]\n"
     ]
    }
   ],
   "source": [
    "### Heights of family member \n",
    "Vishal_ht = 1.74\n",
    "Rajkumari_ht= 1.56\n",
    "Bhanu_ht= 1.58\n",
    "Vinod_ht= 1.76\n",
    "Sonika_ht=1.62\n",
    "\n",
    "fam_ht = [Vishal_ht, Rajkumari_ht, Bhanu_ht, Vinod_ht, Sonika_ht]\n",
    "\n",
    "print(fam_ht)"
   ]
  },
  {
   "cell_type": "code",
   "execution_count": 11,
   "id": "5c1b5aa1",
   "metadata": {},
   "outputs": [
    {
     "data": {
      "text/plain": [
       "['Vishal', 1.74, 'Rajkumari', 1.56]"
      ]
     },
     "execution_count": 11,
     "metadata": {},
     "output_type": "execute_result"
    }
   ],
   "source": [
    "fam_ht_wth_names = ['Vishal', Vishal_ht, 'Rajkumari', Rajkumari_ht]\n",
    "fam_ht_wth_names"
   ]
  },
  {
   "cell_type": "code",
   "execution_count": 15,
   "id": "a1b7f11c",
   "metadata": {},
   "outputs": [
    {
     "data": {
      "text/plain": [
       "[1.75]"
      ]
     },
     "execution_count": 15,
     "metadata": {},
     "output_type": "execute_result"
    }
   ],
   "source": [
    "fam_avg_male_ht=[(Vishal_ht+Vinod_ht)/2]\n",
    "fam_avg_male_ht"
   ]
  }
 ],
 "metadata": {
  "kernelspec": {
   "display_name": "Python 3 (ipykernel)",
   "language": "python",
   "name": "python3"
  },
  "language_info": {
   "codemirror_mode": {
    "name": "ipython",
    "version": 3
   },
   "file_extension": ".py",
   "mimetype": "text/x-python",
   "name": "python",
   "nbconvert_exporter": "python",
   "pygments_lexer": "ipython3",
   "version": "3.9.13"
  }
 },
 "nbformat": 4,
 "nbformat_minor": 5
}
