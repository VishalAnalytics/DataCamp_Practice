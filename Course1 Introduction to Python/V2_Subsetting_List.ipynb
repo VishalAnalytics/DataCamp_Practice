{
 "cells": [
  {
   "cell_type": "markdown",
   "id": "1fd22e86",
   "metadata": {},
   "source": [
    "### Subsetting Python List\n",
    "    1. Python List: List[First:Last]\n",
    "            * First Index: It is inclusive. It means that it will be included in result\n",
    "            * Last Index:  It is exclusive. It means that item on this index will not be included in final result\n",
    "            \n",
    "    2. List_Ex2[:Last]\n",
    "            * Here as first index is not defined than it will be the by default start with very first item of list.\n",
    "            * Last Index will be same as above.\n",
    "    \n",
    "    3. List_Ex3[:]\n",
    "            * Here nothing is mentioned so, it will fetch all the items present in list.\n",
    "            \n",
    "    4. List_Ex4[:-2]\n",
    "            * Here it will start with first index (zero)\n",
    "            * Here it will count -1 as first item from right side and move to left side. So, in this way it will neglect the                   very first element from right and will pick upto second last element in LIST.\n",
    "   "
   ]
  },
  {
   "cell_type": "code",
   "execution_count": 2,
   "id": "b86f24d8",
   "metadata": {},
   "outputs": [
    {
     "name": "stdout",
     "output_type": "stream",
     "text": [
      "['Vinod', 1.76, 'Vishal', 1.74, 'Raj Kumari', 1.54, 'Bhanu', 1.57, 'Sonika', 1.59, 'Vihan', 0.7]\n"
     ]
    }
   ],
   "source": [
    "family = ['Vinod', 1.76, 'Vishal', 1.74,  'Raj Kumari', 1.54, 'Bhanu',1.57, 'Sonika', 1.59, 'Vihan', 0.7]\n",
    "print(family)\n"
   ]
  },
  {
   "cell_type": "code",
   "execution_count": 3,
   "id": "26f955f0",
   "metadata": {},
   "outputs": [
    {
     "data": {
      "text/plain": [
       "['Vishal', 1.74]"
      ]
     },
     "execution_count": 3,
     "metadata": {},
     "output_type": "execute_result"
    }
   ],
   "source": [
    "family[2:4]\n"
   ]
  },
  {
   "cell_type": "code",
   "execution_count": 5,
   "id": "3b6416c2",
   "metadata": {},
   "outputs": [
    {
     "name": "stdout",
     "output_type": "stream",
     "text": [
      "28.75\n"
     ]
    }
   ],
   "source": [
    "# Create the areas list\n",
    "areas = [\"hallway\", 11.25, \"kitchen\", 18.0, \"living room\", 20.0, \"bedroom\", 10.75, \"bathroom\", 9.50]\n",
    "\n",
    "# Sum of kitchen and bedroom area: eat_sleep_area\n",
    "eat_sleep_area=areas[3]+areas[-3]\n",
    "\n",
    "# Print the variable eat_sleep_area\n",
    "print(eat_sleep_area)"
   ]
  },
  {
   "cell_type": "markdown",
   "id": "fef5191a",
   "metadata": {},
   "source": [
    "### Example 2: Slicing and Dicing (1)\n",
    "1. Use slicing to create a list, downstairs, that contains the first 6 elements of areas.\n",
    "2. Do a similar thing to create a new variable, upstairs, that contains the last 4 elements of areas.\n",
    "3. Print both downstairs and upstairs using print()."
   ]
  },
  {
   "cell_type": "code",
   "execution_count": 8,
   "id": "c7510ce7",
   "metadata": {},
   "outputs": [
    {
     "name": "stdout",
     "output_type": "stream",
     "text": [
      "['hallway', 11.25, 'kitchen', 18.0, 'living room', 20.0]\n",
      "['bedroom', 10.75, 'bathroom', 9.5]\n"
     ]
    }
   ],
   "source": [
    "# Create the areas list\n",
    "areas = [\"hallway\", 11.25, \"kitchen\", 18.0, \"living room\", 20.0, \"bedroom\", 10.75, \"bathroom\", 9.50]\n",
    "\n",
    "# Use slicing to create downstairs\n",
    "downstairs=areas[:6]\n",
    "\n",
    "# Use slicing to create upstairs\n",
    "upstairs=areas[-4:]\n",
    "\n",
    "# Print out downstairs and upstairs\n",
    "print(downstairs)\n",
    "print(upstairs)"
   ]
  },
  {
   "cell_type": "markdown",
   "id": "213736e6",
   "metadata": {},
   "source": [
    "### Example 3: Slicing and dicing (2)\n",
    "    1. Create downstairs again, as the first 6 elements of areas. This time, simplify the slicing by omitting the begin \n",
    "        index.\n",
    "    2. Create upstairs again, as the last 4 elements of areas. \n",
    "    3. This time, simplify the slicing by omitting the end index."
   ]
  },
  {
   "cell_type": "code",
   "execution_count": 10,
   "id": "922df946",
   "metadata": {},
   "outputs": [
    {
     "name": "stdout",
     "output_type": "stream",
     "text": [
      "['hallway', 11.25, 'kitchen', 18.0, 'living room', 20.0]\n",
      "['bedroom', 10.75, 'bathroom', 9.5]\n"
     ]
    }
   ],
   "source": [
    "# Create the areas list\n",
    "areas = [\"hallway\", 11.25, \"kitchen\", 18.0, \"living room\", 20.0, \"bedroom\", 10.75, \"bathroom\", 9.50]\n",
    "\n",
    "# Alternative slicing to create downstairs\n",
    "downstairs= areas[:6]\n",
    "print(downstairs)\n",
    "# Alternative slicing to create upstairs\n",
    "upstairs= areas[-4:]\n",
    "print(upstairs)\n"
   ]
  },
  {
   "cell_type": "markdown",
   "id": "b8ad2b50",
   "metadata": {},
   "source": [
    "### Example 4: Subsetting lists of lists\n",
    "    x = [[\"a\", \"b\", \"c\"],\n",
    "     [\"d\", \"e\", \"f\"],\n",
    "     [\"g\", \"h\", \"i\"]]\n",
    "    \n",
    "    1. x[2][0] \n",
    "    2. x[2][:2]"
   ]
  },
  {
   "cell_type": "code",
   "execution_count": 11,
   "id": "7e49b0e3",
   "metadata": {},
   "outputs": [],
   "source": [
    "x = [[\"a\", \"b\", \"c\"],\n",
    " [\"d\", \"e\", \"f\"],\n",
    " [\"g\", \"h\", \"i\"]]"
   ]
  },
  {
   "cell_type": "code",
   "execution_count": 15,
   "id": "33a831a9",
   "metadata": {},
   "outputs": [
    {
     "name": "stdout",
     "output_type": "stream",
     "text": [
      "From above List of List x[2][0] will be:  g\n"
     ]
    }
   ],
   "source": [
    "print('From above List of List x[2][0] will be: ', x[2][0])"
   ]
  },
  {
   "cell_type": "code",
   "execution_count": 17,
   "id": "0d459504",
   "metadata": {},
   "outputs": [],
   "source": [
    "# For House Example: \n",
    "\n",
    "house= [['hallway', 11.25],\n",
    " ['kitchen', 18.0],\n",
    " ['living room', 20.0],\n",
    " ['bedroom', 10.75],\n",
    " ['bathroom', 9.5]]"
   ]
  },
  {
   "cell_type": "code",
   "execution_count": 21,
   "id": "c1070f3b",
   "metadata": {},
   "outputs": [
    {
     "name": "stdout",
     "output_type": "stream",
     "text": [
      "Area of Bathroom will be: 9.5 sq.mtr\n"
     ]
    }
   ],
   "source": [
    "print('Area of Bathroom will be: ' + str(house[-1][1]) +' sq.mtr')"
   ]
  }
 ],
 "metadata": {
  "kernelspec": {
   "display_name": "Python 3 (ipykernel)",
   "language": "python",
   "name": "python3"
  },
  "language_info": {
   "codemirror_mode": {
    "name": "ipython",
    "version": 3
   },
   "file_extension": ".py",
   "mimetype": "text/x-python",
   "name": "python",
   "nbconvert_exporter": "python",
   "pygments_lexer": "ipython3",
   "version": "3.9.13"
  }
 },
 "nbformat": 4,
 "nbformat_minor": 5
}
