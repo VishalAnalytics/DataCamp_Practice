{
 "cells": [
  {
   "cell_type": "markdown",
   "id": "d8e761ad",
   "metadata": {},
   "source": [
    "## V4_Python Function\n",
    "###    Familiar functions\n",
    "    Out of the box, Python offers a bunch of built-in functions to make your life as a data scientist easier. You already \n",
    "    know two such functions: print() and type(). \n",
    "    You've also used the functions str(), int(), bool() and float() to switch between data types. These are built-in \n",
    "    functions as well."
   ]
  },
  {
   "cell_type": "markdown",
   "id": "f7a58b5b",
   "metadata": {},
   "source": [
    "### Example 1: Familiar function Implementation\n",
    "    1. Use print() in combination with type() to print out the type of var1.\n",
    "    2. Use len() to get the length of the list var1. Wrap it in a print() call to directly print it out.\n",
    "    3. Use int() to convert var2 to an integer. Store the output as out2."
   ]
  },
  {
   "cell_type": "code",
   "execution_count": 4,
   "id": "725904bf",
   "metadata": {},
   "outputs": [
    {
     "name": "stdout",
     "output_type": "stream",
     "text": [
      "Type of Var1:  <class 'list'>\n",
      "Lenght of Var1:  4\n"
     ]
    }
   ],
   "source": [
    "# Create variables var1 and var2\n",
    "var1 = [1, 2, 3, 4]\n",
    "var2 = True\n",
    "\n",
    "# Print out type of var1\n",
    "print('Type of Var1: ',type(var1))\n",
    "\n",
    "# Print out length of var1\n",
    "print('Lenght of Var1: ',len(var1))\n",
    "\n",
    "# Convert var2 to an integer: out2\n",
    "out2=int(var2)"
   ]
  },
  {
   "cell_type": "markdown",
   "id": "581f2c41",
   "metadata": {},
   "source": [
    "### Example 2: Using 'Help!' in Python:\n",
    "    help(). In IPython specifically, you can also use ? before the function name.\n",
    "\n",
    "    To get help on the max() function, for example, you can use one of these calls:\n",
    "\n",
    "        help(max)\n",
    "        ?max"
   ]
  },
  {
   "cell_type": "code",
   "execution_count": 5,
   "id": "ce6dcb10",
   "metadata": {},
   "outputs": [
    {
     "name": "stdout",
     "output_type": "stream",
     "text": [
      "Help on built-in function pow in module builtins:\n",
      "\n",
      "pow(base, exp, mod=None)\n",
      "    Equivalent to base**exp with 2 arguments or base**exp % mod with 3 arguments\n",
      "    \n",
      "    Some types, such as ints, are able to use a more efficient algorithm when\n",
      "    invoked using the three argument form.\n",
      "\n"
     ]
    }
   ],
   "source": [
    "# pow() takes three arguments: base, exp, and mod. base and exp are required arguments, mod is an optional argument.\n",
    "help(pow)"
   ]
  },
  {
   "cell_type": "markdown",
   "id": "545160fd",
   "metadata": {},
   "source": [
    "### Example 3: Multiple arguments\n",
    "    In this exercise, you'll only have to specify iterable and reverse, not key. \n",
    "    The first input you pass to sorted() will be matched to the iterable argument, but what about the second input? \n",
    "    To tell Python you want to specify reverse without changing anything about key, you can use = to assign it a new value:\n",
    "        \n",
    "        sorted(____, reverse=____)\n",
    "        \n",
    "    1. Two lists have been created for you. Can you paste them together and sort them in descending order?\n",
    "\n",
    "Note: For now, we can understand an iterable as being any collection of objects, e.g., a List."
   ]
  },
  {
   "cell_type": "markdown",
   "id": "3663bb56",
   "metadata": {},
   "source": [
    "#### 1. Use + to merge the contents of first and second into a new list: full.\n",
    "#### 2. Call sorted() on full and specify the reverse argument to be True. Save the sorted list as full_sorted.\n",
    "#### 3. Finish off by printing out full_sorted."
   ]
  },
  {
   "cell_type": "code",
   "execution_count": 6,
   "id": "4cc10ec1",
   "metadata": {},
   "outputs": [
    {
     "name": "stdout",
     "output_type": "stream",
     "text": [
      "[20.0, 18.0, 11.25, 10.75, 9.5]\n"
     ]
    }
   ],
   "source": [
    "# Create lists first and second\n",
    "first = [11.25, 18.0, 20.0]\n",
    "second = [10.75, 9.50]\n",
    "\n",
    "# Paste together first and second: full\n",
    "full = first + second\n",
    "\n",
    "# Sort full in descending order: full_sorted\n",
    "full_sorted = sorted(full,reverse=True)\n",
    "\n",
    "# Print out full_sorted\n",
    "print(full_sorted)"
   ]
  },
  {
   "cell_type": "code",
   "execution_count": null,
   "id": "e96d42dd",
   "metadata": {},
   "outputs": [],
   "source": []
  }
 ],
 "metadata": {
  "kernelspec": {
   "display_name": "Python 3 (ipykernel)",
   "language": "python",
   "name": "python3"
  },
  "language_info": {
   "codemirror_mode": {
    "name": "ipython",
    "version": 3
   },
   "file_extension": ".py",
   "mimetype": "text/x-python",
   "name": "python",
   "nbconvert_exporter": "python",
   "pygments_lexer": "ipython3",
   "version": "3.9.13"
  }
 },
 "nbformat": 4,
 "nbformat_minor": 5
}
