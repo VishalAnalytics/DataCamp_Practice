{
 "cells": [
  {
   "cell_type": "markdown",
   "id": "f91a8039",
   "metadata": {},
   "source": [
    "## V5: Intro to Methods:\n",
    "    Methods are functions that belongs to Objects. Such as index(), count() etc.\n",
    "    \n",
    "#### Type 1: To get the number of people in fam LIST having height 1.45. We can use below\n",
    "         fam= ['Liz', 1.45, 'Sam', 1.58, 'Kuram', 1.66, 'Fraah', 1.45]\n",
    "         Sister='rina' \n",
    "                 \n",
    "         Ans:fam.count(1.45)\n",
    "    \n",
    "#### Type 2: To get the INDEX of 'Sam' in List 'fam' or you can get an INDEX of a particular word in a STRING as well.\n",
    "        fam.index('Sam')\n",
    "        Sister.index('a')\n",
    "        \n",
    "#### Type 3: To capitalize first letter of word.\n",
    "        sister='rina'\n",
    "        sister.capitalize()\n",
    "            \n",
    "            O/P : Rina\n",
    "          \n",
    "#### Type 4: Replace a word in a string but NOT IN LIST.\n",
    "        sister.replace('i','avi')\n",
    "      O/P: Ravina\n",
    "      \n",
    "#### Type 5: Append a LIST.\n",
    "        You can use append() method to add the objects to LIST.\n",
    "        Office=['Vishal, 'Ravi']\n",
    "        Office.append('Ram')\n",
    "        Office\n",
    "        O/P: ['Vishal', 'Ravi', 'Ram']"
   ]
  },
  {
   "cell_type": "markdown",
   "id": "abbb8011",
   "metadata": {},
   "source": [
    "### Example 1: String Methods\n",
    "    Strings come with a bunch of methods. To discover them in more detail, you can always type help(str).\n",
    "    \n",
    "    1. Use the upper() method on place and store the result in place_up. Use the syntax for calling methods that you learned in the previous video.\n",
    "    2. Print out place and place_up. Did both change?\n",
    "    3. Print out the number of o's on the variable place by calling count() on place and passing the letter 'o' as an input to the method. We're talking about the variable place, not the word \"place\"!\n",
    "    "
   ]
  },
  {
   "cell_type": "code",
   "execution_count": 1,
   "id": "cd3e8098",
   "metadata": {},
   "outputs": [
    {
     "name": "stdout",
     "output_type": "stream",
     "text": [
      "Output for Place variable:  poolhouse\n",
      "\n",
      "Output for Place_UP variable:  POOLHOUSE\n",
      "\n",
      "Number of 'o' in Variable 'Place': 0\n",
      "\n",
      "Output for place_up variable:  poolhouse\n",
      "\n",
      "Number of 'o' in Variable 'Place_UP': 0\n"
     ]
    }
   ],
   "source": [
    "# string to experiment with: place\n",
    "place = \"poolhouse\"\n",
    "\n",
    "#Using upper() method to make it in Upper Case:\n",
    "place_up = place.upper()\n",
    "    \n",
    "print('Output for Place variable: ',place)\n",
    "print('\\nOutput for Place_UP variable: ',place_up)\n",
    "print('\\nNumber of \\'o\\' in Variable \\'Place\\':' , place_up.count('o'))\n",
    "\n",
    "print('\\nOutput for place_up variable: ',place)\n",
    "print('\\nNumber of \\'o\\' in Variable \\'Place_UP\\':' , place_up.count('o'))"
   ]
  },
  {
   "cell_type": "markdown",
   "id": "64e4380a",
   "metadata": {},
   "source": [
    "### Example 2: List Methods\n",
    "Strings are not the only Python types that have methods associated with them. Lists, floats, integers and booleans are also types that come packaged with a bunch of useful methods. In this exercise, you'll be experimenting with:\n",
    "\n",
    "    index(), to get the index of the first element of a list that matches its input and\n",
    "    count(), to get the number of times an element appears in a list.\n",
    "You'll be working on the list with the area of different parts of a house: areas.\n",
    "\n",
    "#### Practical: \n",
    "    1. Use the index() method to get the index of the element in areas that is equal to 20.0. Print out this index.\n",
    "    2. Call count() on areas to find out how many times 9.50 appears in the list. \n",
    "    Again, simply print out this number."
   ]
  },
  {
   "cell_type": "code",
   "execution_count": 7,
   "id": "36364f10",
   "metadata": {},
   "outputs": [
    {
     "name": "stdout",
     "output_type": "stream",
     "text": [
      "Use of \"index()\" method on a List \"areas\" is:  2\n",
      "\n",
      "Using \"count()\" method on list to find the number of occurence of 9.50 in list:  1\n"
     ]
    }
   ],
   "source": [
    "# Create list areas\n",
    "areas = [11.25, 18.0, 20.0, 10.75, 9.50]\n",
    "\n",
    "#Using index() method to find the first element of a list that matched it: Here 20.0 from areas list:\n",
    "print( 'Use of \"index()\" method on a List \"areas\" is: ', areas.index(20.0))\n",
    "\n",
    "# Using count() mehtod on areas list to find the number of occurence of 9.50 in list:\n",
    "print('\\nUsing \"count()\" method on list to find the number of occurence of 9.50 in list: ', areas.count(9.50))"
   ]
  },
  {
   "cell_type": "markdown",
   "id": "5786e561",
   "metadata": {},
   "source": [
    "### Example 3: List Methods (2)\n",
    "    Most list methods will change the list they're called on. \n",
    "    Examples are:\n",
    "        append(), that adds an element to the list it is called on,\n",
    "        remove(), that removes the first element of a list that matches the input, and\n",
    "        reverse(), that reverses the order of the elements in the list it is called on.\n",
    "    \n",
    "    You'll be working on the list with the area of different parts of the house: areas.\n",
    "\n",
    "#### Practical: \n",
    "     1. Use append() twice to add the size of the poolhouse and the garage again: 24.5 and 15.45, respectively. Make sure to add them in this order.\n",
    "    2. Print out areas\n",
    "    3. Use the reverse() method to reverse the order of the elements in areas.\n",
    "    \n",
    "    Print out areas once more.\n",
    "    \n"
   ]
  },
  {
   "cell_type": "code",
   "execution_count": 12,
   "id": "4c393e1a",
   "metadata": {},
   "outputs": [
    {
     "name": "stdout",
     "output_type": "stream",
     "text": [
      "Printing List \"areas\" after appending:  [11.25, 18.0, 20.0, 10.75, 9.5, 24.5, 15.45]\n",
      "\n",
      "Reversing a List \"areas\" [15.45, 24.5, 9.5, 10.75, 20.0, 18.0, 11.25]\n"
     ]
    }
   ],
   "source": [
    "# Create list areas\n",
    "areas = [11.25, 18.0, 20.0, 10.75, 9.50]\n",
    "\n",
    "# Using append() method to add size of Poolhouse & Garage having values 24.5 & 15.45:\n",
    "areas.append(24.5) ; areas.append(15.45)\n",
    "\n",
    "print('Printing List \"areas\" after appending: ', areas)\n",
    "\n",
    "# Using reverse() method to reverse the order of elements in List areas:\n",
    "areas.reverse()\n",
    "\n",
    "print('\\nReversing a List \"areas\"', areas)"
   ]
  },
  {
   "cell_type": "code",
   "execution_count": null,
   "id": "af3192db",
   "metadata": {},
   "outputs": [],
   "source": []
  }
 ],
 "metadata": {
  "kernelspec": {
   "display_name": "Python 3 (ipykernel)",
   "language": "python",
   "name": "python3"
  },
  "language_info": {
   "codemirror_mode": {
    "name": "ipython",
    "version": 3
   },
   "file_extension": ".py",
   "mimetype": "text/x-python",
   "name": "python",
   "nbconvert_exporter": "python",
   "pygments_lexer": "ipython3",
   "version": "3.9.13"
  }
 },
 "nbformat": 4,
 "nbformat_minor": 5
}
