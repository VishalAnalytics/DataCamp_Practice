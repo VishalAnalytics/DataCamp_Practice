{
 "cells": [
  {
   "cell_type": "markdown",
   "id": "7f755310",
   "metadata": {},
   "source": [
    "# V6_Python_Packages\n",
    "\n",
    "   ## Import package\n",
    "        As a data scientist, some notions of geometry never hurt. Let's refresh some of the basics.\n",
    "\n",
    "        \n",
    "    For a fancy clustering algorithm, you want to find the circumference and area of a circle. When the radius of the circle is r, you can calculate and as:\n",
    "    To use the constant pi, you'll need the math package. A variable r is already coded in the script. Fill in the code to calculate C and A and see how the print() functions create some nice printouts."
   ]
  },
  {
   "cell_type": "markdown",
   "id": "18bf3391",
   "metadata": {},
   "source": [
    "### Example 1: Import Packages:\n",
    "    1. Import the math package. Now you can access the constant pi with math.pi.\n",
    "    2. Calculate the circumference of the circle and store it in C.\n",
    "    3. Calculate the area of the circle and store it in A."
   ]
  },
  {
   "cell_type": "code",
   "execution_count": 1,
   "id": "54aecad5",
   "metadata": {},
   "outputs": [
    {
     "name": "stdout",
     "output_type": "stream",
     "text": [
      "Circumference: 2.701769682087222\n",
      "Area: 0.5808804816487527\n"
     ]
    }
   ],
   "source": [
    "\n",
    "# Definition of radius\n",
    "r = 0.43\n",
    "\n",
    "# Import the math package\n",
    "import math \n",
    "\n",
    "# Calculate C\n",
    "C = math.pi*2*r\n",
    "\n",
    "# Calculate A\n",
    "A = math.pi*r**2    \n",
    "\n",
    "# Build printout\n",
    "print(\"Circumference: \" + str(C))\n",
    "print(\"Area: \" + str(A))"
   ]
  },
  {
   "cell_type": "markdown",
   "id": "908476a3",
   "metadata": {},
   "source": [
    "### Example 2: Selective import\n",
    "    General imports, like import math, make all functionality from the math package available to you. However, if you decide to only use a specific part of a package, you can always make your import more selective:\n",
    "\n",
    "    from math import pi\n",
    "    Let's say the Moon's orbit around planet Earth is a perfect circle, with a radius r (in km) that is defined in the script.\n",
    "#### Steps to be performed: \n",
    "    1. Perform a selective import from the math package where you only import the radians function.\n",
    "    2. Calculate the distance travelled by the Moon over 12 degrees of its orbit. Assign the result to dist. You can calculate this as r * phi, where r is the radius and phi is the angle in radians. To convert an angle in degrees to an angle in radians, use the radians() function, which you just imported.\n",
    "    3. Print out dist.       "
   ]
  },
  {
   "cell_type": "code",
   "execution_count": 2,
   "id": "491480a5",
   "metadata": {},
   "outputs": [
    {
     "name": "stdout",
     "output_type": "stream",
     "text": [
      "40317.10572106901\n"
     ]
    }
   ],
   "source": [
    "# Definition of radius\n",
    "r = 192500\n",
    "\n",
    "# Import radians function of math package\n",
    "from math import radians\n",
    "\n",
    "# Travel distance of Moon over 12 degrees. Store in dist.\n",
    "dist = r*radians(12)\n",
    "\n",
    "# Print out dist\n",
    "print(dist)"
   ]
  },
  {
   "cell_type": "markdown",
   "id": "120d2f6c",
   "metadata": {},
   "source": [
    "### Example 3: Different ways of importing\n",
    "    There are several ways to import packages and modules into Python. Depending on the import call, you'll have to use different Python code.\n",
    "\n",
    "    Suppose you want to use the function inv(), which is in the linalg subpackage of the scipy package. You want to be able to use this function as follows:\n",
    "\n",
    "        my_inv([[1,2], [3,4]])\n",
    "    Which import statement will you need in order to run the above code without an error?\n",
    "    \n",
    "    \n",
    "#### Required statement is: \n",
    "    from scipy.linalg import inv as my_inv"
   ]
  },
  {
   "cell_type": "code",
   "execution_count": null,
   "id": "b8296997",
   "metadata": {},
   "outputs": [],
   "source": []
  }
 ],
 "metadata": {
  "kernelspec": {
   "display_name": "Python 3 (ipykernel)",
   "language": "python",
   "name": "python3"
  },
  "language_info": {
   "codemirror_mode": {
    "name": "ipython",
    "version": 3
   },
   "file_extension": ".py",
   "mimetype": "text/x-python",
   "name": "python",
   "nbconvert_exporter": "python",
   "pygments_lexer": "ipython3",
   "version": "3.9.13"
  }
 },
 "nbformat": 4,
 "nbformat_minor": 5
}
