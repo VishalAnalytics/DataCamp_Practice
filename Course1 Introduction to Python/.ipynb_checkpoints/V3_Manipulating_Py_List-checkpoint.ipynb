{
 "cells": [
  {
   "cell_type": "markdown",
   "id": "f7223cf4",
   "metadata": {},
   "source": [
    "# V3: Manipulation in List\n",
    "    Lists in python doesn't hold the 'values' of different types, rather they hold the 'address' of these 'values'...\n",
    "    \n",
    "    If: X1 =[1,2,3]\n",
    "            \n",
    "        * Now if we create another list by following methond then the second list will also hold the address of that values too.\n",
    "                Y1 = X1 \n",
    "        * Now if we change the second element in list 'X1' then it will also be reflected in list 'Y1'.\n",
    "                X1[1]=1\n",
    "                Y1=[1,1,3]\n",
    "               \n",
    "    * Therefor we need to have other methods to create a duplicate list from another list. So, that change in one list will not affect the other list's result.\n",
    "                Y2=X1[:] OR\n",
    "                Y2=list(X1)\n",
    "    \n",
    "## To Delete from LIST:\n",
    "        del(X1[1])\n",
    "        \n",
    "## To Add to a LIST:\n",
    "        X3= X1 + ['Vishal', 122]\n",
    "        \n",
    "                "
   ]
  },
  {
   "cell_type": "code",
   "execution_count": 1,
   "id": "dbee204d",
   "metadata": {},
   "outputs": [],
   "source": [
    "#### Let's do it now:\n",
    "\n",
    "X1=[1,2,3]"
   ]
  },
  {
   "cell_type": "code",
   "execution_count": 2,
   "id": "09ba7416",
   "metadata": {},
   "outputs": [
    {
     "name": "stdout",
     "output_type": "stream",
     "text": [
      "[1, 2, 3]\n"
     ]
    }
   ],
   "source": [
    "print(X1)"
   ]
  },
  {
   "cell_type": "markdown",
   "id": "03b61239",
   "metadata": {},
   "source": [
    "### Type 1: Add values/list to a list."
   ]
  },
  {
   "cell_type": "code",
   "execution_count": 3,
   "id": "b16624d0",
   "metadata": {},
   "outputs": [],
   "source": [
    "## Adding a list having two values\n",
    "\n",
    "X1=X1+ ['Vishal', 1212]"
   ]
  },
  {
   "cell_type": "code",
   "execution_count": 4,
   "id": "6a5bdc39",
   "metadata": {},
   "outputs": [
    {
     "name": "stdout",
     "output_type": "stream",
     "text": [
      "[1, 2, 3, 'Vishal', 1212]\n"
     ]
    }
   ],
   "source": [
    "print(X1)"
   ]
  },
  {
   "cell_type": "markdown",
   "id": "6727d65d",
   "metadata": {},
   "source": [
    "### Type 2 Delete Values from a List"
   ]
  },
  {
   "cell_type": "code",
   "execution_count": 5,
   "id": "07490af1",
   "metadata": {},
   "outputs": [
    {
     "name": "stdout",
     "output_type": "stream",
     "text": [
      "[1, 2, 3, 'Vishal']\n"
     ]
    }
   ],
   "source": [
    "## Deleting -1 values from List\n",
    "del(X1[-1])\n",
    "\n",
    "print(X1)"
   ]
  },
  {
   "cell_type": "markdown",
   "id": "cfb14958",
   "metadata": {},
   "source": [
    "## Example 1: Replace list elements\n",
    "    1. Update the area of the bathroom area to be 10.50 square meters instead of 9.50.\n",
    "    2. Make the areas list more trendy! Change \"living room\" to \"chill zone\"."
   ]
  },
  {
   "cell_type": "code",
   "execution_count": 6,
   "id": "f9e4ac1b",
   "metadata": {},
   "outputs": [
    {
     "name": "stdout",
     "output_type": "stream",
     "text": [
      "['hallway', 11.25, 'kitchen', 18.0, 'chill zone', 20.0, 'bedroom', 10.75, 'bathroom', 10.5]\n"
     ]
    }
   ],
   "source": [
    "# Create the areas list\n",
    "areas = [\"hallway\", 11.25, \"kitchen\", 18.0, \"living room\", 20.0, \"bedroom\", 10.75, \"bathroom\", 9.50]\n",
    "\n",
    "# Correct the bathroom area\n",
    "areas[-1]=10.50\n",
    "\n",
    "# Change \"living room\" to \"chill zone\"\n",
    "areas[4]=\"chill zone\"\n",
    "print(areas)"
   ]
  },
  {
   "cell_type": "markdown",
   "id": "58e58e86",
   "metadata": {},
   "source": [
    "## Example 2: Extend a list\n",
    "      1. Use the + operator to paste the list [\"poolhouse\", 24.5] to the end of the areas list. Store the resulting list as              areas_1.\n",
    "      2. Further extend areas_1 by adding data on your garage. Add the string \"garage\" and float 15.45. Name the resulting \n",
    "         list areas_2."
   ]
  },
  {
   "cell_type": "code",
   "execution_count": 8,
   "id": "821bfa58",
   "metadata": {},
   "outputs": [
    {
     "name": "stdout",
     "output_type": "stream",
     "text": [
      "['hallway', 11.25, 'kitchen', 18.0, 'chill zone', 20.0, 'bedroom', 10.75, 'bathroom', 10.5]\n",
      "['hallway', 11.25, 'kitchen', 18.0, 'chill zone', 20.0, 'bedroom', 10.75, 'bathroom', 10.5, 'poolhouse', 24.5]\n",
      "['hallway', 11.25, 'kitchen', 18.0, 'chill zone', 20.0, 'bedroom', 10.75, 'bathroom', 10.5, 'poolhouse', 24.5, 'garage', 15.45]\n"
     ]
    }
   ],
   "source": [
    "# Create the areas list and make some changes\n",
    "areas = [\"hallway\", 11.25, \"kitchen\", 18.0, \"chill zone\", 20.0,\n",
    "         \"bedroom\", 10.75, \"bathroom\", 10.50]\n",
    "\n",
    "# Add poolhouse data to areas, new list is areas_1\n",
    "areas_1 = areas + [\"poolhouse\",24.5]\n",
    "\n",
    "# Add garage data to areas_1, new list is areas_2\n",
    "areas_2= areas_1 + [\"garage\",15.45]\n",
    "print(areas)\n",
    "print(areas_1)\n",
    "print(areas_2)"
   ]
  },
  {
   "cell_type": "markdown",
   "id": "e2dd42b6",
   "metadata": {},
   "source": [
    "## Example 3: Delete list elements\n",
    "    Finally, you can also remove elements from your list. You can do this with the del statement:\n",
    "\n",
    "    x = [\"a\", \"b\", \"c\", \"d\"]\n",
    "    del(x[1])\n",
    "\n",
    "    Pay attention here: as soon as you remove an element from a list, the indexes of the elements that come after the deleted element all change!"
   ]
  },
  {
   "cell_type": "code",
   "execution_count": 15,
   "id": "20a819aa",
   "metadata": {},
   "outputs": [
    {
     "name": "stdout",
     "output_type": "stream",
     "text": [
      "Area of House:  ['hallway', 11.25, 'kitchen', 18.0, 'chill zone', 20.0, 'bedroom', 10.75, 'bathroom', 10.5, 'poolhouse', 24.5, 'garage', 15.45]\n",
      "['hallway', 11.25, 'kitchen', 18.0, 'chill zone', 20.0, 'bedroom', 10.75, 'bathroom', 10.5, 'garage', 15.45]\n"
     ]
    }
   ],
   "source": [
    "## Create a List\n",
    "areas = [\"hallway\", 11.25, \"kitchen\", 18.0,\n",
    "        \"chill zone\", 20.0, \"bedroom\", 10.75,\n",
    "         \"bathroom\", 10.50, \"poolhouse\", 24.5,\n",
    "         \"garage\", 15.45]\n",
    "print('Area of House: ',areas)\n",
    "## There was a mistake! The amount you won with the lottery is not that big after all and it \n",
    "## looks like the poolhouse isn't going to happen. You decide to remove the corresponding \n",
    "## string and float from the areas list.\n",
    "\n",
    "# Using either of below you can delete it:\n",
    "    #del(areas[-4:-2]) \n",
    "    ## Or \n",
    "del(areas[-3]) ; del(areas[-3])\n",
    "print(areas)"
   ]
  },
  {
   "cell_type": "markdown",
   "id": "d7c8eb40",
   "metadata": {},
   "source": [
    "## Example 4: Inner workings of lists\n",
    "    The Python code in the script already creates a list with the name areas and a copy named areas_copy. Next, the first element in the areas_copy list is changed and the areas list is printed out. If you hit Run Code you'll see that, although you've changed areas_copy, the change also takes effect in the areas list. That's because areas and areas_copy point to the same list.\n",
    "\n",
    "    If you want to prevent changes in areas_copy from also taking effect in areas, you'll have to do a more explicit copy of the areas list. You can do this with list() or by using [:]."
   ]
  },
  {
   "cell_type": "code",
   "execution_count": 18,
   "id": "860d21f3",
   "metadata": {},
   "outputs": [
    {
     "name": "stdout",
     "output_type": "stream",
     "text": [
      "Area_Copy:  [11.25, 18.0, 20.0, 10.75, 9.5]\n",
      "Updated Area_Copy:  [5.0, 18.0, 20.0, 10.75, 9.5]\n",
      "Areas:  [11.25, 18.0, 20.0, 10.75, 9.5]\n"
     ]
    }
   ],
   "source": [
    "## Change the second command, that creates the variable areas_copy, such that areas_copy is an explicit copy of areas. \n",
    "## After your edit, changes made to areas_copy shouldn't affect areas. Submit the answer to check this.\n",
    "\n",
    "# Create list areas\n",
    "areas = [11.25, 18.0, 20.0, 10.75, 9.50]\n",
    "\n",
    "# Create areas_copy\n",
    "areas_copy = list(areas)\n",
    "print('Area_Copy: ', areas_copy)\n",
    "\n",
    "# Change areas_copy\n",
    "areas_copy[0] = 5.0\n",
    "print('Updated Area_Copy: ', areas_copy)\n",
    "\n",
    "# Print areas\n",
    "print('Areas: ',areas)"
   ]
  },
  {
   "cell_type": "code",
   "execution_count": null,
   "id": "a1667080",
   "metadata": {},
   "outputs": [],
   "source": []
  }
 ],
 "metadata": {
  "kernelspec": {
   "display_name": "Python 3 (ipykernel)",
   "language": "python",
   "name": "python3"
  },
  "language_info": {
   "codemirror_mode": {
    "name": "ipython",
    "version": 3
   },
   "file_extension": ".py",
   "mimetype": "text/x-python",
   "name": "python",
   "nbconvert_exporter": "python",
   "pygments_lexer": "ipython3",
   "version": "3.9.13"
  }
 },
 "nbformat": 4,
 "nbformat_minor": 5
}
