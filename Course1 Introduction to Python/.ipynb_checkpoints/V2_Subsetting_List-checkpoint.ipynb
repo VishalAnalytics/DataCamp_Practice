{
 "cells": [
  {
   "cell_type": "markdown",
   "id": "f4c2909c",
   "metadata": {},
   "source": [
    "### Subsetting Python List\n",
    "    1. Python List: List[First:Last]\n",
    "            * First Index: It is inclusive. It means that it will be included in result\n",
    "            * Last Index:  It is exclusive. It means that item on this index will not be included in final result\n",
    "            \n",
    "    2. List_Ex2[:Last]\n",
    "            * Here as first index is not defined than it will be the by default start with very first item of list.\n",
    "            * Last Index will be same as above.\n",
    "    \n",
    "    3. List_Ex3[:]\n",
    "            * Here nothing is mentioned so, it will fetch all the items present in list.\n",
    "            \n",
    "    4. List_Ex4[:-2]\n",
    "            * Here it will start with first index (zero)\n",
    "            * Here it will count -1 as first item from right side and move to left side. So, in this way it will neglect the                   very first element from right and will pick upto second last element in LIST.\n",
    "   "
   ]
  },
  {
   "cell_type": "code",
   "execution_count": 2,
   "id": "f0d5238d",
   "metadata": {},
   "outputs": [
    {
     "name": "stdout",
     "output_type": "stream",
     "text": [
      "['Vinod', 1.76, 'Vishal', 1.74, 'Raj Kumari', 1.54, 'Bhanu', 1.57, 'Sonika', 1.59, 'Vihan', 0.7]\n"
     ]
    }
   ],
   "source": [
    "family = ['Vinod', 1.76, 'Vishal', 1.74,  'Raj Kumari', 1.54, 'Bhanu',1.57, 'Sonika', 1.59, 'Vihan', 0.7]\n",
    "print(family)\n"
   ]
  },
  {
   "cell_type": "code",
   "execution_count": 3,
   "id": "6d5f6985",
   "metadata": {},
   "outputs": [
    {
     "data": {
      "text/plain": [
       "['Vishal', 1.74]"
      ]
     },
     "execution_count": 3,
     "metadata": {},
     "output_type": "execute_result"
    }
   ],
   "source": [
    "family[2:4]\n"
   ]
  },
  {
   "cell_type": "code",
   "execution_count": null,
   "id": "383bc94e",
   "metadata": {},
   "outputs": [],
   "source": []
  }
 ],
 "metadata": {
  "kernelspec": {
   "display_name": "Python 3 (ipykernel)",
   "language": "python",
   "name": "python3"
  },
  "language_info": {
   "codemirror_mode": {
    "name": "ipython",
    "version": 3
   },
   "file_extension": ".py",
   "mimetype": "text/x-python",
   "name": "python",
   "nbconvert_exporter": "python",
   "pygments_lexer": "ipython3",
   "version": "3.9.13"
  }
 },
 "nbformat": 4,
 "nbformat_minor": 5
}
