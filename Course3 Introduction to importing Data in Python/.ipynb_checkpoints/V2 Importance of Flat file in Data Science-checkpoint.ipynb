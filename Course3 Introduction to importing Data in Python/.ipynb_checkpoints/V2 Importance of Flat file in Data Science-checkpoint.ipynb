{
 "cells": [
  {
   "cell_type": "markdown",
   "id": "538b65ad",
   "metadata": {},
   "source": [
    "# V2: Importance of Flat file in Data Science.\n",
    "\n",
    "* It's each row is unque record.\n",
    "\n",
    "#### FLAT FILES: \n",
    "   * Flat files are basic text files containing records, that is, table data, without structured relationships.\n",
    "   * This is in contrast with relational databases, for example, in which columns of distinct tables can be related.\n",
    "\n",
    "### Flat Files Extension:\n",
    "1. .csv - comma seperated values\n",
    "2. .txt - text files\n",
    "3. comma, tabs - delimiters\n",
    "\n",
    "## How do you import flat files:\n",
    "1. If they consist entirely of numbers and we want to store them as numpy array, we could use NumPy.\n",
    "2. If instead, we want to store the data in dataframe the we will use Pandas.\n",
    "\n",
    "### Here you will learn:\n",
    "1. Import flat files that are with numerical data.\n",
    "2. Import flat files that contains numerical & string data.\n",
    "\n",
    "    "
   ]
  },
  {
   "cell_type": "markdown",
   "id": "a310a34e",
   "metadata": {},
   "source": [
    "## Example 1: Pop quiz: examples of flat files\n",
    "You're now well-versed in importing text files and you're about to become a wiz at importing flat files. But can you remember exactly what a flat file is? Test your knowledge by answering the following question: \n",
    "* Which of these file types below is NOT an example of a flat file?\n",
    "\n",
    "### Ans: A relational database\n"
   ]
  },
  {
   "cell_type": "markdown",
   "id": "2b47482a",
   "metadata": {},
   "source": [
    "## Example 2: Pop quiz: what exactly are flat files?\n",
    "Which of the following statements about flat files is incorrect from below:\n",
    "1. Flat files consist of rows and each row is called a record.\n",
    "2. Flat files consist of multiple tables with structured relationships between the tables.\n",
    "3. A record in a flat file is composed of fields or attributes, each of which contains at most one item of information.\n",
    "4. Flat files are pervasive in data science.\n",
    "\n",
    "### Ans: 2: because flat files are not having multiple table data in one csv/ flat files. "
   ]
  },
  {
   "cell_type": "markdown",
   "id": "8669af1d",
   "metadata": {},
   "source": [
    "## Example 3: Why we like flat files and the Zen of Python\n",
    "In PythonLand, there are currently hundreds of Python Enhancement Proposals, commonly referred to as PEPs. PEP8, for example, is a standard style guide for Python, written by our sensei Guido van Rossum himself. It is the basis for how we here at DataCamp ask our instructors to style their code. Another one of my favorites is PEP20, commonly called the Zen of Python. Its abstract is as follows:\n",
    "\n",
    "Long time Pythoneer Tim Peters succinctly channels the BDFL's guiding principles for Python's design into 20 aphorisms, only 19 of which have been written down.\n",
    "\n",
    "If you don't know what the acronym BDFL stands for, I suggest that you look here. You can print the Zen of Python in your shell by typing import this into it! You're going to do this now and the 5th aphorism (line) will say something of particular interest.\n",
    "\n",
    "The question you need to answer is:\n",
    "\n",
    "### What is the 5th aphorism of the Zen of Python?\n",
    "1. Flat is better than nested.\n",
    "2. Flat files are essential for data science.\n",
    "3. The world is representable as a flat file.\n",
    "4. Flatness is in the eye of the beholder.\n",
    "\n",
    "### Ans: 1: using--->  import this command"
   ]
  },
  {
   "cell_type": "code",
   "execution_count": null,
   "id": "960eabfd",
   "metadata": {},
   "outputs": [],
   "source": []
  }
 ],
 "metadata": {
  "kernelspec": {
   "display_name": "Python 3 (ipykernel)",
   "language": "python",
   "name": "python3"
  },
  "language_info": {
   "codemirror_mode": {
    "name": "ipython",
    "version": 3
   },
   "file_extension": ".py",
   "mimetype": "text/x-python",
   "name": "python",
   "nbconvert_exporter": "python",
   "pygments_lexer": "ipython3",
   "version": "3.9.13"
  }
 },
 "nbformat": 4,
 "nbformat_minor": 5
}
