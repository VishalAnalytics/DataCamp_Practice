{
 "cells": [
  {
   "cell_type": "markdown",
   "id": "293aea14",
   "metadata": {},
   "source": [
    "# V1: Here we will be learning how to import different types of data into python. \n",
    "# How we can read it and write anything to a file.\n",
    "\n",
    "## Import Data:\n",
    "1. Flat files e.g. .txts, .csvs\n",
    "2. Files from other softwares such as Excel Spreadsheets, SAS, Stats and MATLAB files.\n",
    "3. Relational Databases such as SQLite & PostgreSQL.\n",
    "\n",
    "## Types of Flat files:\n",
    "1. Plain text files such as essay or poem file.\n",
    "2. Table data: These files can contain data in tabular form. These can be of .csv extension.\n",
    "\n",
    "\n",
    "## How to READ Text from files:\n",
    "    \n",
    "    filename = 'flamingo_textbook.txt'\n",
    "    \n",
    "    file = open(filename, mode = 'r') # 'r' is to read, it could be 'w' for write operations.\n",
    "    \n",
    "    text = file.read()\n",
    "    \n",
    "    file.close()\n",
    "\n",
    "    print(text)\n",
    "    \n",
    "## with statement use for reading files:\n",
    "\n",
    "* We can avoid to close the connection to file after reading it by using a 'with' statement. \n",
    "* This allow us to create a context in which you can execute commands with the file open.\n",
    "* Once out of this clause/context the file is no longer open and, for this reason, with is called a CONTEXT MANAGER.\n",
    "* What we are doing here is called 'binding' a variable in the context manager construct. While within this construct, the variable file will be bound to open( filename, 'r')\n",
    "* Best practice is to use the 'with' statement as you never have to concern yourself with closing the file again.\n",
    "\n",
    "        with open('flamingo_textbook.txt', 'r') as file:\n",
    "            print(file.read() )\n",
    "            \n",
    "### In this excercise we will learn:\n",
    "1. Print file to console\n",
    "2. Print specific lines to console\n",
    "3. Discuss flat files.\n",
    "\n"
   ]
  },
  {
   "cell_type": "markdown",
   "id": "d3538c01",
   "metadata": {},
   "source": [
    "## Example 1: Exploring your working directory\n",
    "In order to import data into Python, you should first have an idea of what files are in your working directory.\n",
    "\n",
    "IPython, which is running on DataCamp's servers, has a bunch of cool commands, including its magic commands. For example, starting a line with ! gives you complete system shell access. This means that the IPython magic command ! ls will display the contents of your current directory. Your task is to use the IPython magic command ! ls to check out the contents of your current directory and answer the following question: which of the following files is in your working directory?\n",
    "\n",
    "### Ans:  \n"
   ]
  },
  {
   "cell_type": "code",
   "execution_count": 17,
   "id": "a832bf06",
   "metadata": {},
   "outputs": [
    {
     "name": "stdout",
     "output_type": "stream",
     "text": [
      " Volume in drive C is Windows-SSD\n",
      " Volume Serial Number is C610-D5C6\n",
      "\n",
      " Directory of C:\\Users\\visha\\DataCamp_Practice\\Course 3 Introduction to importing Data in Python\n",
      "\n",
      "16-04-2023  17:47    <DIR>          .\n",
      "16-04-2023  16:57    <DIR>          ..\n",
      "16-04-2023  16:57    <DIR>          .ipynb_checkpoints\n",
      "16-04-2023  17:47             1,133 moby_dick.txt\n",
      "16-04-2023  17:46             8,164 V1 Welcom to Course.ipynb\n",
      "               2 File(s)          9,297 bytes\n",
      "               3 Dir(s)  298,813,370,368 bytes free\n"
     ]
    }
   ],
   "source": [
    "ls\n"
   ]
  },
  {
   "cell_type": "markdown",
   "id": "219b9454",
   "metadata": {},
   "source": [
    "## Example 2: Importing entire text files\n",
    "In this exercise, you'll be working with the file moby_dick.txt. It is a text file that contains the opening sentences of Moby Dick, one of the great American novels! Here you'll get experience opening a text file, printing its contents to the shell and, finally, closing it.\n",
    "\n",
    "### Steps:\n",
    "1. Open the file moby_dick.txt as read-only and store it in the variable file. Make sure to pass the filename enclosed in quotation marks ''.\n",
    "2. Print the contents of the file to the shell using the print() function. As Hugo showed in the video, you'll need to apply the method read() to the object file.\n",
    "3. Check whether the file is closed by executing print(file.closed).\n",
    "4. Close the file using the close() method.\n",
    "5. Check again that the file is closed as you did above.\n",
    "\n"
   ]
  },
  {
   "cell_type": "code",
   "execution_count": 14,
   "id": "d6b96f16",
   "metadata": {},
   "outputs": [
    {
     "name": "stdout",
     "output_type": "stream",
     "text": [
      "Checking if file is closed or not:  False \n",
      "\n",
      "\n",
      "\n",
      "CHAPTER 1. Loomings.\n",
      "\n",
      "Call me Ishmael. Some years ago--never mind how long precisely--having\n",
      "little or no money in my purse, and nothing particular to interest me on\n",
      "shore, I thought I would sail about a little and see the watery part of\n",
      "the world. It is a way I have of driving off the spleen and regulating\n",
      "the circulation. Whenever I find myself growing grim about the mouth;\n",
      "whenever it is a damp, drizzly November in my soul; whenever I find\n",
      "myself involuntarily pausing before coffin warehouses, and bringing up\n",
      "the rear of every funeral I meet; and especially whenever my hypos get\n",
      "such an upper hand of me, that it requires a strong moral principle to\n",
      "prevent me from deliberately stepping into the street, and methodically\n",
      "knocking people's hats off--then, I account it high time to get to sea\n",
      "as soon as I can. This is my substitute for pistol and ball. With a\n",
      "philosophical flourish Cato throws himself upon his sword; I quietly\n",
      "take to the ship. There is nothing surprising in this. If they but knew\n",
      "it, almost all men in their degree, some time or other, cherish very\n",
      "nearly the same feelings towards the ocean with me.\n",
      "\n",
      "\n",
      "\n",
      "\n",
      "Checking if file is closed or not:  True\n"
     ]
    }
   ],
   "source": [
    "file = open('moby_dick.txt', 'r')\n",
    "\n",
    "text = file.read()\n",
    "\n",
    "print('Checking if file is closed or not: ', file.closed, '\\n\\n\\n') \n",
    "\n",
    "file.close()\n",
    "\n",
    "print(text)\n",
    "\n",
    "print('\\n\\n\\nChecking if file is closed or not: ', file.closed) "
   ]
  },
  {
   "cell_type": "markdown",
   "id": "2db2c9ef",
   "metadata": {},
   "source": [
    "## Example 3: Importing text files line by line\n",
    "For large files, we may not want to print all of their content to the shell: you may wish to print only the first few lines. Enter the readline() method, which allows you to do this. When a file called file is open, you can print out the first line by executing file.readline(). If you execute the same command again, the second line will print, and so on.\n",
    "\n",
    "In the introductory video, Hugo also introduced the concept of a context manager. He showed that you can bind a variable file by using a context manager construct:\n",
    "\n",
    "    with open('huck_finn.txt') as file:\n",
    "\n",
    "While still within this construct, the variable file will be bound to open('huck_finn.txt'); thus, to print the file to the shell, all the code you need to execute is:\n",
    "\n",
    "    with open('huck_finn.txt') as file:\n",
    "        print(file.readline())\n",
    "\n",
    "You'll now use these tools to print the first few lines of moby_dick.txt!\n",
    "\n",
    "### Steps: \n",
    "1. Open moby_dick.txt using the with context manager and the variable file.\n",
    "2. Print the first three lines of the file to the shell by using readline() three times within the context manager.\n"
   ]
  },
  {
   "cell_type": "code",
   "execution_count": 16,
   "id": "b064e35e",
   "metadata": {},
   "outputs": [
    {
     "name": "stdout",
     "output_type": "stream",
     "text": [
      "CHAPTER 1. Loomings.\n",
      "\n",
      "\n",
      "\n",
      "Call me Ishmael. Some years ago--never mind how long precisely--having\n",
      "\n"
     ]
    }
   ],
   "source": [
    "# Using with Construct to open and reading a file:\n",
    "\n",
    "with open('moby_dick.txt', 'r') as file:\n",
    "    print(file.readline())\n",
    "    print(file.readline())\n",
    "    print(file.readline())"
   ]
  },
  {
   "cell_type": "code",
   "execution_count": null,
   "id": "e6de107f",
   "metadata": {},
   "outputs": [],
   "source": []
  }
 ],
 "metadata": {
  "kernelspec": {
   "display_name": "Python 3 (ipykernel)",
   "language": "python",
   "name": "python3"
  },
  "language_info": {
   "codemirror_mode": {
    "name": "ipython",
    "version": 3
   },
   "file_extension": ".py",
   "mimetype": "text/x-python",
   "name": "python",
   "nbconvert_exporter": "python",
   "pygments_lexer": "ipython3",
   "version": "3.9.13"
  }
 },
 "nbformat": 4,
 "nbformat_minor": 5
}
